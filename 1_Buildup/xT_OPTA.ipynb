{
 "cells": [
  {
   "cell_type": "code",
   "execution_count": 1,
   "id": "7ab0fe45",
   "metadata": {},
   "outputs": [
    {
     "data": {
      "text/html": [
       "<pre style=\"white-space:pre;overflow-x:auto;line-height:normal;font-family:Menlo,'DejaVu Sans Mono',consolas,'Courier New',monospace\"><span style=\"color: #7fbfbf; text-decoration-color: #7fbfbf\">[11/14/23 01:12:14] </span><span style=\"color: #000080; text-decoration-color: #000080\">INFO    </span> Custom team name replacements loaded from                                <a href=\"file://C:\\Users\\aleex\\AppData\\Roaming\\Python\\Python39\\site-packages\\soccerdata\\_config.py\" target=\"_blank\"><span style=\"color: #7f7f7f; text-decoration-color: #7f7f7f\">_config.py</span></a><span style=\"color: #7f7f7f; text-decoration-color: #7f7f7f\">:</span><a href=\"file://C:\\Users\\aleex\\AppData\\Roaming\\Python\\Python39\\site-packages\\soccerdata\\_config.py#83\" target=\"_blank\"><span style=\"color: #7f7f7f; text-decoration-color: #7f7f7f\">83</span></a>\n",
       "<span style=\"color: #7fbfbf; text-decoration-color: #7fbfbf\">                    </span>         C:\\Users\\aleex\\soccerdata\\config\\teamname_replacements.json.             <span style=\"color: #7f7f7f; text-decoration-color: #7f7f7f\">             </span>\n",
       "</pre>\n"
      ],
      "text/plain": [
       "\u001b[2;36m[11/14/23 01:12:14]\u001b[0m\u001b[2;36m \u001b[0m\u001b[34mINFO    \u001b[0m Custom team name replacements loaded from                                \u001b]8;id=927245;file://C:\\Users\\aleex\\AppData\\Roaming\\Python\\Python39\\site-packages\\soccerdata\\_config.py\u001b\\\u001b[2m_config.py\u001b[0m\u001b]8;;\u001b\\\u001b[2m:\u001b[0m\u001b]8;id=813182;file://C:\\Users\\aleex\\AppData\\Roaming\\Python\\Python39\\site-packages\\soccerdata\\_config.py#83\u001b\\\u001b[2m83\u001b[0m\u001b]8;;\u001b\\\n",
       "\u001b[2;36m                    \u001b[0m         C:\\Users\\aleex\\soccerdata\\config\\teamname_replacements.json.             \u001b[2m             \u001b[0m\n"
      ]
     },
     "metadata": {},
     "output_type": "display_data"
    },
    {
     "data": {
      "text/html": [
       "<pre style=\"white-space:pre;overflow-x:auto;line-height:normal;font-family:Menlo,'DejaVu Sans Mono',consolas,'Courier New',monospace\"><span style=\"color: #7fbfbf; text-decoration-color: #7fbfbf\">                    </span><span style=\"color: #000080; text-decoration-color: #000080\">INFO    </span> Custom league dict loaded from                                          <a href=\"file://C:\\Users\\aleex\\AppData\\Roaming\\Python\\Python39\\site-packages\\soccerdata\\_config.py\" target=\"_blank\"><span style=\"color: #7f7f7f; text-decoration-color: #7f7f7f\">_config.py</span></a><span style=\"color: #7f7f7f; text-decoration-color: #7f7f7f\">:</span><a href=\"file://C:\\Users\\aleex\\AppData\\Roaming\\Python\\Python39\\site-packages\\soccerdata\\_config.py#157\" target=\"_blank\"><span style=\"color: #7f7f7f; text-decoration-color: #7f7f7f\">157</span></a>\n",
       "<span style=\"color: #7fbfbf; text-decoration-color: #7fbfbf\">                    </span>         C:\\Users\\aleex\\soccerdata\\config\\league_dict.json.                      <span style=\"color: #7f7f7f; text-decoration-color: #7f7f7f\">              </span>\n",
       "</pre>\n"
      ],
      "text/plain": [
       "\u001b[2;36m                   \u001b[0m\u001b[2;36m \u001b[0m\u001b[34mINFO    \u001b[0m Custom league dict loaded from                                          \u001b]8;id=116339;file://C:\\Users\\aleex\\AppData\\Roaming\\Python\\Python39\\site-packages\\soccerdata\\_config.py\u001b\\\u001b[2m_config.py\u001b[0m\u001b]8;;\u001b\\\u001b[2m:\u001b[0m\u001b]8;id=425443;file://C:\\Users\\aleex\\AppData\\Roaming\\Python\\Python39\\site-packages\\soccerdata\\_config.py#157\u001b\\\u001b[2m157\u001b[0m\u001b]8;;\u001b\\\n",
       "\u001b[2;36m                    \u001b[0m         C:\\Users\\aleex\\soccerdata\\config\\league_dict.json.                      \u001b[2m              \u001b[0m\n"
      ]
     },
     "metadata": {},
     "output_type": "display_data"
    },
    {
     "data": {
      "text/plain": [
       "<statsmodels.genmod.generalized_linear_model.GLMResultsWrapper at 0x1d940903370>"
      ]
     },
     "execution_count": 1,
     "metadata": {},
     "output_type": "execute_result"
    }
   ],
   "source": [
    "import pandas as pd\n",
    "import matplotlib.pyplot as plt\n",
    "import matplotlib.ticker as ticker\n",
    "from highlight_text import fig_text\n",
    "import pickle\n",
    "from xgboost import XGBClassifier\n",
    "import xgboost as xgb\n",
    "import soccerdata as sd\n",
    "import socceraction.vaep.features as features\n",
    "import socceraction.vaep.labels as labels\n",
    "import socceraction.vaep.formula as formula\n",
    "import utils\n",
    "from selenium import webdriver\n",
    "from selenium.webdriver.chrome.service import Service\n",
    "import numpy as np\n",
    "from itertools import combinations_with_replacement\n",
    "from sklearn.linear_model import LinearRegression\n",
    "from mplsoccer import Pitch,FontManager,add_image\n",
    "from scipy.stats import binned_statistic_2d\n",
    "\n",
    "filename = \"xg_model_wy.sav\"\n",
    "xg_model = pickle.load(open(filename, 'rb'))\n",
    "xg_model"
   ]
  },
  {
   "cell_type": "code",
   "execution_count": 2,
   "id": "1834637d",
   "metadata": {},
   "outputs": [],
   "source": [
    "instat_x = 105 # largo del campo\n",
    "instat_y = 68 # ancho del campo\n",
    "box_x = 16.5 # medida área x\n",
    "ancho_porteria = 7.32\n",
    "box_y = box_x + ancho_porteria/2 # medida área y"
   ]
  },
  {
   "cell_type": "code",
   "execution_count": 3,
   "id": "7552028c",
   "metadata": {},
   "outputs": [
    {
     "data": {
      "text/html": [
       "<pre style=\"white-space:pre;overflow-x:auto;line-height:normal;font-family:Menlo,'DejaVu Sans Mono',consolas,'Courier New',monospace\"><span style=\"color: #7fbfbf; text-decoration-color: #7fbfbf\">[11/14/23 01:12:15] </span><span style=\"color: #000080; text-decoration-color: #000080\">INFO    </span> Saving cached data to C:\\Users\\aleex\\soccerdata\\data\\WhoScored           <a href=\"file://C:\\Users\\aleex\\AppData\\Roaming\\Python\\Python39\\site-packages\\soccerdata\\_common.py\" target=\"_blank\"><span style=\"color: #7f7f7f; text-decoration-color: #7f7f7f\">_common.py</span></a><span style=\"color: #7f7f7f; text-decoration-color: #7f7f7f\">:</span><a href=\"file://C:\\Users\\aleex\\AppData\\Roaming\\Python\\Python39\\site-packages\\soccerdata\\_common.py#89\" target=\"_blank\"><span style=\"color: #7f7f7f; text-decoration-color: #7f7f7f\">89</span></a>\n",
       "</pre>\n"
      ],
      "text/plain": [
       "\u001b[2;36m[11/14/23 01:12:15]\u001b[0m\u001b[2;36m \u001b[0m\u001b[34mINFO    \u001b[0m Saving cached data to C:\\Users\\aleex\\soccerdata\\data\\WhoScored           \u001b]8;id=509877;file://C:\\Users\\aleex\\AppData\\Roaming\\Python\\Python39\\site-packages\\soccerdata\\_common.py\u001b\\\u001b[2m_common.py\u001b[0m\u001b]8;;\u001b\\\u001b[2m:\u001b[0m\u001b]8;id=371401;file://C:\\Users\\aleex\\AppData\\Roaming\\Python\\Python39\\site-packages\\soccerdata\\_common.py#89\u001b\\\u001b[2m89\u001b[0m\u001b]8;;\u001b\\\n"
      ]
     },
     "metadata": {},
     "output_type": "display_data"
    },
    {
     "data": {
      "text/html": [
       "<pre style=\"white-space:pre;overflow-x:auto;line-height:normal;font-family:Menlo,'DejaVu Sans Mono',consolas,'Courier New',monospace\"><span style=\"color: #7fbfbf; text-decoration-color: #7fbfbf\">[11/14/23 01:12:46] </span><span style=\"color: #000080; text-decoration-color: #000080\">INFO    </span> patching driver executable                                              <a href=\"file://C:\\Users\\aleex\\AppData\\Roaming\\Python\\Python39\\site-packages\\undetected_chromedriver\\patcher.py\" target=\"_blank\"><span style=\"color: #7f7f7f; text-decoration-color: #7f7f7f\">patcher.py</span></a><span style=\"color: #7f7f7f; text-decoration-color: #7f7f7f\">:</span><a href=\"file://C:\\Users\\aleex\\AppData\\Roaming\\Python\\Python39\\site-packages\\undetected_chromedriver\\patcher.py#346\" target=\"_blank\"><span style=\"color: #7f7f7f; text-decoration-color: #7f7f7f\">346</span></a>\n",
       "<span style=\"color: #7fbfbf; text-decoration-color: #7fbfbf\">                    </span>         C:\\Users\\aleex\\appdata\\roaming\\undetected_chromedriver\\undetected_chrom <span style=\"color: #7f7f7f; text-decoration-color: #7f7f7f\">              </span>\n",
       "<span style=\"color: #7fbfbf; text-decoration-color: #7fbfbf\">                    </span>         edriver.exe                                                             <span style=\"color: #7f7f7f; text-decoration-color: #7f7f7f\">              </span>\n",
       "</pre>\n"
      ],
      "text/plain": [
       "\u001b[2;36m[11/14/23 01:12:46]\u001b[0m\u001b[2;36m \u001b[0m\u001b[34mINFO    \u001b[0m patching driver executable                                              \u001b]8;id=814657;file://C:\\Users\\aleex\\AppData\\Roaming\\Python\\Python39\\site-packages\\undetected_chromedriver\\patcher.py\u001b\\\u001b[2mpatcher.py\u001b[0m\u001b]8;;\u001b\\\u001b[2m:\u001b[0m\u001b]8;id=310444;file://C:\\Users\\aleex\\AppData\\Roaming\\Python\\Python39\\site-packages\\undetected_chromedriver\\patcher.py#346\u001b\\\u001b[2m346\u001b[0m\u001b]8;;\u001b\\\n",
       "\u001b[2;36m                    \u001b[0m         C:\\Users\\aleex\\appdata\\roaming\\undetected_chromedriver\\undetected_chrom \u001b[2m              \u001b[0m\n",
       "\u001b[2;36m                    \u001b[0m         edriver.exe                                                             \u001b[2m              \u001b[0m\n"
      ]
     },
     "metadata": {},
     "output_type": "display_data"
    },
    {
     "data": {
      "text/html": [
       "<pre style=\"white-space:pre;overflow-x:auto;line-height:normal;font-family:Menlo,'DejaVu Sans Mono',consolas,'Courier New',monospace\"><span style=\"color: #7fbfbf; text-decoration-color: #7fbfbf\">[11/14/23 01:12:49] </span><span style=\"color: #000080; text-decoration-color: #000080\">INFO    </span> Retrieving game schedule of ENG-Premier League - <span style=\"color: #008080; text-decoration-color: #008080; font-weight: bold\">2223</span> from the cache  <a href=\"file://C:\\Users\\aleex\\AppData\\Roaming\\Python\\Python39\\site-packages\\soccerdata\\whoscored.py\" target=\"_blank\"><span style=\"color: #7f7f7f; text-decoration-color: #7f7f7f\">whoscored.py</span></a><span style=\"color: #7f7f7f; text-decoration-color: #7f7f7f\">:</span><a href=\"file://C:\\Users\\aleex\\AppData\\Roaming\\Python\\Python39\\site-packages\\soccerdata\\whoscored.py#434\" target=\"_blank\"><span style=\"color: #7f7f7f; text-decoration-color: #7f7f7f\">434</span></a>\n",
       "</pre>\n"
      ],
      "text/plain": [
       "\u001b[2;36m[11/14/23 01:12:49]\u001b[0m\u001b[2;36m \u001b[0m\u001b[34mINFO    \u001b[0m Retrieving game schedule of ENG-Premier League - \u001b[1;36m2223\u001b[0m from the cache  \u001b]8;id=620573;file://C:\\Users\\aleex\\AppData\\Roaming\\Python\\Python39\\site-packages\\soccerdata\\whoscored.py\u001b\\\u001b[2mwhoscored.py\u001b[0m\u001b]8;;\u001b\\\u001b[2m:\u001b[0m\u001b]8;id=861187;file://C:\\Users\\aleex\\AppData\\Roaming\\Python\\Python39\\site-packages\\soccerdata\\whoscored.py#434\u001b\\\u001b[2m434\u001b[0m\u001b]8;;\u001b\\\n"
      ]
     },
     "metadata": {},
     "output_type": "display_data"
    }
   ],
   "source": [
    "comp = \"ENG-Premier League\"\n",
    "season = 2223\n",
    "\n",
    "\n",
    "\n",
    "ws = sd.WhoScored(leagues=comp, seasons=season)\n",
    "games = ws.read_schedule()\n",
    "matches = games[(games.home_team.str.contains(\"Arsenal\")) | (games.away_team.str.contains(\"Arsenal\"))].game_id.unique()"
   ]
  },
  {
   "cell_type": "code",
   "execution_count": 4,
   "id": "b918fb6a",
   "metadata": {},
   "outputs": [
    {
     "name": "stdout",
     "output_type": "stream",
     "text": [
      "1 / 38\n"
     ]
    },
    {
     "data": {
      "text/html": [
       "<pre style=\"white-space:pre;overflow-x:auto;line-height:normal;font-family:Menlo,'DejaVu Sans Mono',consolas,'Courier New',monospace\"><span style=\"color: #7fbfbf; text-decoration-color: #7fbfbf\">                    </span><span style=\"color: #000080; text-decoration-color: #000080\">INFO    </span> Retrieving game schedule of ENG-Premier League - <span style=\"color: #008080; text-decoration-color: #008080; font-weight: bold\">2223</span> from the cache  <a href=\"file://C:\\Users\\aleex\\AppData\\Roaming\\Python\\Python39\\site-packages\\soccerdata\\whoscored.py\" target=\"_blank\"><span style=\"color: #7f7f7f; text-decoration-color: #7f7f7f\">whoscored.py</span></a><span style=\"color: #7f7f7f; text-decoration-color: #7f7f7f\">:</span><a href=\"file://C:\\Users\\aleex\\AppData\\Roaming\\Python\\Python39\\site-packages\\soccerdata\\whoscored.py#434\" target=\"_blank\"><span style=\"color: #7f7f7f; text-decoration-color: #7f7f7f\">434</span></a>\n",
       "</pre>\n"
      ],
      "text/plain": [
       "\u001b[2;36m                   \u001b[0m\u001b[2;36m \u001b[0m\u001b[34mINFO    \u001b[0m Retrieving game schedule of ENG-Premier League - \u001b[1;36m2223\u001b[0m from the cache  \u001b]8;id=415020;file://C:\\Users\\aleex\\AppData\\Roaming\\Python\\Python39\\site-packages\\soccerdata\\whoscored.py\u001b\\\u001b[2mwhoscored.py\u001b[0m\u001b]8;;\u001b\\\u001b[2m:\u001b[0m\u001b]8;id=974861;file://C:\\Users\\aleex\\AppData\\Roaming\\Python\\Python39\\site-packages\\soccerdata\\whoscored.py#434\u001b\\\u001b[2m434\u001b[0m\u001b]8;;\u001b\\\n"
      ]
     },
     "metadata": {},
     "output_type": "display_data"
    },
    {
     "data": {
      "text/html": [
       "<pre style=\"white-space:pre;overflow-x:auto;line-height:normal;font-family:Menlo,'DejaVu Sans Mono',consolas,'Courier New',monospace\"><span style=\"color: #7fbfbf; text-decoration-color: #7fbfbf\">                    </span><span style=\"color: #000080; text-decoration-color: #000080\">INFO    </span> <span style=\"font-weight: bold\">[</span><span style=\"color: #008080; text-decoration-color: #008080; font-weight: bold\">1</span>/<span style=\"color: #008080; text-decoration-color: #008080; font-weight: bold\">1</span><span style=\"font-weight: bold\">]</span> Retrieving game with <span style=\"color: #808000; text-decoration-color: #808000\">id</span>=<span style=\"color: #008080; text-decoration-color: #008080; font-weight: bold\">1640674</span>                                 <a href=\"file://C:\\Users\\aleex\\AppData\\Roaming\\Python\\Python39\\site-packages\\soccerdata\\whoscored.py\" target=\"_blank\"><span style=\"color: #7f7f7f; text-decoration-color: #7f7f7f\">whoscored.py</span></a><span style=\"color: #7f7f7f; text-decoration-color: #7f7f7f\">:</span><a href=\"file://C:\\Users\\aleex\\AppData\\Roaming\\Python\\Python39\\site-packages\\soccerdata\\whoscored.py#683\" target=\"_blank\"><span style=\"color: #7f7f7f; text-decoration-color: #7f7f7f\">683</span></a>\n",
       "</pre>\n"
      ],
      "text/plain": [
       "\u001b[2;36m                   \u001b[0m\u001b[2;36m \u001b[0m\u001b[34mINFO    \u001b[0m \u001b[1m[\u001b[0m\u001b[1;36m1\u001b[0m/\u001b[1;36m1\u001b[0m\u001b[1m]\u001b[0m Retrieving game with \u001b[33mid\u001b[0m=\u001b[1;36m1640674\u001b[0m                                 \u001b]8;id=228296;file://C:\\Users\\aleex\\AppData\\Roaming\\Python\\Python39\\site-packages\\soccerdata\\whoscored.py\u001b\\\u001b[2mwhoscored.py\u001b[0m\u001b]8;;\u001b\\\u001b[2m:\u001b[0m\u001b]8;id=955878;file://C:\\Users\\aleex\\AppData\\Roaming\\Python\\Python39\\site-packages\\soccerdata\\whoscored.py#683\u001b\\\u001b[2m683\u001b[0m\u001b]8;;\u001b\\\n"
      ]
     },
     "metadata": {},
     "output_type": "display_data"
    },
    {
     "name": "stderr",
     "output_type": "stream",
     "text": [
      "C:\\Users\\aleex\\anaconda3\\lib\\site-packages\\utils.py:54: SettingWithCopyWarning:\n",
      "\n",
      "\n",
      "A value is trying to be set on a copy of a slice from a DataFrame.\n",
      "Try using .loc[row_indexer,col_indexer] = value instead\n",
      "\n",
      "See the caveats in the documentation: https://pandas.pydata.org/pandas-docs/stable/user_guide/indexing.html#returning-a-view-versus-a-copy\n",
      "\n",
      "C:\\Users\\aleex\\anaconda3\\lib\\site-packages\\utils.py:56: SettingWithCopyWarning:\n",
      "\n",
      "\n",
      "A value is trying to be set on a copy of a slice from a DataFrame.\n",
      "Try using .loc[row_indexer,col_indexer] = value instead\n",
      "\n",
      "See the caveats in the documentation: https://pandas.pydata.org/pandas-docs/stable/user_guide/indexing.html#returning-a-view-versus-a-copy\n",
      "\n",
      "C:\\Users\\aleex\\anaconda3\\lib\\site-packages\\utils.py:58: SettingWithCopyWarning:\n",
      "\n",
      "\n",
      "A value is trying to be set on a copy of a slice from a DataFrame.\n",
      "Try using .loc[row_indexer,col_indexer] = value instead\n",
      "\n",
      "See the caveats in the documentation: https://pandas.pydata.org/pandas-docs/stable/user_guide/indexing.html#returning-a-view-versus-a-copy\n",
      "\n"
     ]
    },
    {
     "name": "stdout",
     "output_type": "stream",
     "text": [
      "2 / 38\n"
     ]
    },
    {
     "data": {
      "text/html": [
       "<pre style=\"white-space:pre;overflow-x:auto;line-height:normal;font-family:Menlo,'DejaVu Sans Mono',consolas,'Courier New',monospace\"><span style=\"color: #7fbfbf; text-decoration-color: #7fbfbf\">                    </span><span style=\"color: #000080; text-decoration-color: #000080\">INFO    </span> Retrieving game schedule of ENG-Premier League - <span style=\"color: #008080; text-decoration-color: #008080; font-weight: bold\">2223</span> from the cache  <a href=\"file://C:\\Users\\aleex\\AppData\\Roaming\\Python\\Python39\\site-packages\\soccerdata\\whoscored.py\" target=\"_blank\"><span style=\"color: #7f7f7f; text-decoration-color: #7f7f7f\">whoscored.py</span></a><span style=\"color: #7f7f7f; text-decoration-color: #7f7f7f\">:</span><a href=\"file://C:\\Users\\aleex\\AppData\\Roaming\\Python\\Python39\\site-packages\\soccerdata\\whoscored.py#434\" target=\"_blank\"><span style=\"color: #7f7f7f; text-decoration-color: #7f7f7f\">434</span></a>\n",
       "</pre>\n"
      ],
      "text/plain": [
       "\u001b[2;36m                   \u001b[0m\u001b[2;36m \u001b[0m\u001b[34mINFO    \u001b[0m Retrieving game schedule of ENG-Premier League - \u001b[1;36m2223\u001b[0m from the cache  \u001b]8;id=458408;file://C:\\Users\\aleex\\AppData\\Roaming\\Python\\Python39\\site-packages\\soccerdata\\whoscored.py\u001b\\\u001b[2mwhoscored.py\u001b[0m\u001b]8;;\u001b\\\u001b[2m:\u001b[0m\u001b]8;id=587197;file://C:\\Users\\aleex\\AppData\\Roaming\\Python\\Python39\\site-packages\\soccerdata\\whoscored.py#434\u001b\\\u001b[2m434\u001b[0m\u001b]8;;\u001b\\\n"
      ]
     },
     "metadata": {},
     "output_type": "display_data"
    },
    {
     "data": {
      "text/html": [
       "<pre style=\"white-space:pre;overflow-x:auto;line-height:normal;font-family:Menlo,'DejaVu Sans Mono',consolas,'Courier New',monospace\"><span style=\"color: #7fbfbf; text-decoration-color: #7fbfbf\">                    </span><span style=\"color: #000080; text-decoration-color: #000080\">INFO    </span> <span style=\"font-weight: bold\">[</span><span style=\"color: #008080; text-decoration-color: #008080; font-weight: bold\">1</span>/<span style=\"color: #008080; text-decoration-color: #008080; font-weight: bold\">1</span><span style=\"font-weight: bold\">]</span> Retrieving game with <span style=\"color: #808000; text-decoration-color: #808000\">id</span>=<span style=\"color: #008080; text-decoration-color: #008080; font-weight: bold\">1640684</span>                                 <a href=\"file://C:\\Users\\aleex\\AppData\\Roaming\\Python\\Python39\\site-packages\\soccerdata\\whoscored.py\" target=\"_blank\"><span style=\"color: #7f7f7f; text-decoration-color: #7f7f7f\">whoscored.py</span></a><span style=\"color: #7f7f7f; text-decoration-color: #7f7f7f\">:</span><a href=\"file://C:\\Users\\aleex\\AppData\\Roaming\\Python\\Python39\\site-packages\\soccerdata\\whoscored.py#683\" target=\"_blank\"><span style=\"color: #7f7f7f; text-decoration-color: #7f7f7f\">683</span></a>\n",
       "</pre>\n"
      ],
      "text/plain": [
       "\u001b[2;36m                   \u001b[0m\u001b[2;36m \u001b[0m\u001b[34mINFO    \u001b[0m \u001b[1m[\u001b[0m\u001b[1;36m1\u001b[0m/\u001b[1;36m1\u001b[0m\u001b[1m]\u001b[0m Retrieving game with \u001b[33mid\u001b[0m=\u001b[1;36m1640684\u001b[0m                                 \u001b]8;id=8599;file://C:\\Users\\aleex\\AppData\\Roaming\\Python\\Python39\\site-packages\\soccerdata\\whoscored.py\u001b\\\u001b[2mwhoscored.py\u001b[0m\u001b]8;;\u001b\\\u001b[2m:\u001b[0m\u001b]8;id=744918;file://C:\\Users\\aleex\\AppData\\Roaming\\Python\\Python39\\site-packages\\soccerdata\\whoscored.py#683\u001b\\\u001b[2m683\u001b[0m\u001b]8;;\u001b\\\n"
      ]
     },
     "metadata": {},
     "output_type": "display_data"
    },
    {
     "name": "stdout",
     "output_type": "stream",
     "text": [
      "3 / 38\n"
     ]
    },
    {
     "data": {
      "text/html": [
       "<pre style=\"white-space:pre;overflow-x:auto;line-height:normal;font-family:Menlo,'DejaVu Sans Mono',consolas,'Courier New',monospace\"><span style=\"color: #7fbfbf; text-decoration-color: #7fbfbf\">[11/14/23 01:12:50] </span><span style=\"color: #000080; text-decoration-color: #000080\">INFO    </span> Retrieving game schedule of ENG-Premier League - <span style=\"color: #008080; text-decoration-color: #008080; font-weight: bold\">2223</span> from the cache  <a href=\"file://C:\\Users\\aleex\\AppData\\Roaming\\Python\\Python39\\site-packages\\soccerdata\\whoscored.py\" target=\"_blank\"><span style=\"color: #7f7f7f; text-decoration-color: #7f7f7f\">whoscored.py</span></a><span style=\"color: #7f7f7f; text-decoration-color: #7f7f7f\">:</span><a href=\"file://C:\\Users\\aleex\\AppData\\Roaming\\Python\\Python39\\site-packages\\soccerdata\\whoscored.py#434\" target=\"_blank\"><span style=\"color: #7f7f7f; text-decoration-color: #7f7f7f\">434</span></a>\n",
       "</pre>\n"
      ],
      "text/plain": [
       "\u001b[2;36m[11/14/23 01:12:50]\u001b[0m\u001b[2;36m \u001b[0m\u001b[34mINFO    \u001b[0m Retrieving game schedule of ENG-Premier League - \u001b[1;36m2223\u001b[0m from the cache  \u001b]8;id=537751;file://C:\\Users\\aleex\\AppData\\Roaming\\Python\\Python39\\site-packages\\soccerdata\\whoscored.py\u001b\\\u001b[2mwhoscored.py\u001b[0m\u001b]8;;\u001b\\\u001b[2m:\u001b[0m\u001b]8;id=591890;file://C:\\Users\\aleex\\AppData\\Roaming\\Python\\Python39\\site-packages\\soccerdata\\whoscored.py#434\u001b\\\u001b[2m434\u001b[0m\u001b]8;;\u001b\\\n"
      ]
     },
     "metadata": {},
     "output_type": "display_data"
    },
    {
     "data": {
      "text/html": [
       "<pre style=\"white-space:pre;overflow-x:auto;line-height:normal;font-family:Menlo,'DejaVu Sans Mono',consolas,'Courier New',monospace\"><span style=\"color: #7fbfbf; text-decoration-color: #7fbfbf\">                    </span><span style=\"color: #000080; text-decoration-color: #000080\">INFO    </span> <span style=\"font-weight: bold\">[</span><span style=\"color: #008080; text-decoration-color: #008080; font-weight: bold\">1</span>/<span style=\"color: #008080; text-decoration-color: #008080; font-weight: bold\">1</span><span style=\"font-weight: bold\">]</span> Retrieving game with <span style=\"color: #808000; text-decoration-color: #808000\">id</span>=<span style=\"color: #008080; text-decoration-color: #008080; font-weight: bold\">1640694</span>                                 <a href=\"file://C:\\Users\\aleex\\AppData\\Roaming\\Python\\Python39\\site-packages\\soccerdata\\whoscored.py\" target=\"_blank\"><span style=\"color: #7f7f7f; text-decoration-color: #7f7f7f\">whoscored.py</span></a><span style=\"color: #7f7f7f; text-decoration-color: #7f7f7f\">:</span><a href=\"file://C:\\Users\\aleex\\AppData\\Roaming\\Python\\Python39\\site-packages\\soccerdata\\whoscored.py#683\" target=\"_blank\"><span style=\"color: #7f7f7f; text-decoration-color: #7f7f7f\">683</span></a>\n",
       "</pre>\n"
      ],
      "text/plain": [
       "\u001b[2;36m                   \u001b[0m\u001b[2;36m \u001b[0m\u001b[34mINFO    \u001b[0m \u001b[1m[\u001b[0m\u001b[1;36m1\u001b[0m/\u001b[1;36m1\u001b[0m\u001b[1m]\u001b[0m Retrieving game with \u001b[33mid\u001b[0m=\u001b[1;36m1640694\u001b[0m                                 \u001b]8;id=607684;file://C:\\Users\\aleex\\AppData\\Roaming\\Python\\Python39\\site-packages\\soccerdata\\whoscored.py\u001b\\\u001b[2mwhoscored.py\u001b[0m\u001b]8;;\u001b\\\u001b[2m:\u001b[0m\u001b]8;id=773131;file://C:\\Users\\aleex\\AppData\\Roaming\\Python\\Python39\\site-packages\\soccerdata\\whoscored.py#683\u001b\\\u001b[2m683\u001b[0m\u001b]8;;\u001b\\\n"
      ]
     },
     "metadata": {},
     "output_type": "display_data"
    },
    {
     "name": "stdout",
     "output_type": "stream",
     "text": [
      "4 / 38\n"
     ]
    },
    {
     "data": {
      "text/html": [
       "<pre style=\"white-space:pre;overflow-x:auto;line-height:normal;font-family:Menlo,'DejaVu Sans Mono',consolas,'Courier New',monospace\"><span style=\"color: #7fbfbf; text-decoration-color: #7fbfbf\">                    </span><span style=\"color: #000080; text-decoration-color: #000080\">INFO    </span> Retrieving game schedule of ENG-Premier League - <span style=\"color: #008080; text-decoration-color: #008080; font-weight: bold\">2223</span> from the cache  <a href=\"file://C:\\Users\\aleex\\AppData\\Roaming\\Python\\Python39\\site-packages\\soccerdata\\whoscored.py\" target=\"_blank\"><span style=\"color: #7f7f7f; text-decoration-color: #7f7f7f\">whoscored.py</span></a><span style=\"color: #7f7f7f; text-decoration-color: #7f7f7f\">:</span><a href=\"file://C:\\Users\\aleex\\AppData\\Roaming\\Python\\Python39\\site-packages\\soccerdata\\whoscored.py#434\" target=\"_blank\"><span style=\"color: #7f7f7f; text-decoration-color: #7f7f7f\">434</span></a>\n",
       "</pre>\n"
      ],
      "text/plain": [
       "\u001b[2;36m                   \u001b[0m\u001b[2;36m \u001b[0m\u001b[34mINFO    \u001b[0m Retrieving game schedule of ENG-Premier League - \u001b[1;36m2223\u001b[0m from the cache  \u001b]8;id=270695;file://C:\\Users\\aleex\\AppData\\Roaming\\Python\\Python39\\site-packages\\soccerdata\\whoscored.py\u001b\\\u001b[2mwhoscored.py\u001b[0m\u001b]8;;\u001b\\\u001b[2m:\u001b[0m\u001b]8;id=107936;file://C:\\Users\\aleex\\AppData\\Roaming\\Python\\Python39\\site-packages\\soccerdata\\whoscored.py#434\u001b\\\u001b[2m434\u001b[0m\u001b]8;;\u001b\\\n"
      ]
     },
     "metadata": {},
     "output_type": "display_data"
    },
    {
     "data": {
      "text/html": [
       "<pre style=\"white-space:pre;overflow-x:auto;line-height:normal;font-family:Menlo,'DejaVu Sans Mono',consolas,'Courier New',monospace\"><span style=\"color: #7fbfbf; text-decoration-color: #7fbfbf\">                    </span><span style=\"color: #000080; text-decoration-color: #000080\">INFO    </span> <span style=\"font-weight: bold\">[</span><span style=\"color: #008080; text-decoration-color: #008080; font-weight: bold\">1</span>/<span style=\"color: #008080; text-decoration-color: #008080; font-weight: bold\">1</span><span style=\"font-weight: bold\">]</span> Retrieving game with <span style=\"color: #808000; text-decoration-color: #808000\">id</span>=<span style=\"color: #008080; text-decoration-color: #008080; font-weight: bold\">1640704</span>                                 <a href=\"file://C:\\Users\\aleex\\AppData\\Roaming\\Python\\Python39\\site-packages\\soccerdata\\whoscored.py\" target=\"_blank\"><span style=\"color: #7f7f7f; text-decoration-color: #7f7f7f\">whoscored.py</span></a><span style=\"color: #7f7f7f; text-decoration-color: #7f7f7f\">:</span><a href=\"file://C:\\Users\\aleex\\AppData\\Roaming\\Python\\Python39\\site-packages\\soccerdata\\whoscored.py#683\" target=\"_blank\"><span style=\"color: #7f7f7f; text-decoration-color: #7f7f7f\">683</span></a>\n",
       "</pre>\n"
      ],
      "text/plain": [
       "\u001b[2;36m                   \u001b[0m\u001b[2;36m \u001b[0m\u001b[34mINFO    \u001b[0m \u001b[1m[\u001b[0m\u001b[1;36m1\u001b[0m/\u001b[1;36m1\u001b[0m\u001b[1m]\u001b[0m Retrieving game with \u001b[33mid\u001b[0m=\u001b[1;36m1640704\u001b[0m                                 \u001b]8;id=69370;file://C:\\Users\\aleex\\AppData\\Roaming\\Python\\Python39\\site-packages\\soccerdata\\whoscored.py\u001b\\\u001b[2mwhoscored.py\u001b[0m\u001b]8;;\u001b\\\u001b[2m:\u001b[0m\u001b]8;id=252498;file://C:\\Users\\aleex\\AppData\\Roaming\\Python\\Python39\\site-packages\\soccerdata\\whoscored.py#683\u001b\\\u001b[2m683\u001b[0m\u001b]8;;\u001b\\\n"
      ]
     },
     "metadata": {},
     "output_type": "display_data"
    },
    {
     "name": "stdout",
     "output_type": "stream",
     "text": [
      "5 / 38\n"
     ]
    },
    {
     "data": {
      "text/html": [
       "<pre style=\"white-space:pre;overflow-x:auto;line-height:normal;font-family:Menlo,'DejaVu Sans Mono',consolas,'Courier New',monospace\"><span style=\"color: #7fbfbf; text-decoration-color: #7fbfbf\">[11/14/23 01:12:51] </span><span style=\"color: #000080; text-decoration-color: #000080\">INFO    </span> Retrieving game schedule of ENG-Premier League - <span style=\"color: #008080; text-decoration-color: #008080; font-weight: bold\">2223</span> from the cache  <a href=\"file://C:\\Users\\aleex\\AppData\\Roaming\\Python\\Python39\\site-packages\\soccerdata\\whoscored.py\" target=\"_blank\"><span style=\"color: #7f7f7f; text-decoration-color: #7f7f7f\">whoscored.py</span></a><span style=\"color: #7f7f7f; text-decoration-color: #7f7f7f\">:</span><a href=\"file://C:\\Users\\aleex\\AppData\\Roaming\\Python\\Python39\\site-packages\\soccerdata\\whoscored.py#434\" target=\"_blank\"><span style=\"color: #7f7f7f; text-decoration-color: #7f7f7f\">434</span></a>\n",
       "</pre>\n"
      ],
      "text/plain": [
       "\u001b[2;36m[11/14/23 01:12:51]\u001b[0m\u001b[2;36m \u001b[0m\u001b[34mINFO    \u001b[0m Retrieving game schedule of ENG-Premier League - \u001b[1;36m2223\u001b[0m from the cache  \u001b]8;id=213204;file://C:\\Users\\aleex\\AppData\\Roaming\\Python\\Python39\\site-packages\\soccerdata\\whoscored.py\u001b\\\u001b[2mwhoscored.py\u001b[0m\u001b]8;;\u001b\\\u001b[2m:\u001b[0m\u001b]8;id=112168;file://C:\\Users\\aleex\\AppData\\Roaming\\Python\\Python39\\site-packages\\soccerdata\\whoscored.py#434\u001b\\\u001b[2m434\u001b[0m\u001b]8;;\u001b\\\n"
      ]
     },
     "metadata": {},
     "output_type": "display_data"
    },
    {
     "data": {
      "text/html": [
       "<pre style=\"white-space:pre;overflow-x:auto;line-height:normal;font-family:Menlo,'DejaVu Sans Mono',consolas,'Courier New',monospace\"><span style=\"color: #7fbfbf; text-decoration-color: #7fbfbf\">                    </span><span style=\"color: #000080; text-decoration-color: #000080\">INFO    </span> <span style=\"font-weight: bold\">[</span><span style=\"color: #008080; text-decoration-color: #008080; font-weight: bold\">1</span>/<span style=\"color: #008080; text-decoration-color: #008080; font-weight: bold\">1</span><span style=\"font-weight: bold\">]</span> Retrieving game with <span style=\"color: #808000; text-decoration-color: #808000\">id</span>=<span style=\"color: #008080; text-decoration-color: #008080; font-weight: bold\">1640714</span>                                 <a href=\"file://C:\\Users\\aleex\\AppData\\Roaming\\Python\\Python39\\site-packages\\soccerdata\\whoscored.py\" target=\"_blank\"><span style=\"color: #7f7f7f; text-decoration-color: #7f7f7f\">whoscored.py</span></a><span style=\"color: #7f7f7f; text-decoration-color: #7f7f7f\">:</span><a href=\"file://C:\\Users\\aleex\\AppData\\Roaming\\Python\\Python39\\site-packages\\soccerdata\\whoscored.py#683\" target=\"_blank\"><span style=\"color: #7f7f7f; text-decoration-color: #7f7f7f\">683</span></a>\n",
       "</pre>\n"
      ],
      "text/plain": [
       "\u001b[2;36m                   \u001b[0m\u001b[2;36m \u001b[0m\u001b[34mINFO    \u001b[0m \u001b[1m[\u001b[0m\u001b[1;36m1\u001b[0m/\u001b[1;36m1\u001b[0m\u001b[1m]\u001b[0m Retrieving game with \u001b[33mid\u001b[0m=\u001b[1;36m1640714\u001b[0m                                 \u001b]8;id=584779;file://C:\\Users\\aleex\\AppData\\Roaming\\Python\\Python39\\site-packages\\soccerdata\\whoscored.py\u001b\\\u001b[2mwhoscored.py\u001b[0m\u001b]8;;\u001b\\\u001b[2m:\u001b[0m\u001b]8;id=113455;file://C:\\Users\\aleex\\AppData\\Roaming\\Python\\Python39\\site-packages\\soccerdata\\whoscored.py#683\u001b\\\u001b[2m683\u001b[0m\u001b]8;;\u001b\\\n"
      ]
     },
     "metadata": {},
     "output_type": "display_data"
    },
    {
     "name": "stdout",
     "output_type": "stream",
     "text": [
      "6 / 38\n"
     ]
    },
    {
     "data": {
      "text/html": [
       "<pre style=\"white-space:pre;overflow-x:auto;line-height:normal;font-family:Menlo,'DejaVu Sans Mono',consolas,'Courier New',monospace\"><span style=\"color: #7fbfbf; text-decoration-color: #7fbfbf\">[11/14/23 01:12:52] </span><span style=\"color: #000080; text-decoration-color: #000080\">INFO    </span> Retrieving game schedule of ENG-Premier League - <span style=\"color: #008080; text-decoration-color: #008080; font-weight: bold\">2223</span> from the cache  <a href=\"file://C:\\Users\\aleex\\AppData\\Roaming\\Python\\Python39\\site-packages\\soccerdata\\whoscored.py\" target=\"_blank\"><span style=\"color: #7f7f7f; text-decoration-color: #7f7f7f\">whoscored.py</span></a><span style=\"color: #7f7f7f; text-decoration-color: #7f7f7f\">:</span><a href=\"file://C:\\Users\\aleex\\AppData\\Roaming\\Python\\Python39\\site-packages\\soccerdata\\whoscored.py#434\" target=\"_blank\"><span style=\"color: #7f7f7f; text-decoration-color: #7f7f7f\">434</span></a>\n",
       "</pre>\n"
      ],
      "text/plain": [
       "\u001b[2;36m[11/14/23 01:12:52]\u001b[0m\u001b[2;36m \u001b[0m\u001b[34mINFO    \u001b[0m Retrieving game schedule of ENG-Premier League - \u001b[1;36m2223\u001b[0m from the cache  \u001b]8;id=882735;file://C:\\Users\\aleex\\AppData\\Roaming\\Python\\Python39\\site-packages\\soccerdata\\whoscored.py\u001b\\\u001b[2mwhoscored.py\u001b[0m\u001b]8;;\u001b\\\u001b[2m:\u001b[0m\u001b]8;id=586907;file://C:\\Users\\aleex\\AppData\\Roaming\\Python\\Python39\\site-packages\\soccerdata\\whoscored.py#434\u001b\\\u001b[2m434\u001b[0m\u001b]8;;\u001b\\\n"
      ]
     },
     "metadata": {},
     "output_type": "display_data"
    },
    {
     "data": {
      "text/html": [
       "<pre style=\"white-space:pre;overflow-x:auto;line-height:normal;font-family:Menlo,'DejaVu Sans Mono',consolas,'Courier New',monospace\"><span style=\"color: #7fbfbf; text-decoration-color: #7fbfbf\">                    </span><span style=\"color: #000080; text-decoration-color: #000080\">INFO    </span> <span style=\"font-weight: bold\">[</span><span style=\"color: #008080; text-decoration-color: #008080; font-weight: bold\">1</span>/<span style=\"color: #008080; text-decoration-color: #008080; font-weight: bold\">1</span><span style=\"font-weight: bold\">]</span> Retrieving game with <span style=\"color: #808000; text-decoration-color: #808000\">id</span>=<span style=\"color: #008080; text-decoration-color: #008080; font-weight: bold\">1640729</span>                                 <a href=\"file://C:\\Users\\aleex\\AppData\\Roaming\\Python\\Python39\\site-packages\\soccerdata\\whoscored.py\" target=\"_blank\"><span style=\"color: #7f7f7f; text-decoration-color: #7f7f7f\">whoscored.py</span></a><span style=\"color: #7f7f7f; text-decoration-color: #7f7f7f\">:</span><a href=\"file://C:\\Users\\aleex\\AppData\\Roaming\\Python\\Python39\\site-packages\\soccerdata\\whoscored.py#683\" target=\"_blank\"><span style=\"color: #7f7f7f; text-decoration-color: #7f7f7f\">683</span></a>\n",
       "</pre>\n"
      ],
      "text/plain": [
       "\u001b[2;36m                   \u001b[0m\u001b[2;36m \u001b[0m\u001b[34mINFO    \u001b[0m \u001b[1m[\u001b[0m\u001b[1;36m1\u001b[0m/\u001b[1;36m1\u001b[0m\u001b[1m]\u001b[0m Retrieving game with \u001b[33mid\u001b[0m=\u001b[1;36m1640729\u001b[0m                                 \u001b]8;id=343652;file://C:\\Users\\aleex\\AppData\\Roaming\\Python\\Python39\\site-packages\\soccerdata\\whoscored.py\u001b\\\u001b[2mwhoscored.py\u001b[0m\u001b]8;;\u001b\\\u001b[2m:\u001b[0m\u001b]8;id=904846;file://C:\\Users\\aleex\\AppData\\Roaming\\Python\\Python39\\site-packages\\soccerdata\\whoscored.py#683\u001b\\\u001b[2m683\u001b[0m\u001b]8;;\u001b\\\n"
      ]
     },
     "metadata": {},
     "output_type": "display_data"
    },
    {
     "name": "stdout",
     "output_type": "stream",
     "text": [
      "7 / 38\n"
     ]
    },
    {
     "data": {
      "text/html": [
       "<pre style=\"white-space:pre;overflow-x:auto;line-height:normal;font-family:Menlo,'DejaVu Sans Mono',consolas,'Courier New',monospace\"><span style=\"color: #7fbfbf; text-decoration-color: #7fbfbf\">                    </span><span style=\"color: #000080; text-decoration-color: #000080\">INFO    </span> Retrieving game schedule of ENG-Premier League - <span style=\"color: #008080; text-decoration-color: #008080; font-weight: bold\">2223</span> from the cache  <a href=\"file://C:\\Users\\aleex\\AppData\\Roaming\\Python\\Python39\\site-packages\\soccerdata\\whoscored.py\" target=\"_blank\"><span style=\"color: #7f7f7f; text-decoration-color: #7f7f7f\">whoscored.py</span></a><span style=\"color: #7f7f7f; text-decoration-color: #7f7f7f\">:</span><a href=\"file://C:\\Users\\aleex\\AppData\\Roaming\\Python\\Python39\\site-packages\\soccerdata\\whoscored.py#434\" target=\"_blank\"><span style=\"color: #7f7f7f; text-decoration-color: #7f7f7f\">434</span></a>\n",
       "</pre>\n"
      ],
      "text/plain": [
       "\u001b[2;36m                   \u001b[0m\u001b[2;36m \u001b[0m\u001b[34mINFO    \u001b[0m Retrieving game schedule of ENG-Premier League - \u001b[1;36m2223\u001b[0m from the cache  \u001b]8;id=219574;file://C:\\Users\\aleex\\AppData\\Roaming\\Python\\Python39\\site-packages\\soccerdata\\whoscored.py\u001b\\\u001b[2mwhoscored.py\u001b[0m\u001b]8;;\u001b\\\u001b[2m:\u001b[0m\u001b]8;id=341779;file://C:\\Users\\aleex\\AppData\\Roaming\\Python\\Python39\\site-packages\\soccerdata\\whoscored.py#434\u001b\\\u001b[2m434\u001b[0m\u001b]8;;\u001b\\\n"
      ]
     },
     "metadata": {},
     "output_type": "display_data"
    },
    {
     "data": {
      "text/html": [
       "<pre style=\"white-space:pre;overflow-x:auto;line-height:normal;font-family:Menlo,'DejaVu Sans Mono',consolas,'Courier New',monospace\"><span style=\"color: #7fbfbf; text-decoration-color: #7fbfbf\">                    </span><span style=\"color: #000080; text-decoration-color: #000080\">INFO    </span> <span style=\"font-weight: bold\">[</span><span style=\"color: #008080; text-decoration-color: #008080; font-weight: bold\">1</span>/<span style=\"color: #008080; text-decoration-color: #008080; font-weight: bold\">1</span><span style=\"font-weight: bold\">]</span> Retrieving game with <span style=\"color: #808000; text-decoration-color: #808000\">id</span>=<span style=\"color: #008080; text-decoration-color: #008080; font-weight: bold\">1640745</span>                                 <a href=\"file://C:\\Users\\aleex\\AppData\\Roaming\\Python\\Python39\\site-packages\\soccerdata\\whoscored.py\" target=\"_blank\"><span style=\"color: #7f7f7f; text-decoration-color: #7f7f7f\">whoscored.py</span></a><span style=\"color: #7f7f7f; text-decoration-color: #7f7f7f\">:</span><a href=\"file://C:\\Users\\aleex\\AppData\\Roaming\\Python\\Python39\\site-packages\\soccerdata\\whoscored.py#683\" target=\"_blank\"><span style=\"color: #7f7f7f; text-decoration-color: #7f7f7f\">683</span></a>\n",
       "</pre>\n"
      ],
      "text/plain": [
       "\u001b[2;36m                   \u001b[0m\u001b[2;36m \u001b[0m\u001b[34mINFO    \u001b[0m \u001b[1m[\u001b[0m\u001b[1;36m1\u001b[0m/\u001b[1;36m1\u001b[0m\u001b[1m]\u001b[0m Retrieving game with \u001b[33mid\u001b[0m=\u001b[1;36m1640745\u001b[0m                                 \u001b]8;id=878363;file://C:\\Users\\aleex\\AppData\\Roaming\\Python\\Python39\\site-packages\\soccerdata\\whoscored.py\u001b\\\u001b[2mwhoscored.py\u001b[0m\u001b]8;;\u001b\\\u001b[2m:\u001b[0m\u001b]8;id=832145;file://C:\\Users\\aleex\\AppData\\Roaming\\Python\\Python39\\site-packages\\soccerdata\\whoscored.py#683\u001b\\\u001b[2m683\u001b[0m\u001b]8;;\u001b\\\n"
      ]
     },
     "metadata": {},
     "output_type": "display_data"
    },
    {
     "name": "stdout",
     "output_type": "stream",
     "text": [
      "8 / 38\n"
     ]
    },
    {
     "data": {
      "text/html": [
       "<pre style=\"white-space:pre;overflow-x:auto;line-height:normal;font-family:Menlo,'DejaVu Sans Mono',consolas,'Courier New',monospace\"><span style=\"color: #7fbfbf; text-decoration-color: #7fbfbf\">[11/14/23 01:12:53] </span><span style=\"color: #000080; text-decoration-color: #000080\">INFO    </span> Retrieving game schedule of ENG-Premier League - <span style=\"color: #008080; text-decoration-color: #008080; font-weight: bold\">2223</span> from the cache  <a href=\"file://C:\\Users\\aleex\\AppData\\Roaming\\Python\\Python39\\site-packages\\soccerdata\\whoscored.py\" target=\"_blank\"><span style=\"color: #7f7f7f; text-decoration-color: #7f7f7f\">whoscored.py</span></a><span style=\"color: #7f7f7f; text-decoration-color: #7f7f7f\">:</span><a href=\"file://C:\\Users\\aleex\\AppData\\Roaming\\Python\\Python39\\site-packages\\soccerdata\\whoscored.py#434\" target=\"_blank\"><span style=\"color: #7f7f7f; text-decoration-color: #7f7f7f\">434</span></a>\n",
       "</pre>\n"
      ],
      "text/plain": [
       "\u001b[2;36m[11/14/23 01:12:53]\u001b[0m\u001b[2;36m \u001b[0m\u001b[34mINFO    \u001b[0m Retrieving game schedule of ENG-Premier League - \u001b[1;36m2223\u001b[0m from the cache  \u001b]8;id=541708;file://C:\\Users\\aleex\\AppData\\Roaming\\Python\\Python39\\site-packages\\soccerdata\\whoscored.py\u001b\\\u001b[2mwhoscored.py\u001b[0m\u001b]8;;\u001b\\\u001b[2m:\u001b[0m\u001b]8;id=790076;file://C:\\Users\\aleex\\AppData\\Roaming\\Python\\Python39\\site-packages\\soccerdata\\whoscored.py#434\u001b\\\u001b[2m434\u001b[0m\u001b]8;;\u001b\\\n"
      ]
     },
     "metadata": {},
     "output_type": "display_data"
    },
    {
     "data": {
      "text/html": [
       "<pre style=\"white-space:pre;overflow-x:auto;line-height:normal;font-family:Menlo,'DejaVu Sans Mono',consolas,'Courier New',monospace\"><span style=\"color: #7fbfbf; text-decoration-color: #7fbfbf\">                    </span><span style=\"color: #000080; text-decoration-color: #000080\">INFO    </span> <span style=\"font-weight: bold\">[</span><span style=\"color: #008080; text-decoration-color: #008080; font-weight: bold\">1</span>/<span style=\"color: #008080; text-decoration-color: #008080; font-weight: bold\">1</span><span style=\"font-weight: bold\">]</span> Retrieving game with <span style=\"color: #808000; text-decoration-color: #808000\">id</span>=<span style=\"color: #008080; text-decoration-color: #008080; font-weight: bold\">1640754</span>                                 <a href=\"file://C:\\Users\\aleex\\AppData\\Roaming\\Python\\Python39\\site-packages\\soccerdata\\whoscored.py\" target=\"_blank\"><span style=\"color: #7f7f7f; text-decoration-color: #7f7f7f\">whoscored.py</span></a><span style=\"color: #7f7f7f; text-decoration-color: #7f7f7f\">:</span><a href=\"file://C:\\Users\\aleex\\AppData\\Roaming\\Python\\Python39\\site-packages\\soccerdata\\whoscored.py#683\" target=\"_blank\"><span style=\"color: #7f7f7f; text-decoration-color: #7f7f7f\">683</span></a>\n",
       "</pre>\n"
      ],
      "text/plain": [
       "\u001b[2;36m                   \u001b[0m\u001b[2;36m \u001b[0m\u001b[34mINFO    \u001b[0m \u001b[1m[\u001b[0m\u001b[1;36m1\u001b[0m/\u001b[1;36m1\u001b[0m\u001b[1m]\u001b[0m Retrieving game with \u001b[33mid\u001b[0m=\u001b[1;36m1640754\u001b[0m                                 \u001b]8;id=272745;file://C:\\Users\\aleex\\AppData\\Roaming\\Python\\Python39\\site-packages\\soccerdata\\whoscored.py\u001b\\\u001b[2mwhoscored.py\u001b[0m\u001b]8;;\u001b\\\u001b[2m:\u001b[0m\u001b]8;id=223112;file://C:\\Users\\aleex\\AppData\\Roaming\\Python\\Python39\\site-packages\\soccerdata\\whoscored.py#683\u001b\\\u001b[2m683\u001b[0m\u001b]8;;\u001b\\\n"
      ]
     },
     "metadata": {},
     "output_type": "display_data"
    },
    {
     "name": "stdout",
     "output_type": "stream",
     "text": [
      "9 / 38\n"
     ]
    },
    {
     "data": {
      "text/html": [
       "<pre style=\"white-space:pre;overflow-x:auto;line-height:normal;font-family:Menlo,'DejaVu Sans Mono',consolas,'Courier New',monospace\"><span style=\"color: #7fbfbf; text-decoration-color: #7fbfbf\">                    </span><span style=\"color: #000080; text-decoration-color: #000080\">INFO    </span> Retrieving game schedule of ENG-Premier League - <span style=\"color: #008080; text-decoration-color: #008080; font-weight: bold\">2223</span> from the cache  <a href=\"file://C:\\Users\\aleex\\AppData\\Roaming\\Python\\Python39\\site-packages\\soccerdata\\whoscored.py\" target=\"_blank\"><span style=\"color: #7f7f7f; text-decoration-color: #7f7f7f\">whoscored.py</span></a><span style=\"color: #7f7f7f; text-decoration-color: #7f7f7f\">:</span><a href=\"file://C:\\Users\\aleex\\AppData\\Roaming\\Python\\Python39\\site-packages\\soccerdata\\whoscored.py#434\" target=\"_blank\"><span style=\"color: #7f7f7f; text-decoration-color: #7f7f7f\">434</span></a>\n",
       "</pre>\n"
      ],
      "text/plain": [
       "\u001b[2;36m                   \u001b[0m\u001b[2;36m \u001b[0m\u001b[34mINFO    \u001b[0m Retrieving game schedule of ENG-Premier League - \u001b[1;36m2223\u001b[0m from the cache  \u001b]8;id=368733;file://C:\\Users\\aleex\\AppData\\Roaming\\Python\\Python39\\site-packages\\soccerdata\\whoscored.py\u001b\\\u001b[2mwhoscored.py\u001b[0m\u001b]8;;\u001b\\\u001b[2m:\u001b[0m\u001b]8;id=821427;file://C:\\Users\\aleex\\AppData\\Roaming\\Python\\Python39\\site-packages\\soccerdata\\whoscored.py#434\u001b\\\u001b[2m434\u001b[0m\u001b]8;;\u001b\\\n"
      ]
     },
     "metadata": {},
     "output_type": "display_data"
    },
    {
     "data": {
      "text/html": [
       "<pre style=\"white-space:pre;overflow-x:auto;line-height:normal;font-family:Menlo,'DejaVu Sans Mono',consolas,'Courier New',monospace\"><span style=\"color: #7fbfbf; text-decoration-color: #7fbfbf\">                    </span><span style=\"color: #000080; text-decoration-color: #000080\">INFO    </span> <span style=\"font-weight: bold\">[</span><span style=\"color: #008080; text-decoration-color: #008080; font-weight: bold\">1</span>/<span style=\"color: #008080; text-decoration-color: #008080; font-weight: bold\">1</span><span style=\"font-weight: bold\">]</span> Retrieving game with <span style=\"color: #808000; text-decoration-color: #808000\">id</span>=<span style=\"color: #008080; text-decoration-color: #008080; font-weight: bold\">1640764</span>                                 <a href=\"file://C:\\Users\\aleex\\AppData\\Roaming\\Python\\Python39\\site-packages\\soccerdata\\whoscored.py\" target=\"_blank\"><span style=\"color: #7f7f7f; text-decoration-color: #7f7f7f\">whoscored.py</span></a><span style=\"color: #7f7f7f; text-decoration-color: #7f7f7f\">:</span><a href=\"file://C:\\Users\\aleex\\AppData\\Roaming\\Python\\Python39\\site-packages\\soccerdata\\whoscored.py#683\" target=\"_blank\"><span style=\"color: #7f7f7f; text-decoration-color: #7f7f7f\">683</span></a>\n",
       "</pre>\n"
      ],
      "text/plain": [
       "\u001b[2;36m                   \u001b[0m\u001b[2;36m \u001b[0m\u001b[34mINFO    \u001b[0m \u001b[1m[\u001b[0m\u001b[1;36m1\u001b[0m/\u001b[1;36m1\u001b[0m\u001b[1m]\u001b[0m Retrieving game with \u001b[33mid\u001b[0m=\u001b[1;36m1640764\u001b[0m                                 \u001b]8;id=22386;file://C:\\Users\\aleex\\AppData\\Roaming\\Python\\Python39\\site-packages\\soccerdata\\whoscored.py\u001b\\\u001b[2mwhoscored.py\u001b[0m\u001b]8;;\u001b\\\u001b[2m:\u001b[0m\u001b]8;id=837819;file://C:\\Users\\aleex\\AppData\\Roaming\\Python\\Python39\\site-packages\\soccerdata\\whoscored.py#683\u001b\\\u001b[2m683\u001b[0m\u001b]8;;\u001b\\\n"
      ]
     },
     "metadata": {},
     "output_type": "display_data"
    },
    {
     "name": "stdout",
     "output_type": "stream",
     "text": [
      "10 / 38\n"
     ]
    },
    {
     "data": {
      "text/html": [
       "<pre style=\"white-space:pre;overflow-x:auto;line-height:normal;font-family:Menlo,'DejaVu Sans Mono',consolas,'Courier New',monospace\"><span style=\"color: #7fbfbf; text-decoration-color: #7fbfbf\">                    </span><span style=\"color: #000080; text-decoration-color: #000080\">INFO    </span> Retrieving game schedule of ENG-Premier League - <span style=\"color: #008080; text-decoration-color: #008080; font-weight: bold\">2223</span> from the cache  <a href=\"file://C:\\Users\\aleex\\AppData\\Roaming\\Python\\Python39\\site-packages\\soccerdata\\whoscored.py\" target=\"_blank\"><span style=\"color: #7f7f7f; text-decoration-color: #7f7f7f\">whoscored.py</span></a><span style=\"color: #7f7f7f; text-decoration-color: #7f7f7f\">:</span><a href=\"file://C:\\Users\\aleex\\AppData\\Roaming\\Python\\Python39\\site-packages\\soccerdata\\whoscored.py#434\" target=\"_blank\"><span style=\"color: #7f7f7f; text-decoration-color: #7f7f7f\">434</span></a>\n",
       "</pre>\n"
      ],
      "text/plain": [
       "\u001b[2;36m                   \u001b[0m\u001b[2;36m \u001b[0m\u001b[34mINFO    \u001b[0m Retrieving game schedule of ENG-Premier League - \u001b[1;36m2223\u001b[0m from the cache  \u001b]8;id=906892;file://C:\\Users\\aleex\\AppData\\Roaming\\Python\\Python39\\site-packages\\soccerdata\\whoscored.py\u001b\\\u001b[2mwhoscored.py\u001b[0m\u001b]8;;\u001b\\\u001b[2m:\u001b[0m\u001b]8;id=893429;file://C:\\Users\\aleex\\AppData\\Roaming\\Python\\Python39\\site-packages\\soccerdata\\whoscored.py#434\u001b\\\u001b[2m434\u001b[0m\u001b]8;;\u001b\\\n"
      ]
     },
     "metadata": {},
     "output_type": "display_data"
    },
    {
     "data": {
      "text/html": [
       "<pre style=\"white-space:pre;overflow-x:auto;line-height:normal;font-family:Menlo,'DejaVu Sans Mono',consolas,'Courier New',monospace\"><span style=\"color: #7fbfbf; text-decoration-color: #7fbfbf\">                    </span><span style=\"color: #000080; text-decoration-color: #000080\">INFO    </span> <span style=\"font-weight: bold\">[</span><span style=\"color: #008080; text-decoration-color: #008080; font-weight: bold\">1</span>/<span style=\"color: #008080; text-decoration-color: #008080; font-weight: bold\">1</span><span style=\"font-weight: bold\">]</span> Retrieving game with <span style=\"color: #808000; text-decoration-color: #808000\">id</span>=<span style=\"color: #008080; text-decoration-color: #008080; font-weight: bold\">1640777</span>                                 <a href=\"file://C:\\Users\\aleex\\AppData\\Roaming\\Python\\Python39\\site-packages\\soccerdata\\whoscored.py\" target=\"_blank\"><span style=\"color: #7f7f7f; text-decoration-color: #7f7f7f\">whoscored.py</span></a><span style=\"color: #7f7f7f; text-decoration-color: #7f7f7f\">:</span><a href=\"file://C:\\Users\\aleex\\AppData\\Roaming\\Python\\Python39\\site-packages\\soccerdata\\whoscored.py#683\" target=\"_blank\"><span style=\"color: #7f7f7f; text-decoration-color: #7f7f7f\">683</span></a>\n",
       "</pre>\n"
      ],
      "text/plain": [
       "\u001b[2;36m                   \u001b[0m\u001b[2;36m \u001b[0m\u001b[34mINFO    \u001b[0m \u001b[1m[\u001b[0m\u001b[1;36m1\u001b[0m/\u001b[1;36m1\u001b[0m\u001b[1m]\u001b[0m Retrieving game with \u001b[33mid\u001b[0m=\u001b[1;36m1640777\u001b[0m                                 \u001b]8;id=242413;file://C:\\Users\\aleex\\AppData\\Roaming\\Python\\Python39\\site-packages\\soccerdata\\whoscored.py\u001b\\\u001b[2mwhoscored.py\u001b[0m\u001b]8;;\u001b\\\u001b[2m:\u001b[0m\u001b]8;id=460457;file://C:\\Users\\aleex\\AppData\\Roaming\\Python\\Python39\\site-packages\\soccerdata\\whoscored.py#683\u001b\\\u001b[2m683\u001b[0m\u001b]8;;\u001b\\\n"
      ]
     },
     "metadata": {},
     "output_type": "display_data"
    },
    {
     "name": "stdout",
     "output_type": "stream",
     "text": [
      "11 / 38\n"
     ]
    },
    {
     "data": {
      "text/html": [
       "<pre style=\"white-space:pre;overflow-x:auto;line-height:normal;font-family:Menlo,'DejaVu Sans Mono',consolas,'Courier New',monospace\"><span style=\"color: #7fbfbf; text-decoration-color: #7fbfbf\">[11/14/23 01:12:54] </span><span style=\"color: #000080; text-decoration-color: #000080\">INFO    </span> Retrieving game schedule of ENG-Premier League - <span style=\"color: #008080; text-decoration-color: #008080; font-weight: bold\">2223</span> from the cache  <a href=\"file://C:\\Users\\aleex\\AppData\\Roaming\\Python\\Python39\\site-packages\\soccerdata\\whoscored.py\" target=\"_blank\"><span style=\"color: #7f7f7f; text-decoration-color: #7f7f7f\">whoscored.py</span></a><span style=\"color: #7f7f7f; text-decoration-color: #7f7f7f\">:</span><a href=\"file://C:\\Users\\aleex\\AppData\\Roaming\\Python\\Python39\\site-packages\\soccerdata\\whoscored.py#434\" target=\"_blank\"><span style=\"color: #7f7f7f; text-decoration-color: #7f7f7f\">434</span></a>\n",
       "</pre>\n"
      ],
      "text/plain": [
       "\u001b[2;36m[11/14/23 01:12:54]\u001b[0m\u001b[2;36m \u001b[0m\u001b[34mINFO    \u001b[0m Retrieving game schedule of ENG-Premier League - \u001b[1;36m2223\u001b[0m from the cache  \u001b]8;id=806756;file://C:\\Users\\aleex\\AppData\\Roaming\\Python\\Python39\\site-packages\\soccerdata\\whoscored.py\u001b\\\u001b[2mwhoscored.py\u001b[0m\u001b]8;;\u001b\\\u001b[2m:\u001b[0m\u001b]8;id=809317;file://C:\\Users\\aleex\\AppData\\Roaming\\Python\\Python39\\site-packages\\soccerdata\\whoscored.py#434\u001b\\\u001b[2m434\u001b[0m\u001b]8;;\u001b\\\n"
      ]
     },
     "metadata": {},
     "output_type": "display_data"
    },
    {
     "data": {
      "text/html": [
       "<pre style=\"white-space:pre;overflow-x:auto;line-height:normal;font-family:Menlo,'DejaVu Sans Mono',consolas,'Courier New',monospace\"><span style=\"color: #7fbfbf; text-decoration-color: #7fbfbf\">                    </span><span style=\"color: #000080; text-decoration-color: #000080\">INFO    </span> <span style=\"font-weight: bold\">[</span><span style=\"color: #008080; text-decoration-color: #008080; font-weight: bold\">1</span>/<span style=\"color: #008080; text-decoration-color: #008080; font-weight: bold\">1</span><span style=\"font-weight: bold\">]</span> Retrieving game with <span style=\"color: #808000; text-decoration-color: #808000\">id</span>=<span style=\"color: #008080; text-decoration-color: #008080; font-weight: bold\">1640800</span>                                 <a href=\"file://C:\\Users\\aleex\\AppData\\Roaming\\Python\\Python39\\site-packages\\soccerdata\\whoscored.py\" target=\"_blank\"><span style=\"color: #7f7f7f; text-decoration-color: #7f7f7f\">whoscored.py</span></a><span style=\"color: #7f7f7f; text-decoration-color: #7f7f7f\">:</span><a href=\"file://C:\\Users\\aleex\\AppData\\Roaming\\Python\\Python39\\site-packages\\soccerdata\\whoscored.py#683\" target=\"_blank\"><span style=\"color: #7f7f7f; text-decoration-color: #7f7f7f\">683</span></a>\n",
       "</pre>\n"
      ],
      "text/plain": [
       "\u001b[2;36m                   \u001b[0m\u001b[2;36m \u001b[0m\u001b[34mINFO    \u001b[0m \u001b[1m[\u001b[0m\u001b[1;36m1\u001b[0m/\u001b[1;36m1\u001b[0m\u001b[1m]\u001b[0m Retrieving game with \u001b[33mid\u001b[0m=\u001b[1;36m1640800\u001b[0m                                 \u001b]8;id=534465;file://C:\\Users\\aleex\\AppData\\Roaming\\Python\\Python39\\site-packages\\soccerdata\\whoscored.py\u001b\\\u001b[2mwhoscored.py\u001b[0m\u001b]8;;\u001b\\\u001b[2m:\u001b[0m\u001b]8;id=676510;file://C:\\Users\\aleex\\AppData\\Roaming\\Python\\Python39\\site-packages\\soccerdata\\whoscored.py#683\u001b\\\u001b[2m683\u001b[0m\u001b]8;;\u001b\\\n"
      ]
     },
     "metadata": {},
     "output_type": "display_data"
    },
    {
     "name": "stdout",
     "output_type": "stream",
     "text": [
      "12 / 38\n"
     ]
    },
    {
     "data": {
      "text/html": [
       "<pre style=\"white-space:pre;overflow-x:auto;line-height:normal;font-family:Menlo,'DejaVu Sans Mono',consolas,'Courier New',monospace\"><span style=\"color: #7fbfbf; text-decoration-color: #7fbfbf\">                    </span><span style=\"color: #000080; text-decoration-color: #000080\">INFO    </span> Retrieving game schedule of ENG-Premier League - <span style=\"color: #008080; text-decoration-color: #008080; font-weight: bold\">2223</span> from the cache  <a href=\"file://C:\\Users\\aleex\\AppData\\Roaming\\Python\\Python39\\site-packages\\soccerdata\\whoscored.py\" target=\"_blank\"><span style=\"color: #7f7f7f; text-decoration-color: #7f7f7f\">whoscored.py</span></a><span style=\"color: #7f7f7f; text-decoration-color: #7f7f7f\">:</span><a href=\"file://C:\\Users\\aleex\\AppData\\Roaming\\Python\\Python39\\site-packages\\soccerdata\\whoscored.py#434\" target=\"_blank\"><span style=\"color: #7f7f7f; text-decoration-color: #7f7f7f\">434</span></a>\n",
       "</pre>\n"
      ],
      "text/plain": [
       "\u001b[2;36m                   \u001b[0m\u001b[2;36m \u001b[0m\u001b[34mINFO    \u001b[0m Retrieving game schedule of ENG-Premier League - \u001b[1;36m2223\u001b[0m from the cache  \u001b]8;id=318914;file://C:\\Users\\aleex\\AppData\\Roaming\\Python\\Python39\\site-packages\\soccerdata\\whoscored.py\u001b\\\u001b[2mwhoscored.py\u001b[0m\u001b]8;;\u001b\\\u001b[2m:\u001b[0m\u001b]8;id=346635;file://C:\\Users\\aleex\\AppData\\Roaming\\Python\\Python39\\site-packages\\soccerdata\\whoscored.py#434\u001b\\\u001b[2m434\u001b[0m\u001b]8;;\u001b\\\n"
      ]
     },
     "metadata": {},
     "output_type": "display_data"
    },
    {
     "data": {
      "text/html": [
       "<pre style=\"white-space:pre;overflow-x:auto;line-height:normal;font-family:Menlo,'DejaVu Sans Mono',consolas,'Courier New',monospace\"><span style=\"color: #7fbfbf; text-decoration-color: #7fbfbf\">                    </span><span style=\"color: #000080; text-decoration-color: #000080\">INFO    </span> <span style=\"font-weight: bold\">[</span><span style=\"color: #008080; text-decoration-color: #008080; font-weight: bold\">1</span>/<span style=\"color: #008080; text-decoration-color: #008080; font-weight: bold\">1</span><span style=\"font-weight: bold\">]</span> Retrieving game with <span style=\"color: #808000; text-decoration-color: #808000\">id</span>=<span style=\"color: #008080; text-decoration-color: #008080; font-weight: bold\">1640804</span>                                 <a href=\"file://C:\\Users\\aleex\\AppData\\Roaming\\Python\\Python39\\site-packages\\soccerdata\\whoscored.py\" target=\"_blank\"><span style=\"color: #7f7f7f; text-decoration-color: #7f7f7f\">whoscored.py</span></a><span style=\"color: #7f7f7f; text-decoration-color: #7f7f7f\">:</span><a href=\"file://C:\\Users\\aleex\\AppData\\Roaming\\Python\\Python39\\site-packages\\soccerdata\\whoscored.py#683\" target=\"_blank\"><span style=\"color: #7f7f7f; text-decoration-color: #7f7f7f\">683</span></a>\n",
       "</pre>\n"
      ],
      "text/plain": [
       "\u001b[2;36m                   \u001b[0m\u001b[2;36m \u001b[0m\u001b[34mINFO    \u001b[0m \u001b[1m[\u001b[0m\u001b[1;36m1\u001b[0m/\u001b[1;36m1\u001b[0m\u001b[1m]\u001b[0m Retrieving game with \u001b[33mid\u001b[0m=\u001b[1;36m1640804\u001b[0m                                 \u001b]8;id=263125;file://C:\\Users\\aleex\\AppData\\Roaming\\Python\\Python39\\site-packages\\soccerdata\\whoscored.py\u001b\\\u001b[2mwhoscored.py\u001b[0m\u001b]8;;\u001b\\\u001b[2m:\u001b[0m\u001b]8;id=94736;file://C:\\Users\\aleex\\AppData\\Roaming\\Python\\Python39\\site-packages\\soccerdata\\whoscored.py#683\u001b\\\u001b[2m683\u001b[0m\u001b]8;;\u001b\\\n"
      ]
     },
     "metadata": {},
     "output_type": "display_data"
    },
    {
     "name": "stdout",
     "output_type": "stream",
     "text": [
      "13 / 38\n"
     ]
    },
    {
     "data": {
      "text/html": [
       "<pre style=\"white-space:pre;overflow-x:auto;line-height:normal;font-family:Menlo,'DejaVu Sans Mono',consolas,'Courier New',monospace\"><span style=\"color: #7fbfbf; text-decoration-color: #7fbfbf\">[11/14/23 01:12:55] </span><span style=\"color: #000080; text-decoration-color: #000080\">INFO    </span> Retrieving game schedule of ENG-Premier League - <span style=\"color: #008080; text-decoration-color: #008080; font-weight: bold\">2223</span> from the cache  <a href=\"file://C:\\Users\\aleex\\AppData\\Roaming\\Python\\Python39\\site-packages\\soccerdata\\whoscored.py\" target=\"_blank\"><span style=\"color: #7f7f7f; text-decoration-color: #7f7f7f\">whoscored.py</span></a><span style=\"color: #7f7f7f; text-decoration-color: #7f7f7f\">:</span><a href=\"file://C:\\Users\\aleex\\AppData\\Roaming\\Python\\Python39\\site-packages\\soccerdata\\whoscored.py#434\" target=\"_blank\"><span style=\"color: #7f7f7f; text-decoration-color: #7f7f7f\">434</span></a>\n",
       "</pre>\n"
      ],
      "text/plain": [
       "\u001b[2;36m[11/14/23 01:12:55]\u001b[0m\u001b[2;36m \u001b[0m\u001b[34mINFO    \u001b[0m Retrieving game schedule of ENG-Premier League - \u001b[1;36m2223\u001b[0m from the cache  \u001b]8;id=972154;file://C:\\Users\\aleex\\AppData\\Roaming\\Python\\Python39\\site-packages\\soccerdata\\whoscored.py\u001b\\\u001b[2mwhoscored.py\u001b[0m\u001b]8;;\u001b\\\u001b[2m:\u001b[0m\u001b]8;id=334321;file://C:\\Users\\aleex\\AppData\\Roaming\\Python\\Python39\\site-packages\\soccerdata\\whoscored.py#434\u001b\\\u001b[2m434\u001b[0m\u001b]8;;\u001b\\\n"
      ]
     },
     "metadata": {},
     "output_type": "display_data"
    },
    {
     "data": {
      "text/html": [
       "<pre style=\"white-space:pre;overflow-x:auto;line-height:normal;font-family:Menlo,'DejaVu Sans Mono',consolas,'Courier New',monospace\"><span style=\"color: #7fbfbf; text-decoration-color: #7fbfbf\">                    </span><span style=\"color: #000080; text-decoration-color: #000080\">INFO    </span> <span style=\"font-weight: bold\">[</span><span style=\"color: #008080; text-decoration-color: #008080; font-weight: bold\">1</span>/<span style=\"color: #008080; text-decoration-color: #008080; font-weight: bold\">1</span><span style=\"font-weight: bold\">]</span> Retrieving game with <span style=\"color: #808000; text-decoration-color: #808000\">id</span>=<span style=\"color: #008080; text-decoration-color: #008080; font-weight: bold\">1640815</span>                                 <a href=\"file://C:\\Users\\aleex\\AppData\\Roaming\\Python\\Python39\\site-packages\\soccerdata\\whoscored.py\" target=\"_blank\"><span style=\"color: #7f7f7f; text-decoration-color: #7f7f7f\">whoscored.py</span></a><span style=\"color: #7f7f7f; text-decoration-color: #7f7f7f\">:</span><a href=\"file://C:\\Users\\aleex\\AppData\\Roaming\\Python\\Python39\\site-packages\\soccerdata\\whoscored.py#683\" target=\"_blank\"><span style=\"color: #7f7f7f; text-decoration-color: #7f7f7f\">683</span></a>\n",
       "</pre>\n"
      ],
      "text/plain": [
       "\u001b[2;36m                   \u001b[0m\u001b[2;36m \u001b[0m\u001b[34mINFO    \u001b[0m \u001b[1m[\u001b[0m\u001b[1;36m1\u001b[0m/\u001b[1;36m1\u001b[0m\u001b[1m]\u001b[0m Retrieving game with \u001b[33mid\u001b[0m=\u001b[1;36m1640815\u001b[0m                                 \u001b]8;id=722743;file://C:\\Users\\aleex\\AppData\\Roaming\\Python\\Python39\\site-packages\\soccerdata\\whoscored.py\u001b\\\u001b[2mwhoscored.py\u001b[0m\u001b]8;;\u001b\\\u001b[2m:\u001b[0m\u001b]8;id=609170;file://C:\\Users\\aleex\\AppData\\Roaming\\Python\\Python39\\site-packages\\soccerdata\\whoscored.py#683\u001b\\\u001b[2m683\u001b[0m\u001b]8;;\u001b\\\n"
      ]
     },
     "metadata": {},
     "output_type": "display_data"
    },
    {
     "name": "stdout",
     "output_type": "stream",
     "text": [
      "14 / 38\n"
     ]
    },
    {
     "data": {
      "text/html": [
       "<pre style=\"white-space:pre;overflow-x:auto;line-height:normal;font-family:Menlo,'DejaVu Sans Mono',consolas,'Courier New',monospace\"><span style=\"color: #7fbfbf; text-decoration-color: #7fbfbf\">                    </span><span style=\"color: #000080; text-decoration-color: #000080\">INFO    </span> Retrieving game schedule of ENG-Premier League - <span style=\"color: #008080; text-decoration-color: #008080; font-weight: bold\">2223</span> from the cache  <a href=\"file://C:\\Users\\aleex\\AppData\\Roaming\\Python\\Python39\\site-packages\\soccerdata\\whoscored.py\" target=\"_blank\"><span style=\"color: #7f7f7f; text-decoration-color: #7f7f7f\">whoscored.py</span></a><span style=\"color: #7f7f7f; text-decoration-color: #7f7f7f\">:</span><a href=\"file://C:\\Users\\aleex\\AppData\\Roaming\\Python\\Python39\\site-packages\\soccerdata\\whoscored.py#434\" target=\"_blank\"><span style=\"color: #7f7f7f; text-decoration-color: #7f7f7f\">434</span></a>\n",
       "</pre>\n"
      ],
      "text/plain": [
       "\u001b[2;36m                   \u001b[0m\u001b[2;36m \u001b[0m\u001b[34mINFO    \u001b[0m Retrieving game schedule of ENG-Premier League - \u001b[1;36m2223\u001b[0m from the cache  \u001b]8;id=435245;file://C:\\Users\\aleex\\AppData\\Roaming\\Python\\Python39\\site-packages\\soccerdata\\whoscored.py\u001b\\\u001b[2mwhoscored.py\u001b[0m\u001b]8;;\u001b\\\u001b[2m:\u001b[0m\u001b]8;id=219636;file://C:\\Users\\aleex\\AppData\\Roaming\\Python\\Python39\\site-packages\\soccerdata\\whoscored.py#434\u001b\\\u001b[2m434\u001b[0m\u001b]8;;\u001b\\\n"
      ]
     },
     "metadata": {},
     "output_type": "display_data"
    },
    {
     "data": {
      "text/html": [
       "<pre style=\"white-space:pre;overflow-x:auto;line-height:normal;font-family:Menlo,'DejaVu Sans Mono',consolas,'Courier New',monospace\"><span style=\"color: #7fbfbf; text-decoration-color: #7fbfbf\">                    </span><span style=\"color: #000080; text-decoration-color: #000080\">INFO    </span> <span style=\"font-weight: bold\">[</span><span style=\"color: #008080; text-decoration-color: #008080; font-weight: bold\">1</span>/<span style=\"color: #008080; text-decoration-color: #008080; font-weight: bold\">1</span><span style=\"font-weight: bold\">]</span> Retrieving game with <span style=\"color: #808000; text-decoration-color: #808000\">id</span>=<span style=\"color: #008080; text-decoration-color: #008080; font-weight: bold\">1640833</span>                                 <a href=\"file://C:\\Users\\aleex\\AppData\\Roaming\\Python\\Python39\\site-packages\\soccerdata\\whoscored.py\" target=\"_blank\"><span style=\"color: #7f7f7f; text-decoration-color: #7f7f7f\">whoscored.py</span></a><span style=\"color: #7f7f7f; text-decoration-color: #7f7f7f\">:</span><a href=\"file://C:\\Users\\aleex\\AppData\\Roaming\\Python\\Python39\\site-packages\\soccerdata\\whoscored.py#683\" target=\"_blank\"><span style=\"color: #7f7f7f; text-decoration-color: #7f7f7f\">683</span></a>\n",
       "</pre>\n"
      ],
      "text/plain": [
       "\u001b[2;36m                   \u001b[0m\u001b[2;36m \u001b[0m\u001b[34mINFO    \u001b[0m \u001b[1m[\u001b[0m\u001b[1;36m1\u001b[0m/\u001b[1;36m1\u001b[0m\u001b[1m]\u001b[0m Retrieving game with \u001b[33mid\u001b[0m=\u001b[1;36m1640833\u001b[0m                                 \u001b]8;id=857668;file://C:\\Users\\aleex\\AppData\\Roaming\\Python\\Python39\\site-packages\\soccerdata\\whoscored.py\u001b\\\u001b[2mwhoscored.py\u001b[0m\u001b]8;;\u001b\\\u001b[2m:\u001b[0m\u001b]8;id=498612;file://C:\\Users\\aleex\\AppData\\Roaming\\Python\\Python39\\site-packages\\soccerdata\\whoscored.py#683\u001b\\\u001b[2m683\u001b[0m\u001b]8;;\u001b\\\n"
      ]
     },
     "metadata": {},
     "output_type": "display_data"
    },
    {
     "name": "stdout",
     "output_type": "stream",
     "text": [
      "15 / 38\n"
     ]
    },
    {
     "data": {
      "text/html": [
       "<pre style=\"white-space:pre;overflow-x:auto;line-height:normal;font-family:Menlo,'DejaVu Sans Mono',consolas,'Courier New',monospace\"><span style=\"color: #7fbfbf; text-decoration-color: #7fbfbf\">                    </span><span style=\"color: #000080; text-decoration-color: #000080\">INFO    </span> Retrieving game schedule of ENG-Premier League - <span style=\"color: #008080; text-decoration-color: #008080; font-weight: bold\">2223</span> from the cache  <a href=\"file://C:\\Users\\aleex\\AppData\\Roaming\\Python\\Python39\\site-packages\\soccerdata\\whoscored.py\" target=\"_blank\"><span style=\"color: #7f7f7f; text-decoration-color: #7f7f7f\">whoscored.py</span></a><span style=\"color: #7f7f7f; text-decoration-color: #7f7f7f\">:</span><a href=\"file://C:\\Users\\aleex\\AppData\\Roaming\\Python\\Python39\\site-packages\\soccerdata\\whoscored.py#434\" target=\"_blank\"><span style=\"color: #7f7f7f; text-decoration-color: #7f7f7f\">434</span></a>\n",
       "</pre>\n"
      ],
      "text/plain": [
       "\u001b[2;36m                   \u001b[0m\u001b[2;36m \u001b[0m\u001b[34mINFO    \u001b[0m Retrieving game schedule of ENG-Premier League - \u001b[1;36m2223\u001b[0m from the cache  \u001b]8;id=688365;file://C:\\Users\\aleex\\AppData\\Roaming\\Python\\Python39\\site-packages\\soccerdata\\whoscored.py\u001b\\\u001b[2mwhoscored.py\u001b[0m\u001b]8;;\u001b\\\u001b[2m:\u001b[0m\u001b]8;id=74859;file://C:\\Users\\aleex\\AppData\\Roaming\\Python\\Python39\\site-packages\\soccerdata\\whoscored.py#434\u001b\\\u001b[2m434\u001b[0m\u001b]8;;\u001b\\\n"
      ]
     },
     "metadata": {},
     "output_type": "display_data"
    },
    {
     "data": {
      "text/html": [
       "<pre style=\"white-space:pre;overflow-x:auto;line-height:normal;font-family:Menlo,'DejaVu Sans Mono',consolas,'Courier New',monospace\"><span style=\"color: #7fbfbf; text-decoration-color: #7fbfbf\">[11/14/23 01:12:56] </span><span style=\"color: #000080; text-decoration-color: #000080\">INFO    </span> <span style=\"font-weight: bold\">[</span><span style=\"color: #008080; text-decoration-color: #008080; font-weight: bold\">1</span>/<span style=\"color: #008080; text-decoration-color: #008080; font-weight: bold\">1</span><span style=\"font-weight: bold\">]</span> Retrieving game with <span style=\"color: #808000; text-decoration-color: #808000\">id</span>=<span style=\"color: #008080; text-decoration-color: #008080; font-weight: bold\">1640834</span>                                 <a href=\"file://C:\\Users\\aleex\\AppData\\Roaming\\Python\\Python39\\site-packages\\soccerdata\\whoscored.py\" target=\"_blank\"><span style=\"color: #7f7f7f; text-decoration-color: #7f7f7f\">whoscored.py</span></a><span style=\"color: #7f7f7f; text-decoration-color: #7f7f7f\">:</span><a href=\"file://C:\\Users\\aleex\\AppData\\Roaming\\Python\\Python39\\site-packages\\soccerdata\\whoscored.py#683\" target=\"_blank\"><span style=\"color: #7f7f7f; text-decoration-color: #7f7f7f\">683</span></a>\n",
       "</pre>\n"
      ],
      "text/plain": [
       "\u001b[2;36m[11/14/23 01:12:56]\u001b[0m\u001b[2;36m \u001b[0m\u001b[34mINFO    \u001b[0m \u001b[1m[\u001b[0m\u001b[1;36m1\u001b[0m/\u001b[1;36m1\u001b[0m\u001b[1m]\u001b[0m Retrieving game with \u001b[33mid\u001b[0m=\u001b[1;36m1640834\u001b[0m                                 \u001b]8;id=206753;file://C:\\Users\\aleex\\AppData\\Roaming\\Python\\Python39\\site-packages\\soccerdata\\whoscored.py\u001b\\\u001b[2mwhoscored.py\u001b[0m\u001b]8;;\u001b\\\u001b[2m:\u001b[0m\u001b]8;id=398697;file://C:\\Users\\aleex\\AppData\\Roaming\\Python\\Python39\\site-packages\\soccerdata\\whoscored.py#683\u001b\\\u001b[2m683\u001b[0m\u001b]8;;\u001b\\\n"
      ]
     },
     "metadata": {},
     "output_type": "display_data"
    },
    {
     "name": "stdout",
     "output_type": "stream",
     "text": [
      "16 / 38\n"
     ]
    },
    {
     "data": {
      "text/html": [
       "<pre style=\"white-space:pre;overflow-x:auto;line-height:normal;font-family:Menlo,'DejaVu Sans Mono',consolas,'Courier New',monospace\"><span style=\"color: #7fbfbf; text-decoration-color: #7fbfbf\">                    </span><span style=\"color: #000080; text-decoration-color: #000080\">INFO    </span> Retrieving game schedule of ENG-Premier League - <span style=\"color: #008080; text-decoration-color: #008080; font-weight: bold\">2223</span> from the cache  <a href=\"file://C:\\Users\\aleex\\AppData\\Roaming\\Python\\Python39\\site-packages\\soccerdata\\whoscored.py\" target=\"_blank\"><span style=\"color: #7f7f7f; text-decoration-color: #7f7f7f\">whoscored.py</span></a><span style=\"color: #7f7f7f; text-decoration-color: #7f7f7f\">:</span><a href=\"file://C:\\Users\\aleex\\AppData\\Roaming\\Python\\Python39\\site-packages\\soccerdata\\whoscored.py#434\" target=\"_blank\"><span style=\"color: #7f7f7f; text-decoration-color: #7f7f7f\">434</span></a>\n",
       "</pre>\n"
      ],
      "text/plain": [
       "\u001b[2;36m                   \u001b[0m\u001b[2;36m \u001b[0m\u001b[34mINFO    \u001b[0m Retrieving game schedule of ENG-Premier League - \u001b[1;36m2223\u001b[0m from the cache  \u001b]8;id=244585;file://C:\\Users\\aleex\\AppData\\Roaming\\Python\\Python39\\site-packages\\soccerdata\\whoscored.py\u001b\\\u001b[2mwhoscored.py\u001b[0m\u001b]8;;\u001b\\\u001b[2m:\u001b[0m\u001b]8;id=978534;file://C:\\Users\\aleex\\AppData\\Roaming\\Python\\Python39\\site-packages\\soccerdata\\whoscored.py#434\u001b\\\u001b[2m434\u001b[0m\u001b]8;;\u001b\\\n"
      ]
     },
     "metadata": {},
     "output_type": "display_data"
    },
    {
     "data": {
      "text/html": [
       "<pre style=\"white-space:pre;overflow-x:auto;line-height:normal;font-family:Menlo,'DejaVu Sans Mono',consolas,'Courier New',monospace\"><span style=\"color: #7fbfbf; text-decoration-color: #7fbfbf\">                    </span><span style=\"color: #000080; text-decoration-color: #000080\">INFO    </span> <span style=\"font-weight: bold\">[</span><span style=\"color: #008080; text-decoration-color: #008080; font-weight: bold\">1</span>/<span style=\"color: #008080; text-decoration-color: #008080; font-weight: bold\">1</span><span style=\"font-weight: bold\">]</span> Retrieving game with <span style=\"color: #808000; text-decoration-color: #808000\">id</span>=<span style=\"color: #008080; text-decoration-color: #008080; font-weight: bold\">1640845</span>                                 <a href=\"file://C:\\Users\\aleex\\AppData\\Roaming\\Python\\Python39\\site-packages\\soccerdata\\whoscored.py\" target=\"_blank\"><span style=\"color: #7f7f7f; text-decoration-color: #7f7f7f\">whoscored.py</span></a><span style=\"color: #7f7f7f; text-decoration-color: #7f7f7f\">:</span><a href=\"file://C:\\Users\\aleex\\AppData\\Roaming\\Python\\Python39\\site-packages\\soccerdata\\whoscored.py#683\" target=\"_blank\"><span style=\"color: #7f7f7f; text-decoration-color: #7f7f7f\">683</span></a>\n",
       "</pre>\n"
      ],
      "text/plain": [
       "\u001b[2;36m                   \u001b[0m\u001b[2;36m \u001b[0m\u001b[34mINFO    \u001b[0m \u001b[1m[\u001b[0m\u001b[1;36m1\u001b[0m/\u001b[1;36m1\u001b[0m\u001b[1m]\u001b[0m Retrieving game with \u001b[33mid\u001b[0m=\u001b[1;36m1640845\u001b[0m                                 \u001b]8;id=621098;file://C:\\Users\\aleex\\AppData\\Roaming\\Python\\Python39\\site-packages\\soccerdata\\whoscored.py\u001b\\\u001b[2mwhoscored.py\u001b[0m\u001b]8;;\u001b\\\u001b[2m:\u001b[0m\u001b]8;id=960865;file://C:\\Users\\aleex\\AppData\\Roaming\\Python\\Python39\\site-packages\\soccerdata\\whoscored.py#683\u001b\\\u001b[2m683\u001b[0m\u001b]8;;\u001b\\\n"
      ]
     },
     "metadata": {},
     "output_type": "display_data"
    },
    {
     "name": "stdout",
     "output_type": "stream",
     "text": [
      "17 / 38\n"
     ]
    },
    {
     "data": {
      "text/html": [
       "<pre style=\"white-space:pre;overflow-x:auto;line-height:normal;font-family:Menlo,'DejaVu Sans Mono',consolas,'Courier New',monospace\"><span style=\"color: #7fbfbf; text-decoration-color: #7fbfbf\">                    </span><span style=\"color: #000080; text-decoration-color: #000080\">INFO    </span> Retrieving game schedule of ENG-Premier League - <span style=\"color: #008080; text-decoration-color: #008080; font-weight: bold\">2223</span> from the cache  <a href=\"file://C:\\Users\\aleex\\AppData\\Roaming\\Python\\Python39\\site-packages\\soccerdata\\whoscored.py\" target=\"_blank\"><span style=\"color: #7f7f7f; text-decoration-color: #7f7f7f\">whoscored.py</span></a><span style=\"color: #7f7f7f; text-decoration-color: #7f7f7f\">:</span><a href=\"file://C:\\Users\\aleex\\AppData\\Roaming\\Python\\Python39\\site-packages\\soccerdata\\whoscored.py#434\" target=\"_blank\"><span style=\"color: #7f7f7f; text-decoration-color: #7f7f7f\">434</span></a>\n",
       "</pre>\n"
      ],
      "text/plain": [
       "\u001b[2;36m                   \u001b[0m\u001b[2;36m \u001b[0m\u001b[34mINFO    \u001b[0m Retrieving game schedule of ENG-Premier League - \u001b[1;36m2223\u001b[0m from the cache  \u001b]8;id=286596;file://C:\\Users\\aleex\\AppData\\Roaming\\Python\\Python39\\site-packages\\soccerdata\\whoscored.py\u001b\\\u001b[2mwhoscored.py\u001b[0m\u001b]8;;\u001b\\\u001b[2m:\u001b[0m\u001b]8;id=663412;file://C:\\Users\\aleex\\AppData\\Roaming\\Python\\Python39\\site-packages\\soccerdata\\whoscored.py#434\u001b\\\u001b[2m434\u001b[0m\u001b]8;;\u001b\\\n"
      ]
     },
     "metadata": {},
     "output_type": "display_data"
    },
    {
     "data": {
      "text/html": [
       "<pre style=\"white-space:pre;overflow-x:auto;line-height:normal;font-family:Menlo,'DejaVu Sans Mono',consolas,'Courier New',monospace\"><span style=\"color: #7fbfbf; text-decoration-color: #7fbfbf\">                    </span><span style=\"color: #000080; text-decoration-color: #000080\">INFO    </span> <span style=\"font-weight: bold\">[</span><span style=\"color: #008080; text-decoration-color: #008080; font-weight: bold\">1</span>/<span style=\"color: #008080; text-decoration-color: #008080; font-weight: bold\">1</span><span style=\"font-weight: bold\">]</span> Retrieving game with <span style=\"color: #808000; text-decoration-color: #808000\">id</span>=<span style=\"color: #008080; text-decoration-color: #008080; font-weight: bold\">1640854</span>                                 <a href=\"file://C:\\Users\\aleex\\AppData\\Roaming\\Python\\Python39\\site-packages\\soccerdata\\whoscored.py\" target=\"_blank\"><span style=\"color: #7f7f7f; text-decoration-color: #7f7f7f\">whoscored.py</span></a><span style=\"color: #7f7f7f; text-decoration-color: #7f7f7f\">:</span><a href=\"file://C:\\Users\\aleex\\AppData\\Roaming\\Python\\Python39\\site-packages\\soccerdata\\whoscored.py#683\" target=\"_blank\"><span style=\"color: #7f7f7f; text-decoration-color: #7f7f7f\">683</span></a>\n",
       "</pre>\n"
      ],
      "text/plain": [
       "\u001b[2;36m                   \u001b[0m\u001b[2;36m \u001b[0m\u001b[34mINFO    \u001b[0m \u001b[1m[\u001b[0m\u001b[1;36m1\u001b[0m/\u001b[1;36m1\u001b[0m\u001b[1m]\u001b[0m Retrieving game with \u001b[33mid\u001b[0m=\u001b[1;36m1640854\u001b[0m                                 \u001b]8;id=776287;file://C:\\Users\\aleex\\AppData\\Roaming\\Python\\Python39\\site-packages\\soccerdata\\whoscored.py\u001b\\\u001b[2mwhoscored.py\u001b[0m\u001b]8;;\u001b\\\u001b[2m:\u001b[0m\u001b]8;id=75855;file://C:\\Users\\aleex\\AppData\\Roaming\\Python\\Python39\\site-packages\\soccerdata\\whoscored.py#683\u001b\\\u001b[2m683\u001b[0m\u001b]8;;\u001b\\\n"
      ]
     },
     "metadata": {},
     "output_type": "display_data"
    },
    {
     "name": "stdout",
     "output_type": "stream",
     "text": [
      "18 / 38\n"
     ]
    },
    {
     "data": {
      "text/html": [
       "<pre style=\"white-space:pre;overflow-x:auto;line-height:normal;font-family:Menlo,'DejaVu Sans Mono',consolas,'Courier New',monospace\"><span style=\"color: #7fbfbf; text-decoration-color: #7fbfbf\">[11/14/23 01:12:57] </span><span style=\"color: #000080; text-decoration-color: #000080\">INFO    </span> Retrieving game schedule of ENG-Premier League - <span style=\"color: #008080; text-decoration-color: #008080; font-weight: bold\">2223</span> from the cache  <a href=\"file://C:\\Users\\aleex\\AppData\\Roaming\\Python\\Python39\\site-packages\\soccerdata\\whoscored.py\" target=\"_blank\"><span style=\"color: #7f7f7f; text-decoration-color: #7f7f7f\">whoscored.py</span></a><span style=\"color: #7f7f7f; text-decoration-color: #7f7f7f\">:</span><a href=\"file://C:\\Users\\aleex\\AppData\\Roaming\\Python\\Python39\\site-packages\\soccerdata\\whoscored.py#434\" target=\"_blank\"><span style=\"color: #7f7f7f; text-decoration-color: #7f7f7f\">434</span></a>\n",
       "</pre>\n"
      ],
      "text/plain": [
       "\u001b[2;36m[11/14/23 01:12:57]\u001b[0m\u001b[2;36m \u001b[0m\u001b[34mINFO    \u001b[0m Retrieving game schedule of ENG-Premier League - \u001b[1;36m2223\u001b[0m from the cache  \u001b]8;id=751058;file://C:\\Users\\aleex\\AppData\\Roaming\\Python\\Python39\\site-packages\\soccerdata\\whoscored.py\u001b\\\u001b[2mwhoscored.py\u001b[0m\u001b]8;;\u001b\\\u001b[2m:\u001b[0m\u001b]8;id=485860;file://C:\\Users\\aleex\\AppData\\Roaming\\Python\\Python39\\site-packages\\soccerdata\\whoscored.py#434\u001b\\\u001b[2m434\u001b[0m\u001b]8;;\u001b\\\n"
      ]
     },
     "metadata": {},
     "output_type": "display_data"
    },
    {
     "data": {
      "text/html": [
       "<pre style=\"white-space:pre;overflow-x:auto;line-height:normal;font-family:Menlo,'DejaVu Sans Mono',consolas,'Courier New',monospace\"><span style=\"color: #7fbfbf; text-decoration-color: #7fbfbf\">                    </span><span style=\"color: #000080; text-decoration-color: #000080\">INFO    </span> <span style=\"font-weight: bold\">[</span><span style=\"color: #008080; text-decoration-color: #008080; font-weight: bold\">1</span>/<span style=\"color: #008080; text-decoration-color: #008080; font-weight: bold\">1</span><span style=\"font-weight: bold\">]</span> Retrieving game with <span style=\"color: #808000; text-decoration-color: #808000\">id</span>=<span style=\"color: #008080; text-decoration-color: #008080; font-weight: bold\">1640872</span>                                 <a href=\"file://C:\\Users\\aleex\\AppData\\Roaming\\Python\\Python39\\site-packages\\soccerdata\\whoscored.py\" target=\"_blank\"><span style=\"color: #7f7f7f; text-decoration-color: #7f7f7f\">whoscored.py</span></a><span style=\"color: #7f7f7f; text-decoration-color: #7f7f7f\">:</span><a href=\"file://C:\\Users\\aleex\\AppData\\Roaming\\Python\\Python39\\site-packages\\soccerdata\\whoscored.py#683\" target=\"_blank\"><span style=\"color: #7f7f7f; text-decoration-color: #7f7f7f\">683</span></a>\n",
       "</pre>\n"
      ],
      "text/plain": [
       "\u001b[2;36m                   \u001b[0m\u001b[2;36m \u001b[0m\u001b[34mINFO    \u001b[0m \u001b[1m[\u001b[0m\u001b[1;36m1\u001b[0m/\u001b[1;36m1\u001b[0m\u001b[1m]\u001b[0m Retrieving game with \u001b[33mid\u001b[0m=\u001b[1;36m1640872\u001b[0m                                 \u001b]8;id=49756;file://C:\\Users\\aleex\\AppData\\Roaming\\Python\\Python39\\site-packages\\soccerdata\\whoscored.py\u001b\\\u001b[2mwhoscored.py\u001b[0m\u001b]8;;\u001b\\\u001b[2m:\u001b[0m\u001b]8;id=319243;file://C:\\Users\\aleex\\AppData\\Roaming\\Python\\Python39\\site-packages\\soccerdata\\whoscored.py#683\u001b\\\u001b[2m683\u001b[0m\u001b]8;;\u001b\\\n"
      ]
     },
     "metadata": {},
     "output_type": "display_data"
    },
    {
     "name": "stdout",
     "output_type": "stream",
     "text": [
      "19 / 38\n"
     ]
    },
    {
     "data": {
      "text/html": [
       "<pre style=\"white-space:pre;overflow-x:auto;line-height:normal;font-family:Menlo,'DejaVu Sans Mono',consolas,'Courier New',monospace\"><span style=\"color: #7fbfbf; text-decoration-color: #7fbfbf\">                    </span><span style=\"color: #000080; text-decoration-color: #000080\">INFO    </span> Retrieving game schedule of ENG-Premier League - <span style=\"color: #008080; text-decoration-color: #008080; font-weight: bold\">2223</span> from the cache  <a href=\"file://C:\\Users\\aleex\\AppData\\Roaming\\Python\\Python39\\site-packages\\soccerdata\\whoscored.py\" target=\"_blank\"><span style=\"color: #7f7f7f; text-decoration-color: #7f7f7f\">whoscored.py</span></a><span style=\"color: #7f7f7f; text-decoration-color: #7f7f7f\">:</span><a href=\"file://C:\\Users\\aleex\\AppData\\Roaming\\Python\\Python39\\site-packages\\soccerdata\\whoscored.py#434\" target=\"_blank\"><span style=\"color: #7f7f7f; text-decoration-color: #7f7f7f\">434</span></a>\n",
       "</pre>\n"
      ],
      "text/plain": [
       "\u001b[2;36m                   \u001b[0m\u001b[2;36m \u001b[0m\u001b[34mINFO    \u001b[0m Retrieving game schedule of ENG-Premier League - \u001b[1;36m2223\u001b[0m from the cache  \u001b]8;id=605672;file://C:\\Users\\aleex\\AppData\\Roaming\\Python\\Python39\\site-packages\\soccerdata\\whoscored.py\u001b\\\u001b[2mwhoscored.py\u001b[0m\u001b]8;;\u001b\\\u001b[2m:\u001b[0m\u001b]8;id=605809;file://C:\\Users\\aleex\\AppData\\Roaming\\Python\\Python39\\site-packages\\soccerdata\\whoscored.py#434\u001b\\\u001b[2m434\u001b[0m\u001b]8;;\u001b\\\n"
      ]
     },
     "metadata": {},
     "output_type": "display_data"
    },
    {
     "data": {
      "text/html": [
       "<pre style=\"white-space:pre;overflow-x:auto;line-height:normal;font-family:Menlo,'DejaVu Sans Mono',consolas,'Courier New',monospace\"><span style=\"color: #7fbfbf; text-decoration-color: #7fbfbf\">                    </span><span style=\"color: #000080; text-decoration-color: #000080\">INFO    </span> <span style=\"font-weight: bold\">[</span><span style=\"color: #008080; text-decoration-color: #008080; font-weight: bold\">1</span>/<span style=\"color: #008080; text-decoration-color: #008080; font-weight: bold\">1</span><span style=\"font-weight: bold\">]</span> Retrieving game with <span style=\"color: #808000; text-decoration-color: #808000\">id</span>=<span style=\"color: #008080; text-decoration-color: #008080; font-weight: bold\">1640876</span>                                 <a href=\"file://C:\\Users\\aleex\\AppData\\Roaming\\Python\\Python39\\site-packages\\soccerdata\\whoscored.py\" target=\"_blank\"><span style=\"color: #7f7f7f; text-decoration-color: #7f7f7f\">whoscored.py</span></a><span style=\"color: #7f7f7f; text-decoration-color: #7f7f7f\">:</span><a href=\"file://C:\\Users\\aleex\\AppData\\Roaming\\Python\\Python39\\site-packages\\soccerdata\\whoscored.py#683\" target=\"_blank\"><span style=\"color: #7f7f7f; text-decoration-color: #7f7f7f\">683</span></a>\n",
       "</pre>\n"
      ],
      "text/plain": [
       "\u001b[2;36m                   \u001b[0m\u001b[2;36m \u001b[0m\u001b[34mINFO    \u001b[0m \u001b[1m[\u001b[0m\u001b[1;36m1\u001b[0m/\u001b[1;36m1\u001b[0m\u001b[1m]\u001b[0m Retrieving game with \u001b[33mid\u001b[0m=\u001b[1;36m1640876\u001b[0m                                 \u001b]8;id=885569;file://C:\\Users\\aleex\\AppData\\Roaming\\Python\\Python39\\site-packages\\soccerdata\\whoscored.py\u001b\\\u001b[2mwhoscored.py\u001b[0m\u001b]8;;\u001b\\\u001b[2m:\u001b[0m\u001b]8;id=834044;file://C:\\Users\\aleex\\AppData\\Roaming\\Python\\Python39\\site-packages\\soccerdata\\whoscored.py#683\u001b\\\u001b[2m683\u001b[0m\u001b]8;;\u001b\\\n"
      ]
     },
     "metadata": {},
     "output_type": "display_data"
    },
    {
     "name": "stdout",
     "output_type": "stream",
     "text": [
      "20 / 38\n"
     ]
    },
    {
     "data": {
      "text/html": [
       "<pre style=\"white-space:pre;overflow-x:auto;line-height:normal;font-family:Menlo,'DejaVu Sans Mono',consolas,'Courier New',monospace\"><span style=\"color: #7fbfbf; text-decoration-color: #7fbfbf\">[11/14/23 01:12:58] </span><span style=\"color: #000080; text-decoration-color: #000080\">INFO    </span> Retrieving game schedule of ENG-Premier League - <span style=\"color: #008080; text-decoration-color: #008080; font-weight: bold\">2223</span> from the cache  <a href=\"file://C:\\Users\\aleex\\AppData\\Roaming\\Python\\Python39\\site-packages\\soccerdata\\whoscored.py\" target=\"_blank\"><span style=\"color: #7f7f7f; text-decoration-color: #7f7f7f\">whoscored.py</span></a><span style=\"color: #7f7f7f; text-decoration-color: #7f7f7f\">:</span><a href=\"file://C:\\Users\\aleex\\AppData\\Roaming\\Python\\Python39\\site-packages\\soccerdata\\whoscored.py#434\" target=\"_blank\"><span style=\"color: #7f7f7f; text-decoration-color: #7f7f7f\">434</span></a>\n",
       "</pre>\n"
      ],
      "text/plain": [
       "\u001b[2;36m[11/14/23 01:12:58]\u001b[0m\u001b[2;36m \u001b[0m\u001b[34mINFO    \u001b[0m Retrieving game schedule of ENG-Premier League - \u001b[1;36m2223\u001b[0m from the cache  \u001b]8;id=377426;file://C:\\Users\\aleex\\AppData\\Roaming\\Python\\Python39\\site-packages\\soccerdata\\whoscored.py\u001b\\\u001b[2mwhoscored.py\u001b[0m\u001b]8;;\u001b\\\u001b[2m:\u001b[0m\u001b]8;id=610327;file://C:\\Users\\aleex\\AppData\\Roaming\\Python\\Python39\\site-packages\\soccerdata\\whoscored.py#434\u001b\\\u001b[2m434\u001b[0m\u001b]8;;\u001b\\\n"
      ]
     },
     "metadata": {},
     "output_type": "display_data"
    },
    {
     "data": {
      "text/html": [
       "<pre style=\"white-space:pre;overflow-x:auto;line-height:normal;font-family:Menlo,'DejaVu Sans Mono',consolas,'Courier New',monospace\"><span style=\"color: #7fbfbf; text-decoration-color: #7fbfbf\">                    </span><span style=\"color: #000080; text-decoration-color: #000080\">INFO    </span> <span style=\"font-weight: bold\">[</span><span style=\"color: #008080; text-decoration-color: #008080; font-weight: bold\">1</span>/<span style=\"color: #008080; text-decoration-color: #008080; font-weight: bold\">1</span><span style=\"font-weight: bold\">]</span> Retrieving game with <span style=\"color: #808000; text-decoration-color: #808000\">id</span>=<span style=\"color: #008080; text-decoration-color: #008080; font-weight: bold\">1640904</span>                                 <a href=\"file://C:\\Users\\aleex\\AppData\\Roaming\\Python\\Python39\\site-packages\\soccerdata\\whoscored.py\" target=\"_blank\"><span style=\"color: #7f7f7f; text-decoration-color: #7f7f7f\">whoscored.py</span></a><span style=\"color: #7f7f7f; text-decoration-color: #7f7f7f\">:</span><a href=\"file://C:\\Users\\aleex\\AppData\\Roaming\\Python\\Python39\\site-packages\\soccerdata\\whoscored.py#683\" target=\"_blank\"><span style=\"color: #7f7f7f; text-decoration-color: #7f7f7f\">683</span></a>\n",
       "</pre>\n"
      ],
      "text/plain": [
       "\u001b[2;36m                   \u001b[0m\u001b[2;36m \u001b[0m\u001b[34mINFO    \u001b[0m \u001b[1m[\u001b[0m\u001b[1;36m1\u001b[0m/\u001b[1;36m1\u001b[0m\u001b[1m]\u001b[0m Retrieving game with \u001b[33mid\u001b[0m=\u001b[1;36m1640904\u001b[0m                                 \u001b]8;id=764746;file://C:\\Users\\aleex\\AppData\\Roaming\\Python\\Python39\\site-packages\\soccerdata\\whoscored.py\u001b\\\u001b[2mwhoscored.py\u001b[0m\u001b]8;;\u001b\\\u001b[2m:\u001b[0m\u001b]8;id=513940;file://C:\\Users\\aleex\\AppData\\Roaming\\Python\\Python39\\site-packages\\soccerdata\\whoscored.py#683\u001b\\\u001b[2m683\u001b[0m\u001b]8;;\u001b\\\n"
      ]
     },
     "metadata": {},
     "output_type": "display_data"
    },
    {
     "name": "stdout",
     "output_type": "stream",
     "text": [
      "21 / 38\n"
     ]
    },
    {
     "data": {
      "text/html": [
       "<pre style=\"white-space:pre;overflow-x:auto;line-height:normal;font-family:Menlo,'DejaVu Sans Mono',consolas,'Courier New',monospace\"><span style=\"color: #7fbfbf; text-decoration-color: #7fbfbf\">                    </span><span style=\"color: #000080; text-decoration-color: #000080\">INFO    </span> Retrieving game schedule of ENG-Premier League - <span style=\"color: #008080; text-decoration-color: #008080; font-weight: bold\">2223</span> from the cache  <a href=\"file://C:\\Users\\aleex\\AppData\\Roaming\\Python\\Python39\\site-packages\\soccerdata\\whoscored.py\" target=\"_blank\"><span style=\"color: #7f7f7f; text-decoration-color: #7f7f7f\">whoscored.py</span></a><span style=\"color: #7f7f7f; text-decoration-color: #7f7f7f\">:</span><a href=\"file://C:\\Users\\aleex\\AppData\\Roaming\\Python\\Python39\\site-packages\\soccerdata\\whoscored.py#434\" target=\"_blank\"><span style=\"color: #7f7f7f; text-decoration-color: #7f7f7f\">434</span></a>\n",
       "</pre>\n"
      ],
      "text/plain": [
       "\u001b[2;36m                   \u001b[0m\u001b[2;36m \u001b[0m\u001b[34mINFO    \u001b[0m Retrieving game schedule of ENG-Premier League - \u001b[1;36m2223\u001b[0m from the cache  \u001b]8;id=460707;file://C:\\Users\\aleex\\AppData\\Roaming\\Python\\Python39\\site-packages\\soccerdata\\whoscored.py\u001b\\\u001b[2mwhoscored.py\u001b[0m\u001b]8;;\u001b\\\u001b[2m:\u001b[0m\u001b]8;id=782136;file://C:\\Users\\aleex\\AppData\\Roaming\\Python\\Python39\\site-packages\\soccerdata\\whoscored.py#434\u001b\\\u001b[2m434\u001b[0m\u001b]8;;\u001b\\\n"
      ]
     },
     "metadata": {},
     "output_type": "display_data"
    },
    {
     "data": {
      "text/html": [
       "<pre style=\"white-space:pre;overflow-x:auto;line-height:normal;font-family:Menlo,'DejaVu Sans Mono',consolas,'Courier New',monospace\"><span style=\"color: #7fbfbf; text-decoration-color: #7fbfbf\">                    </span><span style=\"color: #000080; text-decoration-color: #000080\">INFO    </span> <span style=\"font-weight: bold\">[</span><span style=\"color: #008080; text-decoration-color: #008080; font-weight: bold\">1</span>/<span style=\"color: #008080; text-decoration-color: #008080; font-weight: bold\">1</span><span style=\"font-weight: bold\">]</span> Retrieving game with <span style=\"color: #808000; text-decoration-color: #808000\">id</span>=<span style=\"color: #008080; text-decoration-color: #008080; font-weight: bold\">1640916</span>                                 <a href=\"file://C:\\Users\\aleex\\AppData\\Roaming\\Python\\Python39\\site-packages\\soccerdata\\whoscored.py\" target=\"_blank\"><span style=\"color: #7f7f7f; text-decoration-color: #7f7f7f\">whoscored.py</span></a><span style=\"color: #7f7f7f; text-decoration-color: #7f7f7f\">:</span><a href=\"file://C:\\Users\\aleex\\AppData\\Roaming\\Python\\Python39\\site-packages\\soccerdata\\whoscored.py#683\" target=\"_blank\"><span style=\"color: #7f7f7f; text-decoration-color: #7f7f7f\">683</span></a>\n",
       "</pre>\n"
      ],
      "text/plain": [
       "\u001b[2;36m                   \u001b[0m\u001b[2;36m \u001b[0m\u001b[34mINFO    \u001b[0m \u001b[1m[\u001b[0m\u001b[1;36m1\u001b[0m/\u001b[1;36m1\u001b[0m\u001b[1m]\u001b[0m Retrieving game with \u001b[33mid\u001b[0m=\u001b[1;36m1640916\u001b[0m                                 \u001b]8;id=167327;file://C:\\Users\\aleex\\AppData\\Roaming\\Python\\Python39\\site-packages\\soccerdata\\whoscored.py\u001b\\\u001b[2mwhoscored.py\u001b[0m\u001b]8;;\u001b\\\u001b[2m:\u001b[0m\u001b]8;id=456911;file://C:\\Users\\aleex\\AppData\\Roaming\\Python\\Python39\\site-packages\\soccerdata\\whoscored.py#683\u001b\\\u001b[2m683\u001b[0m\u001b]8;;\u001b\\\n"
      ]
     },
     "metadata": {},
     "output_type": "display_data"
    },
    {
     "name": "stdout",
     "output_type": "stream",
     "text": [
      "22 / 38\n"
     ]
    },
    {
     "data": {
      "text/html": [
       "<pre style=\"white-space:pre;overflow-x:auto;line-height:normal;font-family:Menlo,'DejaVu Sans Mono',consolas,'Courier New',monospace\"><span style=\"color: #7fbfbf; text-decoration-color: #7fbfbf\">[11/14/23 01:12:59] </span><span style=\"color: #000080; text-decoration-color: #000080\">INFO    </span> Retrieving game schedule of ENG-Premier League - <span style=\"color: #008080; text-decoration-color: #008080; font-weight: bold\">2223</span> from the cache  <a href=\"file://C:\\Users\\aleex\\AppData\\Roaming\\Python\\Python39\\site-packages\\soccerdata\\whoscored.py\" target=\"_blank\"><span style=\"color: #7f7f7f; text-decoration-color: #7f7f7f\">whoscored.py</span></a><span style=\"color: #7f7f7f; text-decoration-color: #7f7f7f\">:</span><a href=\"file://C:\\Users\\aleex\\AppData\\Roaming\\Python\\Python39\\site-packages\\soccerdata\\whoscored.py#434\" target=\"_blank\"><span style=\"color: #7f7f7f; text-decoration-color: #7f7f7f\">434</span></a>\n",
       "</pre>\n"
      ],
      "text/plain": [
       "\u001b[2;36m[11/14/23 01:12:59]\u001b[0m\u001b[2;36m \u001b[0m\u001b[34mINFO    \u001b[0m Retrieving game schedule of ENG-Premier League - \u001b[1;36m2223\u001b[0m from the cache  \u001b]8;id=255408;file://C:\\Users\\aleex\\AppData\\Roaming\\Python\\Python39\\site-packages\\soccerdata\\whoscored.py\u001b\\\u001b[2mwhoscored.py\u001b[0m\u001b]8;;\u001b\\\u001b[2m:\u001b[0m\u001b]8;id=197793;file://C:\\Users\\aleex\\AppData\\Roaming\\Python\\Python39\\site-packages\\soccerdata\\whoscored.py#434\u001b\\\u001b[2m434\u001b[0m\u001b]8;;\u001b\\\n"
      ]
     },
     "metadata": {},
     "output_type": "display_data"
    },
    {
     "data": {
      "text/html": [
       "<pre style=\"white-space:pre;overflow-x:auto;line-height:normal;font-family:Menlo,'DejaVu Sans Mono',consolas,'Courier New',monospace\"><span style=\"color: #7fbfbf; text-decoration-color: #7fbfbf\">                    </span><span style=\"color: #000080; text-decoration-color: #000080\">INFO    </span> <span style=\"font-weight: bold\">[</span><span style=\"color: #008080; text-decoration-color: #008080; font-weight: bold\">1</span>/<span style=\"color: #008080; text-decoration-color: #008080; font-weight: bold\">1</span><span style=\"font-weight: bold\">]</span> Retrieving game with <span style=\"color: #808000; text-decoration-color: #808000\">id</span>=<span style=\"color: #008080; text-decoration-color: #008080; font-weight: bold\">1640784</span>                                 <a href=\"file://C:\\Users\\aleex\\AppData\\Roaming\\Python\\Python39\\site-packages\\soccerdata\\whoscored.py\" target=\"_blank\"><span style=\"color: #7f7f7f; text-decoration-color: #7f7f7f\">whoscored.py</span></a><span style=\"color: #7f7f7f; text-decoration-color: #7f7f7f\">:</span><a href=\"file://C:\\Users\\aleex\\AppData\\Roaming\\Python\\Python39\\site-packages\\soccerdata\\whoscored.py#683\" target=\"_blank\"><span style=\"color: #7f7f7f; text-decoration-color: #7f7f7f\">683</span></a>\n",
       "</pre>\n"
      ],
      "text/plain": [
       "\u001b[2;36m                   \u001b[0m\u001b[2;36m \u001b[0m\u001b[34mINFO    \u001b[0m \u001b[1m[\u001b[0m\u001b[1;36m1\u001b[0m/\u001b[1;36m1\u001b[0m\u001b[1m]\u001b[0m Retrieving game with \u001b[33mid\u001b[0m=\u001b[1;36m1640784\u001b[0m                                 \u001b]8;id=118031;file://C:\\Users\\aleex\\AppData\\Roaming\\Python\\Python39\\site-packages\\soccerdata\\whoscored.py\u001b\\\u001b[2mwhoscored.py\u001b[0m\u001b]8;;\u001b\\\u001b[2m:\u001b[0m\u001b]8;id=11774;file://C:\\Users\\aleex\\AppData\\Roaming\\Python\\Python39\\site-packages\\soccerdata\\whoscored.py#683\u001b\\\u001b[2m683\u001b[0m\u001b]8;;\u001b\\\n"
      ]
     },
     "metadata": {},
     "output_type": "display_data"
    },
    {
     "name": "stdout",
     "output_type": "stream",
     "text": [
      "23 / 38\n"
     ]
    },
    {
     "data": {
      "text/html": [
       "<pre style=\"white-space:pre;overflow-x:auto;line-height:normal;font-family:Menlo,'DejaVu Sans Mono',consolas,'Courier New',monospace\"><span style=\"color: #7fbfbf; text-decoration-color: #7fbfbf\">                    </span><span style=\"color: #000080; text-decoration-color: #000080\">INFO    </span> Retrieving game schedule of ENG-Premier League - <span style=\"color: #008080; text-decoration-color: #008080; font-weight: bold\">2223</span> from the cache  <a href=\"file://C:\\Users\\aleex\\AppData\\Roaming\\Python\\Python39\\site-packages\\soccerdata\\whoscored.py\" target=\"_blank\"><span style=\"color: #7f7f7f; text-decoration-color: #7f7f7f\">whoscored.py</span></a><span style=\"color: #7f7f7f; text-decoration-color: #7f7f7f\">:</span><a href=\"file://C:\\Users\\aleex\\AppData\\Roaming\\Python\\Python39\\site-packages\\soccerdata\\whoscored.py#434\" target=\"_blank\"><span style=\"color: #7f7f7f; text-decoration-color: #7f7f7f\">434</span></a>\n",
       "</pre>\n"
      ],
      "text/plain": [
       "\u001b[2;36m                   \u001b[0m\u001b[2;36m \u001b[0m\u001b[34mINFO    \u001b[0m Retrieving game schedule of ENG-Premier League - \u001b[1;36m2223\u001b[0m from the cache  \u001b]8;id=578854;file://C:\\Users\\aleex\\AppData\\Roaming\\Python\\Python39\\site-packages\\soccerdata\\whoscored.py\u001b\\\u001b[2mwhoscored.py\u001b[0m\u001b]8;;\u001b\\\u001b[2m:\u001b[0m\u001b]8;id=806301;file://C:\\Users\\aleex\\AppData\\Roaming\\Python\\Python39\\site-packages\\soccerdata\\whoscored.py#434\u001b\\\u001b[2m434\u001b[0m\u001b]8;;\u001b\\\n"
      ]
     },
     "metadata": {},
     "output_type": "display_data"
    },
    {
     "data": {
      "text/html": [
       "<pre style=\"white-space:pre;overflow-x:auto;line-height:normal;font-family:Menlo,'DejaVu Sans Mono',consolas,'Courier New',monospace\"><span style=\"color: #7fbfbf; text-decoration-color: #7fbfbf\">[11/14/23 01:13:00] </span><span style=\"color: #000080; text-decoration-color: #000080\">INFO    </span> <span style=\"font-weight: bold\">[</span><span style=\"color: #008080; text-decoration-color: #008080; font-weight: bold\">1</span>/<span style=\"color: #008080; text-decoration-color: #008080; font-weight: bold\">1</span><span style=\"font-weight: bold\">]</span> Retrieving game with <span style=\"color: #808000; text-decoration-color: #808000\">id</span>=<span style=\"color: #008080; text-decoration-color: #008080; font-weight: bold\">1640936</span>                                 <a href=\"file://C:\\Users\\aleex\\AppData\\Roaming\\Python\\Python39\\site-packages\\soccerdata\\whoscored.py\" target=\"_blank\"><span style=\"color: #7f7f7f; text-decoration-color: #7f7f7f\">whoscored.py</span></a><span style=\"color: #7f7f7f; text-decoration-color: #7f7f7f\">:</span><a href=\"file://C:\\Users\\aleex\\AppData\\Roaming\\Python\\Python39\\site-packages\\soccerdata\\whoscored.py#683\" target=\"_blank\"><span style=\"color: #7f7f7f; text-decoration-color: #7f7f7f\">683</span></a>\n",
       "</pre>\n"
      ],
      "text/plain": [
       "\u001b[2;36m[11/14/23 01:13:00]\u001b[0m\u001b[2;36m \u001b[0m\u001b[34mINFO    \u001b[0m \u001b[1m[\u001b[0m\u001b[1;36m1\u001b[0m/\u001b[1;36m1\u001b[0m\u001b[1m]\u001b[0m Retrieving game with \u001b[33mid\u001b[0m=\u001b[1;36m1640936\u001b[0m                                 \u001b]8;id=303144;file://C:\\Users\\aleex\\AppData\\Roaming\\Python\\Python39\\site-packages\\soccerdata\\whoscored.py\u001b\\\u001b[2mwhoscored.py\u001b[0m\u001b]8;;\u001b\\\u001b[2m:\u001b[0m\u001b]8;id=908098;file://C:\\Users\\aleex\\AppData\\Roaming\\Python\\Python39\\site-packages\\soccerdata\\whoscored.py#683\u001b\\\u001b[2m683\u001b[0m\u001b]8;;\u001b\\\n"
      ]
     },
     "metadata": {},
     "output_type": "display_data"
    },
    {
     "name": "stdout",
     "output_type": "stream",
     "text": [
      "24 / 38\n"
     ]
    },
    {
     "data": {
      "text/html": [
       "<pre style=\"white-space:pre;overflow-x:auto;line-height:normal;font-family:Menlo,'DejaVu Sans Mono',consolas,'Courier New',monospace\"><span style=\"color: #7fbfbf; text-decoration-color: #7fbfbf\">                    </span><span style=\"color: #000080; text-decoration-color: #000080\">INFO    </span> Retrieving game schedule of ENG-Premier League - <span style=\"color: #008080; text-decoration-color: #008080; font-weight: bold\">2223</span> from the cache  <a href=\"file://C:\\Users\\aleex\\AppData\\Roaming\\Python\\Python39\\site-packages\\soccerdata\\whoscored.py\" target=\"_blank\"><span style=\"color: #7f7f7f; text-decoration-color: #7f7f7f\">whoscored.py</span></a><span style=\"color: #7f7f7f; text-decoration-color: #7f7f7f\">:</span><a href=\"file://C:\\Users\\aleex\\AppData\\Roaming\\Python\\Python39\\site-packages\\soccerdata\\whoscored.py#434\" target=\"_blank\"><span style=\"color: #7f7f7f; text-decoration-color: #7f7f7f\">434</span></a>\n",
       "</pre>\n"
      ],
      "text/plain": [
       "\u001b[2;36m                   \u001b[0m\u001b[2;36m \u001b[0m\u001b[34mINFO    \u001b[0m Retrieving game schedule of ENG-Premier League - \u001b[1;36m2223\u001b[0m from the cache  \u001b]8;id=818293;file://C:\\Users\\aleex\\AppData\\Roaming\\Python\\Python39\\site-packages\\soccerdata\\whoscored.py\u001b\\\u001b[2mwhoscored.py\u001b[0m\u001b]8;;\u001b\\\u001b[2m:\u001b[0m\u001b]8;id=799120;file://C:\\Users\\aleex\\AppData\\Roaming\\Python\\Python39\\site-packages\\soccerdata\\whoscored.py#434\u001b\\\u001b[2m434\u001b[0m\u001b]8;;\u001b\\\n"
      ]
     },
     "metadata": {},
     "output_type": "display_data"
    },
    {
     "data": {
      "text/html": [
       "<pre style=\"white-space:pre;overflow-x:auto;line-height:normal;font-family:Menlo,'DejaVu Sans Mono',consolas,'Courier New',monospace\"><span style=\"color: #7fbfbf; text-decoration-color: #7fbfbf\">                    </span><span style=\"color: #000080; text-decoration-color: #000080\">INFO    </span> <span style=\"font-weight: bold\">[</span><span style=\"color: #008080; text-decoration-color: #008080; font-weight: bold\">1</span>/<span style=\"color: #008080; text-decoration-color: #008080; font-weight: bold\">1</span><span style=\"font-weight: bold\">]</span> Retrieving game with <span style=\"color: #808000; text-decoration-color: #808000\">id</span>=<span style=\"color: #008080; text-decoration-color: #008080; font-weight: bold\">1640966</span>                                 <a href=\"file://C:\\Users\\aleex\\AppData\\Roaming\\Python\\Python39\\site-packages\\soccerdata\\whoscored.py\" target=\"_blank\"><span style=\"color: #7f7f7f; text-decoration-color: #7f7f7f\">whoscored.py</span></a><span style=\"color: #7f7f7f; text-decoration-color: #7f7f7f\">:</span><a href=\"file://C:\\Users\\aleex\\AppData\\Roaming\\Python\\Python39\\site-packages\\soccerdata\\whoscored.py#683\" target=\"_blank\"><span style=\"color: #7f7f7f; text-decoration-color: #7f7f7f\">683</span></a>\n",
       "</pre>\n"
      ],
      "text/plain": [
       "\u001b[2;36m                   \u001b[0m\u001b[2;36m \u001b[0m\u001b[34mINFO    \u001b[0m \u001b[1m[\u001b[0m\u001b[1;36m1\u001b[0m/\u001b[1;36m1\u001b[0m\u001b[1m]\u001b[0m Retrieving game with \u001b[33mid\u001b[0m=\u001b[1;36m1640966\u001b[0m                                 \u001b]8;id=574251;file://C:\\Users\\aleex\\AppData\\Roaming\\Python\\Python39\\site-packages\\soccerdata\\whoscored.py\u001b\\\u001b[2mwhoscored.py\u001b[0m\u001b]8;;\u001b\\\u001b[2m:\u001b[0m\u001b]8;id=212385;file://C:\\Users\\aleex\\AppData\\Roaming\\Python\\Python39\\site-packages\\soccerdata\\whoscored.py#683\u001b\\\u001b[2m683\u001b[0m\u001b]8;;\u001b\\\n"
      ]
     },
     "metadata": {},
     "output_type": "display_data"
    },
    {
     "name": "stdout",
     "output_type": "stream",
     "text": [
      "25 / 38\n"
     ]
    },
    {
     "data": {
      "text/html": [
       "<pre style=\"white-space:pre;overflow-x:auto;line-height:normal;font-family:Menlo,'DejaVu Sans Mono',consolas,'Courier New',monospace\"><span style=\"color: #7fbfbf; text-decoration-color: #7fbfbf\">                    </span><span style=\"color: #000080; text-decoration-color: #000080\">INFO    </span> Retrieving game schedule of ENG-Premier League - <span style=\"color: #008080; text-decoration-color: #008080; font-weight: bold\">2223</span> from the cache  <a href=\"file://C:\\Users\\aleex\\AppData\\Roaming\\Python\\Python39\\site-packages\\soccerdata\\whoscored.py\" target=\"_blank\"><span style=\"color: #7f7f7f; text-decoration-color: #7f7f7f\">whoscored.py</span></a><span style=\"color: #7f7f7f; text-decoration-color: #7f7f7f\">:</span><a href=\"file://C:\\Users\\aleex\\AppData\\Roaming\\Python\\Python39\\site-packages\\soccerdata\\whoscored.py#434\" target=\"_blank\"><span style=\"color: #7f7f7f; text-decoration-color: #7f7f7f\">434</span></a>\n",
       "</pre>\n"
      ],
      "text/plain": [
       "\u001b[2;36m                   \u001b[0m\u001b[2;36m \u001b[0m\u001b[34mINFO    \u001b[0m Retrieving game schedule of ENG-Premier League - \u001b[1;36m2223\u001b[0m from the cache  \u001b]8;id=86677;file://C:\\Users\\aleex\\AppData\\Roaming\\Python\\Python39\\site-packages\\soccerdata\\whoscored.py\u001b\\\u001b[2mwhoscored.py\u001b[0m\u001b]8;;\u001b\\\u001b[2m:\u001b[0m\u001b]8;id=552605;file://C:\\Users\\aleex\\AppData\\Roaming\\Python\\Python39\\site-packages\\soccerdata\\whoscored.py#434\u001b\\\u001b[2m434\u001b[0m\u001b]8;;\u001b\\\n"
      ]
     },
     "metadata": {},
     "output_type": "display_data"
    },
    {
     "data": {
      "text/html": [
       "<pre style=\"white-space:pre;overflow-x:auto;line-height:normal;font-family:Menlo,'DejaVu Sans Mono',consolas,'Courier New',monospace\"><span style=\"color: #7fbfbf; text-decoration-color: #7fbfbf\">[11/14/23 01:13:01] </span><span style=\"color: #000080; text-decoration-color: #000080\">INFO    </span> <span style=\"font-weight: bold\">[</span><span style=\"color: #008080; text-decoration-color: #008080; font-weight: bold\">1</span>/<span style=\"color: #008080; text-decoration-color: #008080; font-weight: bold\">1</span><span style=\"font-weight: bold\">]</span> Retrieving game with <span style=\"color: #808000; text-decoration-color: #808000\">id</span>=<span style=\"color: #008080; text-decoration-color: #008080; font-weight: bold\">1640734</span>                                 <a href=\"file://C:\\Users\\aleex\\AppData\\Roaming\\Python\\Python39\\site-packages\\soccerdata\\whoscored.py\" target=\"_blank\"><span style=\"color: #7f7f7f; text-decoration-color: #7f7f7f\">whoscored.py</span></a><span style=\"color: #7f7f7f; text-decoration-color: #7f7f7f\">:</span><a href=\"file://C:\\Users\\aleex\\AppData\\Roaming\\Python\\Python39\\site-packages\\soccerdata\\whoscored.py#683\" target=\"_blank\"><span style=\"color: #7f7f7f; text-decoration-color: #7f7f7f\">683</span></a>\n",
       "</pre>\n"
      ],
      "text/plain": [
       "\u001b[2;36m[11/14/23 01:13:01]\u001b[0m\u001b[2;36m \u001b[0m\u001b[34mINFO    \u001b[0m \u001b[1m[\u001b[0m\u001b[1;36m1\u001b[0m/\u001b[1;36m1\u001b[0m\u001b[1m]\u001b[0m Retrieving game with \u001b[33mid\u001b[0m=\u001b[1;36m1640734\u001b[0m                                 \u001b]8;id=280233;file://C:\\Users\\aleex\\AppData\\Roaming\\Python\\Python39\\site-packages\\soccerdata\\whoscored.py\u001b\\\u001b[2mwhoscored.py\u001b[0m\u001b]8;;\u001b\\\u001b[2m:\u001b[0m\u001b]8;id=539903;file://C:\\Users\\aleex\\AppData\\Roaming\\Python\\Python39\\site-packages\\soccerdata\\whoscored.py#683\u001b\\\u001b[2m683\u001b[0m\u001b]8;;\u001b\\\n"
      ]
     },
     "metadata": {},
     "output_type": "display_data"
    },
    {
     "name": "stdout",
     "output_type": "stream",
     "text": [
      "26 / 38\n"
     ]
    },
    {
     "data": {
      "text/html": [
       "<pre style=\"white-space:pre;overflow-x:auto;line-height:normal;font-family:Menlo,'DejaVu Sans Mono',consolas,'Courier New',monospace\"><span style=\"color: #7fbfbf; text-decoration-color: #7fbfbf\">                    </span><span style=\"color: #000080; text-decoration-color: #000080\">INFO    </span> Retrieving game schedule of ENG-Premier League - <span style=\"color: #008080; text-decoration-color: #008080; font-weight: bold\">2223</span> from the cache  <a href=\"file://C:\\Users\\aleex\\AppData\\Roaming\\Python\\Python39\\site-packages\\soccerdata\\whoscored.py\" target=\"_blank\"><span style=\"color: #7f7f7f; text-decoration-color: #7f7f7f\">whoscored.py</span></a><span style=\"color: #7f7f7f; text-decoration-color: #7f7f7f\">:</span><a href=\"file://C:\\Users\\aleex\\AppData\\Roaming\\Python\\Python39\\site-packages\\soccerdata\\whoscored.py#434\" target=\"_blank\"><span style=\"color: #7f7f7f; text-decoration-color: #7f7f7f\">434</span></a>\n",
       "</pre>\n"
      ],
      "text/plain": [
       "\u001b[2;36m                   \u001b[0m\u001b[2;36m \u001b[0m\u001b[34mINFO    \u001b[0m Retrieving game schedule of ENG-Premier League - \u001b[1;36m2223\u001b[0m from the cache  \u001b]8;id=727052;file://C:\\Users\\aleex\\AppData\\Roaming\\Python\\Python39\\site-packages\\soccerdata\\whoscored.py\u001b\\\u001b[2mwhoscored.py\u001b[0m\u001b]8;;\u001b\\\u001b[2m:\u001b[0m\u001b]8;id=546651;file://C:\\Users\\aleex\\AppData\\Roaming\\Python\\Python39\\site-packages\\soccerdata\\whoscored.py#434\u001b\\\u001b[2m434\u001b[0m\u001b]8;;\u001b\\\n"
      ]
     },
     "metadata": {},
     "output_type": "display_data"
    },
    {
     "data": {
      "text/html": [
       "<pre style=\"white-space:pre;overflow-x:auto;line-height:normal;font-family:Menlo,'DejaVu Sans Mono',consolas,'Courier New',monospace\"><span style=\"color: #7fbfbf; text-decoration-color: #7fbfbf\">                    </span><span style=\"color: #000080; text-decoration-color: #000080\">INFO    </span> <span style=\"font-weight: bold\">[</span><span style=\"color: #008080; text-decoration-color: #008080; font-weight: bold\">1</span>/<span style=\"color: #008080; text-decoration-color: #008080; font-weight: bold\">1</span><span style=\"font-weight: bold\">]</span> Retrieving game with <span style=\"color: #808000; text-decoration-color: #808000\">id</span>=<span style=\"color: #008080; text-decoration-color: #008080; font-weight: bold\">1640875</span>                                 <a href=\"file://C:\\Users\\aleex\\AppData\\Roaming\\Python\\Python39\\site-packages\\soccerdata\\whoscored.py\" target=\"_blank\"><span style=\"color: #7f7f7f; text-decoration-color: #7f7f7f\">whoscored.py</span></a><span style=\"color: #7f7f7f; text-decoration-color: #7f7f7f\">:</span><a href=\"file://C:\\Users\\aleex\\AppData\\Roaming\\Python\\Python39\\site-packages\\soccerdata\\whoscored.py#683\" target=\"_blank\"><span style=\"color: #7f7f7f; text-decoration-color: #7f7f7f\">683</span></a>\n",
       "</pre>\n"
      ],
      "text/plain": [
       "\u001b[2;36m                   \u001b[0m\u001b[2;36m \u001b[0m\u001b[34mINFO    \u001b[0m \u001b[1m[\u001b[0m\u001b[1;36m1\u001b[0m/\u001b[1;36m1\u001b[0m\u001b[1m]\u001b[0m Retrieving game with \u001b[33mid\u001b[0m=\u001b[1;36m1640875\u001b[0m                                 \u001b]8;id=670050;file://C:\\Users\\aleex\\AppData\\Roaming\\Python\\Python39\\site-packages\\soccerdata\\whoscored.py\u001b\\\u001b[2mwhoscored.py\u001b[0m\u001b]8;;\u001b\\\u001b[2m:\u001b[0m\u001b]8;id=744429;file://C:\\Users\\aleex\\AppData\\Roaming\\Python\\Python39\\site-packages\\soccerdata\\whoscored.py#683\u001b\\\u001b[2m683\u001b[0m\u001b]8;;\u001b\\\n"
      ]
     },
     "metadata": {},
     "output_type": "display_data"
    },
    {
     "name": "stdout",
     "output_type": "stream",
     "text": [
      "27 / 38\n"
     ]
    },
    {
     "data": {
      "text/html": [
       "<pre style=\"white-space:pre;overflow-x:auto;line-height:normal;font-family:Menlo,'DejaVu Sans Mono',consolas,'Courier New',monospace\"><span style=\"color: #7fbfbf; text-decoration-color: #7fbfbf\">                    </span><span style=\"color: #000080; text-decoration-color: #000080\">INFO    </span> Retrieving game schedule of ENG-Premier League - <span style=\"color: #008080; text-decoration-color: #008080; font-weight: bold\">2223</span> from the cache  <a href=\"file://C:\\Users\\aleex\\AppData\\Roaming\\Python\\Python39\\site-packages\\soccerdata\\whoscored.py\" target=\"_blank\"><span style=\"color: #7f7f7f; text-decoration-color: #7f7f7f\">whoscored.py</span></a><span style=\"color: #7f7f7f; text-decoration-color: #7f7f7f\">:</span><a href=\"file://C:\\Users\\aleex\\AppData\\Roaming\\Python\\Python39\\site-packages\\soccerdata\\whoscored.py#434\" target=\"_blank\"><span style=\"color: #7f7f7f; text-decoration-color: #7f7f7f\">434</span></a>\n",
       "</pre>\n"
      ],
      "text/plain": [
       "\u001b[2;36m                   \u001b[0m\u001b[2;36m \u001b[0m\u001b[34mINFO    \u001b[0m Retrieving game schedule of ENG-Premier League - \u001b[1;36m2223\u001b[0m from the cache  \u001b]8;id=485002;file://C:\\Users\\aleex\\AppData\\Roaming\\Python\\Python39\\site-packages\\soccerdata\\whoscored.py\u001b\\\u001b[2mwhoscored.py\u001b[0m\u001b]8;;\u001b\\\u001b[2m:\u001b[0m\u001b]8;id=164009;file://C:\\Users\\aleex\\AppData\\Roaming\\Python\\Python39\\site-packages\\soccerdata\\whoscored.py#434\u001b\\\u001b[2m434\u001b[0m\u001b]8;;\u001b\\\n"
      ]
     },
     "metadata": {},
     "output_type": "display_data"
    },
    {
     "data": {
      "text/html": [
       "<pre style=\"white-space:pre;overflow-x:auto;line-height:normal;font-family:Menlo,'DejaVu Sans Mono',consolas,'Courier New',monospace\"><span style=\"color: #7fbfbf; text-decoration-color: #7fbfbf\">                    </span><span style=\"color: #000080; text-decoration-color: #000080\">INFO    </span> <span style=\"font-weight: bold\">[</span><span style=\"color: #008080; text-decoration-color: #008080; font-weight: bold\">1</span>/<span style=\"color: #008080; text-decoration-color: #008080; font-weight: bold\">1</span><span style=\"font-weight: bold\">]</span> Retrieving game with <span style=\"color: #808000; text-decoration-color: #808000\">id</span>=<span style=\"color: #008080; text-decoration-color: #008080; font-weight: bold\">1640901</span>                                 <a href=\"file://C:\\Users\\aleex\\AppData\\Roaming\\Python\\Python39\\site-packages\\soccerdata\\whoscored.py\" target=\"_blank\"><span style=\"color: #7f7f7f; text-decoration-color: #7f7f7f\">whoscored.py</span></a><span style=\"color: #7f7f7f; text-decoration-color: #7f7f7f\">:</span><a href=\"file://C:\\Users\\aleex\\AppData\\Roaming\\Python\\Python39\\site-packages\\soccerdata\\whoscored.py#683\" target=\"_blank\"><span style=\"color: #7f7f7f; text-decoration-color: #7f7f7f\">683</span></a>\n",
       "</pre>\n"
      ],
      "text/plain": [
       "\u001b[2;36m                   \u001b[0m\u001b[2;36m \u001b[0m\u001b[34mINFO    \u001b[0m \u001b[1m[\u001b[0m\u001b[1;36m1\u001b[0m/\u001b[1;36m1\u001b[0m\u001b[1m]\u001b[0m Retrieving game with \u001b[33mid\u001b[0m=\u001b[1;36m1640901\u001b[0m                                 \u001b]8;id=755299;file://C:\\Users\\aleex\\AppData\\Roaming\\Python\\Python39\\site-packages\\soccerdata\\whoscored.py\u001b\\\u001b[2mwhoscored.py\u001b[0m\u001b]8;;\u001b\\\u001b[2m:\u001b[0m\u001b]8;id=490602;file://C:\\Users\\aleex\\AppData\\Roaming\\Python\\Python39\\site-packages\\soccerdata\\whoscored.py#683\u001b\\\u001b[2m683\u001b[0m\u001b]8;;\u001b\\\n"
      ]
     },
     "metadata": {},
     "output_type": "display_data"
    },
    {
     "name": "stdout",
     "output_type": "stream",
     "text": [
      "28 / 38\n"
     ]
    },
    {
     "data": {
      "text/html": [
       "<pre style=\"white-space:pre;overflow-x:auto;line-height:normal;font-family:Menlo,'DejaVu Sans Mono',consolas,'Courier New',monospace\"><span style=\"color: #7fbfbf; text-decoration-color: #7fbfbf\">[11/14/23 01:13:02] </span><span style=\"color: #000080; text-decoration-color: #000080\">INFO    </span> Retrieving game schedule of ENG-Premier League - <span style=\"color: #008080; text-decoration-color: #008080; font-weight: bold\">2223</span> from the cache  <a href=\"file://C:\\Users\\aleex\\AppData\\Roaming\\Python\\Python39\\site-packages\\soccerdata\\whoscored.py\" target=\"_blank\"><span style=\"color: #7f7f7f; text-decoration-color: #7f7f7f\">whoscored.py</span></a><span style=\"color: #7f7f7f; text-decoration-color: #7f7f7f\">:</span><a href=\"file://C:\\Users\\aleex\\AppData\\Roaming\\Python\\Python39\\site-packages\\soccerdata\\whoscored.py#434\" target=\"_blank\"><span style=\"color: #7f7f7f; text-decoration-color: #7f7f7f\">434</span></a>\n",
       "</pre>\n"
      ],
      "text/plain": [
       "\u001b[2;36m[11/14/23 01:13:02]\u001b[0m\u001b[2;36m \u001b[0m\u001b[34mINFO    \u001b[0m Retrieving game schedule of ENG-Premier League - \u001b[1;36m2223\u001b[0m from the cache  \u001b]8;id=130552;file://C:\\Users\\aleex\\AppData\\Roaming\\Python\\Python39\\site-packages\\soccerdata\\whoscored.py\u001b\\\u001b[2mwhoscored.py\u001b[0m\u001b]8;;\u001b\\\u001b[2m:\u001b[0m\u001b]8;id=710411;file://C:\\Users\\aleex\\AppData\\Roaming\\Python\\Python39\\site-packages\\soccerdata\\whoscored.py#434\u001b\\\u001b[2m434\u001b[0m\u001b]8;;\u001b\\\n"
      ]
     },
     "metadata": {},
     "output_type": "display_data"
    },
    {
     "data": {
      "text/html": [
       "<pre style=\"white-space:pre;overflow-x:auto;line-height:normal;font-family:Menlo,'DejaVu Sans Mono',consolas,'Courier New',monospace\"><span style=\"color: #7fbfbf; text-decoration-color: #7fbfbf\">                    </span><span style=\"color: #000080; text-decoration-color: #000080\">INFO    </span> <span style=\"font-weight: bold\">[</span><span style=\"color: #008080; text-decoration-color: #008080; font-weight: bold\">1</span>/<span style=\"color: #008080; text-decoration-color: #008080; font-weight: bold\">1</span><span style=\"font-weight: bold\">]</span> Retrieving game with <span style=\"color: #808000; text-decoration-color: #808000\">id</span>=<span style=\"color: #008080; text-decoration-color: #008080; font-weight: bold\">1640915</span>                                 <a href=\"file://C:\\Users\\aleex\\AppData\\Roaming\\Python\\Python39\\site-packages\\soccerdata\\whoscored.py\" target=\"_blank\"><span style=\"color: #7f7f7f; text-decoration-color: #7f7f7f\">whoscored.py</span></a><span style=\"color: #7f7f7f; text-decoration-color: #7f7f7f\">:</span><a href=\"file://C:\\Users\\aleex\\AppData\\Roaming\\Python\\Python39\\site-packages\\soccerdata\\whoscored.py#683\" target=\"_blank\"><span style=\"color: #7f7f7f; text-decoration-color: #7f7f7f\">683</span></a>\n",
       "</pre>\n"
      ],
      "text/plain": [
       "\u001b[2;36m                   \u001b[0m\u001b[2;36m \u001b[0m\u001b[34mINFO    \u001b[0m \u001b[1m[\u001b[0m\u001b[1;36m1\u001b[0m/\u001b[1;36m1\u001b[0m\u001b[1m]\u001b[0m Retrieving game with \u001b[33mid\u001b[0m=\u001b[1;36m1640915\u001b[0m                                 \u001b]8;id=970192;file://C:\\Users\\aleex\\AppData\\Roaming\\Python\\Python39\\site-packages\\soccerdata\\whoscored.py\u001b\\\u001b[2mwhoscored.py\u001b[0m\u001b]8;;\u001b\\\u001b[2m:\u001b[0m\u001b]8;id=763722;file://C:\\Users\\aleex\\AppData\\Roaming\\Python\\Python39\\site-packages\\soccerdata\\whoscored.py#683\u001b\\\u001b[2m683\u001b[0m\u001b]8;;\u001b\\\n"
      ]
     },
     "metadata": {},
     "output_type": "display_data"
    },
    {
     "name": "stdout",
     "output_type": "stream",
     "text": [
      "29 / 38\n"
     ]
    },
    {
     "data": {
      "text/html": [
       "<pre style=\"white-space:pre;overflow-x:auto;line-height:normal;font-family:Menlo,'DejaVu Sans Mono',consolas,'Courier New',monospace\"><span style=\"color: #7fbfbf; text-decoration-color: #7fbfbf\">                    </span><span style=\"color: #000080; text-decoration-color: #000080\">INFO    </span> Retrieving game schedule of ENG-Premier League - <span style=\"color: #008080; text-decoration-color: #008080; font-weight: bold\">2223</span> from the cache  <a href=\"file://C:\\Users\\aleex\\AppData\\Roaming\\Python\\Python39\\site-packages\\soccerdata\\whoscored.py\" target=\"_blank\"><span style=\"color: #7f7f7f; text-decoration-color: #7f7f7f\">whoscored.py</span></a><span style=\"color: #7f7f7f; text-decoration-color: #7f7f7f\">:</span><a href=\"file://C:\\Users\\aleex\\AppData\\Roaming\\Python\\Python39\\site-packages\\soccerdata\\whoscored.py#434\" target=\"_blank\"><span style=\"color: #7f7f7f; text-decoration-color: #7f7f7f\">434</span></a>\n",
       "</pre>\n"
      ],
      "text/plain": [
       "\u001b[2;36m                   \u001b[0m\u001b[2;36m \u001b[0m\u001b[34mINFO    \u001b[0m Retrieving game schedule of ENG-Premier League - \u001b[1;36m2223\u001b[0m from the cache  \u001b]8;id=972039;file://C:\\Users\\aleex\\AppData\\Roaming\\Python\\Python39\\site-packages\\soccerdata\\whoscored.py\u001b\\\u001b[2mwhoscored.py\u001b[0m\u001b]8;;\u001b\\\u001b[2m:\u001b[0m\u001b]8;id=783274;file://C:\\Users\\aleex\\AppData\\Roaming\\Python\\Python39\\site-packages\\soccerdata\\whoscored.py#434\u001b\\\u001b[2m434\u001b[0m\u001b]8;;\u001b\\\n"
      ]
     },
     "metadata": {},
     "output_type": "display_data"
    },
    {
     "data": {
      "text/html": [
       "<pre style=\"white-space:pre;overflow-x:auto;line-height:normal;font-family:Menlo,'DejaVu Sans Mono',consolas,'Courier New',monospace\"><span style=\"color: #7fbfbf; text-decoration-color: #7fbfbf\">                    </span><span style=\"color: #000080; text-decoration-color: #000080\">INFO    </span> <span style=\"font-weight: bold\">[</span><span style=\"color: #008080; text-decoration-color: #008080; font-weight: bold\">1</span>/<span style=\"color: #008080; text-decoration-color: #008080; font-weight: bold\">1</span><span style=\"font-weight: bold\">]</span> Retrieving game with <span style=\"color: #808000; text-decoration-color: #808000\">id</span>=<span style=\"color: #008080; text-decoration-color: #008080; font-weight: bold\">1640935</span>                                 <a href=\"file://C:\\Users\\aleex\\AppData\\Roaming\\Python\\Python39\\site-packages\\soccerdata\\whoscored.py\" target=\"_blank\"><span style=\"color: #7f7f7f; text-decoration-color: #7f7f7f\">whoscored.py</span></a><span style=\"color: #7f7f7f; text-decoration-color: #7f7f7f\">:</span><a href=\"file://C:\\Users\\aleex\\AppData\\Roaming\\Python\\Python39\\site-packages\\soccerdata\\whoscored.py#683\" target=\"_blank\"><span style=\"color: #7f7f7f; text-decoration-color: #7f7f7f\">683</span></a>\n",
       "</pre>\n"
      ],
      "text/plain": [
       "\u001b[2;36m                   \u001b[0m\u001b[2;36m \u001b[0m\u001b[34mINFO    \u001b[0m \u001b[1m[\u001b[0m\u001b[1;36m1\u001b[0m/\u001b[1;36m1\u001b[0m\u001b[1m]\u001b[0m Retrieving game with \u001b[33mid\u001b[0m=\u001b[1;36m1640935\u001b[0m                                 \u001b]8;id=545166;file://C:\\Users\\aleex\\AppData\\Roaming\\Python\\Python39\\site-packages\\soccerdata\\whoscored.py\u001b\\\u001b[2mwhoscored.py\u001b[0m\u001b]8;;\u001b\\\u001b[2m:\u001b[0m\u001b]8;id=782757;file://C:\\Users\\aleex\\AppData\\Roaming\\Python\\Python39\\site-packages\\soccerdata\\whoscored.py#683\u001b\\\u001b[2m683\u001b[0m\u001b]8;;\u001b\\\n"
      ]
     },
     "metadata": {},
     "output_type": "display_data"
    },
    {
     "name": "stdout",
     "output_type": "stream",
     "text": [
      "30 / 38\n"
     ]
    },
    {
     "data": {
      "text/html": [
       "<pre style=\"white-space:pre;overflow-x:auto;line-height:normal;font-family:Menlo,'DejaVu Sans Mono',consolas,'Courier New',monospace\"><span style=\"color: #7fbfbf; text-decoration-color: #7fbfbf\">[11/14/23 01:13:03] </span><span style=\"color: #000080; text-decoration-color: #000080\">INFO    </span> Retrieving game schedule of ENG-Premier League - <span style=\"color: #008080; text-decoration-color: #008080; font-weight: bold\">2223</span> from the cache  <a href=\"file://C:\\Users\\aleex\\AppData\\Roaming\\Python\\Python39\\site-packages\\soccerdata\\whoscored.py\" target=\"_blank\"><span style=\"color: #7f7f7f; text-decoration-color: #7f7f7f\">whoscored.py</span></a><span style=\"color: #7f7f7f; text-decoration-color: #7f7f7f\">:</span><a href=\"file://C:\\Users\\aleex\\AppData\\Roaming\\Python\\Python39\\site-packages\\soccerdata\\whoscored.py#434\" target=\"_blank\"><span style=\"color: #7f7f7f; text-decoration-color: #7f7f7f\">434</span></a>\n",
       "</pre>\n"
      ],
      "text/plain": [
       "\u001b[2;36m[11/14/23 01:13:03]\u001b[0m\u001b[2;36m \u001b[0m\u001b[34mINFO    \u001b[0m Retrieving game schedule of ENG-Premier League - \u001b[1;36m2223\u001b[0m from the cache  \u001b]8;id=899277;file://C:\\Users\\aleex\\AppData\\Roaming\\Python\\Python39\\site-packages\\soccerdata\\whoscored.py\u001b\\\u001b[2mwhoscored.py\u001b[0m\u001b]8;;\u001b\\\u001b[2m:\u001b[0m\u001b]8;id=655084;file://C:\\Users\\aleex\\AppData\\Roaming\\Python\\Python39\\site-packages\\soccerdata\\whoscored.py#434\u001b\\\u001b[2m434\u001b[0m\u001b]8;;\u001b\\\n"
      ]
     },
     "metadata": {},
     "output_type": "display_data"
    },
    {
     "data": {
      "text/html": [
       "<pre style=\"white-space:pre;overflow-x:auto;line-height:normal;font-family:Menlo,'DejaVu Sans Mono',consolas,'Courier New',monospace\"><span style=\"color: #7fbfbf; text-decoration-color: #7fbfbf\">                    </span><span style=\"color: #000080; text-decoration-color: #000080\">INFO    </span> <span style=\"font-weight: bold\">[</span><span style=\"color: #008080; text-decoration-color: #008080; font-weight: bold\">1</span>/<span style=\"color: #008080; text-decoration-color: #008080; font-weight: bold\">1</span><span style=\"font-weight: bold\">]</span> Retrieving game with <span style=\"color: #808000; text-decoration-color: #808000\">id</span>=<span style=\"color: #008080; text-decoration-color: #008080; font-weight: bold\">1640965</span>                                 <a href=\"file://C:\\Users\\aleex\\AppData\\Roaming\\Python\\Python39\\site-packages\\soccerdata\\whoscored.py\" target=\"_blank\"><span style=\"color: #7f7f7f; text-decoration-color: #7f7f7f\">whoscored.py</span></a><span style=\"color: #7f7f7f; text-decoration-color: #7f7f7f\">:</span><a href=\"file://C:\\Users\\aleex\\AppData\\Roaming\\Python\\Python39\\site-packages\\soccerdata\\whoscored.py#683\" target=\"_blank\"><span style=\"color: #7f7f7f; text-decoration-color: #7f7f7f\">683</span></a>\n",
       "</pre>\n"
      ],
      "text/plain": [
       "\u001b[2;36m                   \u001b[0m\u001b[2;36m \u001b[0m\u001b[34mINFO    \u001b[0m \u001b[1m[\u001b[0m\u001b[1;36m1\u001b[0m/\u001b[1;36m1\u001b[0m\u001b[1m]\u001b[0m Retrieving game with \u001b[33mid\u001b[0m=\u001b[1;36m1640965\u001b[0m                                 \u001b]8;id=228524;file://C:\\Users\\aleex\\AppData\\Roaming\\Python\\Python39\\site-packages\\soccerdata\\whoscored.py\u001b\\\u001b[2mwhoscored.py\u001b[0m\u001b]8;;\u001b\\\u001b[2m:\u001b[0m\u001b]8;id=453507;file://C:\\Users\\aleex\\AppData\\Roaming\\Python\\Python39\\site-packages\\soccerdata\\whoscored.py#683\u001b\\\u001b[2m683\u001b[0m\u001b]8;;\u001b\\\n"
      ]
     },
     "metadata": {},
     "output_type": "display_data"
    },
    {
     "name": "stdout",
     "output_type": "stream",
     "text": [
      "31 / 38\n"
     ]
    },
    {
     "data": {
      "text/html": [
       "<pre style=\"white-space:pre;overflow-x:auto;line-height:normal;font-family:Menlo,'DejaVu Sans Mono',consolas,'Courier New',monospace\"><span style=\"color: #7fbfbf; text-decoration-color: #7fbfbf\">                    </span><span style=\"color: #000080; text-decoration-color: #000080\">INFO    </span> Retrieving game schedule of ENG-Premier League - <span style=\"color: #008080; text-decoration-color: #008080; font-weight: bold\">2223</span> from the cache  <a href=\"file://C:\\Users\\aleex\\AppData\\Roaming\\Python\\Python39\\site-packages\\soccerdata\\whoscored.py\" target=\"_blank\"><span style=\"color: #7f7f7f; text-decoration-color: #7f7f7f\">whoscored.py</span></a><span style=\"color: #7f7f7f; text-decoration-color: #7f7f7f\">:</span><a href=\"file://C:\\Users\\aleex\\AppData\\Roaming\\Python\\Python39\\site-packages\\soccerdata\\whoscored.py#434\" target=\"_blank\"><span style=\"color: #7f7f7f; text-decoration-color: #7f7f7f\">434</span></a>\n",
       "</pre>\n"
      ],
      "text/plain": [
       "\u001b[2;36m                   \u001b[0m\u001b[2;36m \u001b[0m\u001b[34mINFO    \u001b[0m Retrieving game schedule of ENG-Premier League - \u001b[1;36m2223\u001b[0m from the cache  \u001b]8;id=831653;file://C:\\Users\\aleex\\AppData\\Roaming\\Python\\Python39\\site-packages\\soccerdata\\whoscored.py\u001b\\\u001b[2mwhoscored.py\u001b[0m\u001b]8;;\u001b\\\u001b[2m:\u001b[0m\u001b]8;id=294857;file://C:\\Users\\aleex\\AppData\\Roaming\\Python\\Python39\\site-packages\\soccerdata\\whoscored.py#434\u001b\\\u001b[2m434\u001b[0m\u001b]8;;\u001b\\\n"
      ]
     },
     "metadata": {},
     "output_type": "display_data"
    },
    {
     "data": {
      "text/html": [
       "<pre style=\"white-space:pre;overflow-x:auto;line-height:normal;font-family:Menlo,'DejaVu Sans Mono',consolas,'Courier New',monospace\"><span style=\"color: #7fbfbf; text-decoration-color: #7fbfbf\">                    </span><span style=\"color: #000080; text-decoration-color: #000080\">INFO    </span> <span style=\"font-weight: bold\">[</span><span style=\"color: #008080; text-decoration-color: #008080; font-weight: bold\">1</span>/<span style=\"color: #008080; text-decoration-color: #008080; font-weight: bold\">1</span><span style=\"font-weight: bold\">]</span> Retrieving game with <span style=\"color: #808000; text-decoration-color: #808000\">id</span>=<span style=\"color: #008080; text-decoration-color: #008080; font-weight: bold\">1640982</span>                                 <a href=\"file://C:\\Users\\aleex\\AppData\\Roaming\\Python\\Python39\\site-packages\\soccerdata\\whoscored.py\" target=\"_blank\"><span style=\"color: #7f7f7f; text-decoration-color: #7f7f7f\">whoscored.py</span></a><span style=\"color: #7f7f7f; text-decoration-color: #7f7f7f\">:</span><a href=\"file://C:\\Users\\aleex\\AppData\\Roaming\\Python\\Python39\\site-packages\\soccerdata\\whoscored.py#683\" target=\"_blank\"><span style=\"color: #7f7f7f; text-decoration-color: #7f7f7f\">683</span></a>\n",
       "</pre>\n"
      ],
      "text/plain": [
       "\u001b[2;36m                   \u001b[0m\u001b[2;36m \u001b[0m\u001b[34mINFO    \u001b[0m \u001b[1m[\u001b[0m\u001b[1;36m1\u001b[0m/\u001b[1;36m1\u001b[0m\u001b[1m]\u001b[0m Retrieving game with \u001b[33mid\u001b[0m=\u001b[1;36m1640982\u001b[0m                                 \u001b]8;id=234062;file://C:\\Users\\aleex\\AppData\\Roaming\\Python\\Python39\\site-packages\\soccerdata\\whoscored.py\u001b\\\u001b[2mwhoscored.py\u001b[0m\u001b]8;;\u001b\\\u001b[2m:\u001b[0m\u001b]8;id=816089;file://C:\\Users\\aleex\\AppData\\Roaming\\Python\\Python39\\site-packages\\soccerdata\\whoscored.py#683\u001b\\\u001b[2m683\u001b[0m\u001b]8;;\u001b\\\n"
      ]
     },
     "metadata": {},
     "output_type": "display_data"
    },
    {
     "name": "stdout",
     "output_type": "stream",
     "text": [
      "32 / 38\n"
     ]
    },
    {
     "data": {
      "text/html": [
       "<pre style=\"white-space:pre;overflow-x:auto;line-height:normal;font-family:Menlo,'DejaVu Sans Mono',consolas,'Courier New',monospace\"><span style=\"color: #7fbfbf; text-decoration-color: #7fbfbf\">                    </span><span style=\"color: #000080; text-decoration-color: #000080\">INFO    </span> Retrieving game schedule of ENG-Premier League - <span style=\"color: #008080; text-decoration-color: #008080; font-weight: bold\">2223</span> from the cache  <a href=\"file://C:\\Users\\aleex\\AppData\\Roaming\\Python\\Python39\\site-packages\\soccerdata\\whoscored.py\" target=\"_blank\"><span style=\"color: #7f7f7f; text-decoration-color: #7f7f7f\">whoscored.py</span></a><span style=\"color: #7f7f7f; text-decoration-color: #7f7f7f\">:</span><a href=\"file://C:\\Users\\aleex\\AppData\\Roaming\\Python\\Python39\\site-packages\\soccerdata\\whoscored.py#434\" target=\"_blank\"><span style=\"color: #7f7f7f; text-decoration-color: #7f7f7f\">434</span></a>\n",
       "</pre>\n"
      ],
      "text/plain": [
       "\u001b[2;36m                   \u001b[0m\u001b[2;36m \u001b[0m\u001b[34mINFO    \u001b[0m Retrieving game schedule of ENG-Premier League - \u001b[1;36m2223\u001b[0m from the cache  \u001b]8;id=999078;file://C:\\Users\\aleex\\AppData\\Roaming\\Python\\Python39\\site-packages\\soccerdata\\whoscored.py\u001b\\\u001b[2mwhoscored.py\u001b[0m\u001b]8;;\u001b\\\u001b[2m:\u001b[0m\u001b]8;id=591947;file://C:\\Users\\aleex\\AppData\\Roaming\\Python\\Python39\\site-packages\\soccerdata\\whoscored.py#434\u001b\\\u001b[2m434\u001b[0m\u001b]8;;\u001b\\\n"
      ]
     },
     "metadata": {},
     "output_type": "display_data"
    },
    {
     "data": {
      "text/html": [
       "<pre style=\"white-space:pre;overflow-x:auto;line-height:normal;font-family:Menlo,'DejaVu Sans Mono',consolas,'Courier New',monospace\"><span style=\"color: #7fbfbf; text-decoration-color: #7fbfbf\">                    </span><span style=\"color: #000080; text-decoration-color: #000080\">INFO    </span> <span style=\"font-weight: bold\">[</span><span style=\"color: #008080; text-decoration-color: #008080; font-weight: bold\">1</span>/<span style=\"color: #008080; text-decoration-color: #008080; font-weight: bold\">1</span><span style=\"font-weight: bold\">]</span> Retrieving game with <span style=\"color: #808000; text-decoration-color: #808000\">id</span>=<span style=\"color: #008080; text-decoration-color: #008080; font-weight: bold\">1640988</span>                                 <a href=\"file://C:\\Users\\aleex\\AppData\\Roaming\\Python\\Python39\\site-packages\\soccerdata\\whoscored.py\" target=\"_blank\"><span style=\"color: #7f7f7f; text-decoration-color: #7f7f7f\">whoscored.py</span></a><span style=\"color: #7f7f7f; text-decoration-color: #7f7f7f\">:</span><a href=\"file://C:\\Users\\aleex\\AppData\\Roaming\\Python\\Python39\\site-packages\\soccerdata\\whoscored.py#683\" target=\"_blank\"><span style=\"color: #7f7f7f; text-decoration-color: #7f7f7f\">683</span></a>\n",
       "</pre>\n"
      ],
      "text/plain": [
       "\u001b[2;36m                   \u001b[0m\u001b[2;36m \u001b[0m\u001b[34mINFO    \u001b[0m \u001b[1m[\u001b[0m\u001b[1;36m1\u001b[0m/\u001b[1;36m1\u001b[0m\u001b[1m]\u001b[0m Retrieving game with \u001b[33mid\u001b[0m=\u001b[1;36m1640988\u001b[0m                                 \u001b]8;id=553447;file://C:\\Users\\aleex\\AppData\\Roaming\\Python\\Python39\\site-packages\\soccerdata\\whoscored.py\u001b\\\u001b[2mwhoscored.py\u001b[0m\u001b]8;;\u001b\\\u001b[2m:\u001b[0m\u001b]8;id=240428;file://C:\\Users\\aleex\\AppData\\Roaming\\Python\\Python39\\site-packages\\soccerdata\\whoscored.py#683\u001b\\\u001b[2m683\u001b[0m\u001b]8;;\u001b\\\n"
      ]
     },
     "metadata": {},
     "output_type": "display_data"
    },
    {
     "name": "stdout",
     "output_type": "stream",
     "text": [
      "33 / 38\n"
     ]
    },
    {
     "data": {
      "text/html": [
       "<pre style=\"white-space:pre;overflow-x:auto;line-height:normal;font-family:Menlo,'DejaVu Sans Mono',consolas,'Courier New',monospace\"><span style=\"color: #7fbfbf; text-decoration-color: #7fbfbf\">[11/14/23 01:13:04] </span><span style=\"color: #000080; text-decoration-color: #000080\">INFO    </span> Retrieving game schedule of ENG-Premier League - <span style=\"color: #008080; text-decoration-color: #008080; font-weight: bold\">2223</span> from the cache  <a href=\"file://C:\\Users\\aleex\\AppData\\Roaming\\Python\\Python39\\site-packages\\soccerdata\\whoscored.py\" target=\"_blank\"><span style=\"color: #7f7f7f; text-decoration-color: #7f7f7f\">whoscored.py</span></a><span style=\"color: #7f7f7f; text-decoration-color: #7f7f7f\">:</span><a href=\"file://C:\\Users\\aleex\\AppData\\Roaming\\Python\\Python39\\site-packages\\soccerdata\\whoscored.py#434\" target=\"_blank\"><span style=\"color: #7f7f7f; text-decoration-color: #7f7f7f\">434</span></a>\n",
       "</pre>\n"
      ],
      "text/plain": [
       "\u001b[2;36m[11/14/23 01:13:04]\u001b[0m\u001b[2;36m \u001b[0m\u001b[34mINFO    \u001b[0m Retrieving game schedule of ENG-Premier League - \u001b[1;36m2223\u001b[0m from the cache  \u001b]8;id=696918;file://C:\\Users\\aleex\\AppData\\Roaming\\Python\\Python39\\site-packages\\soccerdata\\whoscored.py\u001b\\\u001b[2mwhoscored.py\u001b[0m\u001b]8;;\u001b\\\u001b[2m:\u001b[0m\u001b]8;id=623880;file://C:\\Users\\aleex\\AppData\\Roaming\\Python\\Python39\\site-packages\\soccerdata\\whoscored.py#434\u001b\\\u001b[2m434\u001b[0m\u001b]8;;\u001b\\\n"
      ]
     },
     "metadata": {},
     "output_type": "display_data"
    },
    {
     "data": {
      "text/html": [
       "<pre style=\"white-space:pre;overflow-x:auto;line-height:normal;font-family:Menlo,'DejaVu Sans Mono',consolas,'Courier New',monospace\"><span style=\"color: #7fbfbf; text-decoration-color: #7fbfbf\">                    </span><span style=\"color: #000080; text-decoration-color: #000080\">INFO    </span> <span style=\"font-weight: bold\">[</span><span style=\"color: #008080; text-decoration-color: #008080; font-weight: bold\">1</span>/<span style=\"color: #008080; text-decoration-color: #008080; font-weight: bold\">1</span><span style=\"font-weight: bold\">]</span> Retrieving game with <span style=\"color: #808000; text-decoration-color: #808000\">id</span>=<span style=\"color: #008080; text-decoration-color: #008080; font-weight: bold\">1641024</span>                                 <a href=\"file://C:\\Users\\aleex\\AppData\\Roaming\\Python\\Python39\\site-packages\\soccerdata\\whoscored.py\" target=\"_blank\"><span style=\"color: #7f7f7f; text-decoration-color: #7f7f7f\">whoscored.py</span></a><span style=\"color: #7f7f7f; text-decoration-color: #7f7f7f\">:</span><a href=\"file://C:\\Users\\aleex\\AppData\\Roaming\\Python\\Python39\\site-packages\\soccerdata\\whoscored.py#683\" target=\"_blank\"><span style=\"color: #7f7f7f; text-decoration-color: #7f7f7f\">683</span></a>\n",
       "</pre>\n"
      ],
      "text/plain": [
       "\u001b[2;36m                   \u001b[0m\u001b[2;36m \u001b[0m\u001b[34mINFO    \u001b[0m \u001b[1m[\u001b[0m\u001b[1;36m1\u001b[0m/\u001b[1;36m1\u001b[0m\u001b[1m]\u001b[0m Retrieving game with \u001b[33mid\u001b[0m=\u001b[1;36m1641024\u001b[0m                                 \u001b]8;id=658123;file://C:\\Users\\aleex\\AppData\\Roaming\\Python\\Python39\\site-packages\\soccerdata\\whoscored.py\u001b\\\u001b[2mwhoscored.py\u001b[0m\u001b]8;;\u001b\\\u001b[2m:\u001b[0m\u001b]8;id=956010;file://C:\\Users\\aleex\\AppData\\Roaming\\Python\\Python39\\site-packages\\soccerdata\\whoscored.py#683\u001b\\\u001b[2m683\u001b[0m\u001b]8;;\u001b\\\n"
      ]
     },
     "metadata": {},
     "output_type": "display_data"
    },
    {
     "name": "stdout",
     "output_type": "stream",
     "text": [
      "34 / 38\n"
     ]
    },
    {
     "data": {
      "text/html": [
       "<pre style=\"white-space:pre;overflow-x:auto;line-height:normal;font-family:Menlo,'DejaVu Sans Mono',consolas,'Courier New',monospace\"><span style=\"color: #7fbfbf; text-decoration-color: #7fbfbf\">                    </span><span style=\"color: #000080; text-decoration-color: #000080\">INFO    </span> Retrieving game schedule of ENG-Premier League - <span style=\"color: #008080; text-decoration-color: #008080; font-weight: bold\">2223</span> from the cache  <a href=\"file://C:\\Users\\aleex\\AppData\\Roaming\\Python\\Python39\\site-packages\\soccerdata\\whoscored.py\" target=\"_blank\"><span style=\"color: #7f7f7f; text-decoration-color: #7f7f7f\">whoscored.py</span></a><span style=\"color: #7f7f7f; text-decoration-color: #7f7f7f\">:</span><a href=\"file://C:\\Users\\aleex\\AppData\\Roaming\\Python\\Python39\\site-packages\\soccerdata\\whoscored.py#434\" target=\"_blank\"><span style=\"color: #7f7f7f; text-decoration-color: #7f7f7f\">434</span></a>\n",
       "</pre>\n"
      ],
      "text/plain": [
       "\u001b[2;36m                   \u001b[0m\u001b[2;36m \u001b[0m\u001b[34mINFO    \u001b[0m Retrieving game schedule of ENG-Premier League - \u001b[1;36m2223\u001b[0m from the cache  \u001b]8;id=621631;file://C:\\Users\\aleex\\AppData\\Roaming\\Python\\Python39\\site-packages\\soccerdata\\whoscored.py\u001b\\\u001b[2mwhoscored.py\u001b[0m\u001b]8;;\u001b\\\u001b[2m:\u001b[0m\u001b]8;id=534749;file://C:\\Users\\aleex\\AppData\\Roaming\\Python\\Python39\\site-packages\\soccerdata\\whoscored.py#434\u001b\\\u001b[2m434\u001b[0m\u001b]8;;\u001b\\\n"
      ]
     },
     "metadata": {},
     "output_type": "display_data"
    },
    {
     "data": {
      "text/html": [
       "<pre style=\"white-space:pre;overflow-x:auto;line-height:normal;font-family:Menlo,'DejaVu Sans Mono',consolas,'Courier New',monospace\"><span style=\"color: #7fbfbf; text-decoration-color: #7fbfbf\">                    </span><span style=\"color: #000080; text-decoration-color: #000080\">INFO    </span> <span style=\"font-weight: bold\">[</span><span style=\"color: #008080; text-decoration-color: #008080; font-weight: bold\">1</span>/<span style=\"color: #008080; text-decoration-color: #008080; font-weight: bold\">1</span><span style=\"font-weight: bold\">]</span> Retrieving game with <span style=\"color: #808000; text-decoration-color: #808000\">id</span>=<span style=\"color: #008080; text-decoration-color: #008080; font-weight: bold\">1641025</span>                                 <a href=\"file://C:\\Users\\aleex\\AppData\\Roaming\\Python\\Python39\\site-packages\\soccerdata\\whoscored.py\" target=\"_blank\"><span style=\"color: #7f7f7f; text-decoration-color: #7f7f7f\">whoscored.py</span></a><span style=\"color: #7f7f7f; text-decoration-color: #7f7f7f\">:</span><a href=\"file://C:\\Users\\aleex\\AppData\\Roaming\\Python\\Python39\\site-packages\\soccerdata\\whoscored.py#683\" target=\"_blank\"><span style=\"color: #7f7f7f; text-decoration-color: #7f7f7f\">683</span></a>\n",
       "</pre>\n"
      ],
      "text/plain": [
       "\u001b[2;36m                   \u001b[0m\u001b[2;36m \u001b[0m\u001b[34mINFO    \u001b[0m \u001b[1m[\u001b[0m\u001b[1;36m1\u001b[0m/\u001b[1;36m1\u001b[0m\u001b[1m]\u001b[0m Retrieving game with \u001b[33mid\u001b[0m=\u001b[1;36m1641025\u001b[0m                                 \u001b]8;id=744145;file://C:\\Users\\aleex\\AppData\\Roaming\\Python\\Python39\\site-packages\\soccerdata\\whoscored.py\u001b\\\u001b[2mwhoscored.py\u001b[0m\u001b]8;;\u001b\\\u001b[2m:\u001b[0m\u001b]8;id=283695;file://C:\\Users\\aleex\\AppData\\Roaming\\Python\\Python39\\site-packages\\soccerdata\\whoscored.py#683\u001b\\\u001b[2m683\u001b[0m\u001b]8;;\u001b\\\n"
      ]
     },
     "metadata": {},
     "output_type": "display_data"
    },
    {
     "name": "stdout",
     "output_type": "stream",
     "text": [
      "35 / 38\n"
     ]
    },
    {
     "data": {
      "text/html": [
       "<pre style=\"white-space:pre;overflow-x:auto;line-height:normal;font-family:Menlo,'DejaVu Sans Mono',consolas,'Courier New',monospace\"><span style=\"color: #7fbfbf; text-decoration-color: #7fbfbf\">[11/14/23 01:13:05] </span><span style=\"color: #000080; text-decoration-color: #000080\">INFO    </span> Retrieving game schedule of ENG-Premier League - <span style=\"color: #008080; text-decoration-color: #008080; font-weight: bold\">2223</span> from the cache  <a href=\"file://C:\\Users\\aleex\\AppData\\Roaming\\Python\\Python39\\site-packages\\soccerdata\\whoscored.py\" target=\"_blank\"><span style=\"color: #7f7f7f; text-decoration-color: #7f7f7f\">whoscored.py</span></a><span style=\"color: #7f7f7f; text-decoration-color: #7f7f7f\">:</span><a href=\"file://C:\\Users\\aleex\\AppData\\Roaming\\Python\\Python39\\site-packages\\soccerdata\\whoscored.py#434\" target=\"_blank\"><span style=\"color: #7f7f7f; text-decoration-color: #7f7f7f\">434</span></a>\n",
       "</pre>\n"
      ],
      "text/plain": [
       "\u001b[2;36m[11/14/23 01:13:05]\u001b[0m\u001b[2;36m \u001b[0m\u001b[34mINFO    \u001b[0m Retrieving game schedule of ENG-Premier League - \u001b[1;36m2223\u001b[0m from the cache  \u001b]8;id=189886;file://C:\\Users\\aleex\\AppData\\Roaming\\Python\\Python39\\site-packages\\soccerdata\\whoscored.py\u001b\\\u001b[2mwhoscored.py\u001b[0m\u001b]8;;\u001b\\\u001b[2m:\u001b[0m\u001b]8;id=891306;file://C:\\Users\\aleex\\AppData\\Roaming\\Python\\Python39\\site-packages\\soccerdata\\whoscored.py#434\u001b\\\u001b[2m434\u001b[0m\u001b]8;;\u001b\\\n"
      ]
     },
     "metadata": {},
     "output_type": "display_data"
    },
    {
     "data": {
      "text/html": [
       "<pre style=\"white-space:pre;overflow-x:auto;line-height:normal;font-family:Menlo,'DejaVu Sans Mono',consolas,'Courier New',monospace\"><span style=\"color: #7fbfbf; text-decoration-color: #7fbfbf\">                    </span><span style=\"color: #000080; text-decoration-color: #000080\">INFO    </span> <span style=\"font-weight: bold\">[</span><span style=\"color: #008080; text-decoration-color: #008080; font-weight: bold\">1</span>/<span style=\"color: #008080; text-decoration-color: #008080; font-weight: bold\">1</span><span style=\"font-weight: bold\">]</span> Retrieving game with <span style=\"color: #808000; text-decoration-color: #808000\">id</span>=<span style=\"color: #008080; text-decoration-color: #008080; font-weight: bold\">1641040</span>                                 <a href=\"file://C:\\Users\\aleex\\AppData\\Roaming\\Python\\Python39\\site-packages\\soccerdata\\whoscored.py\" target=\"_blank\"><span style=\"color: #7f7f7f; text-decoration-color: #7f7f7f\">whoscored.py</span></a><span style=\"color: #7f7f7f; text-decoration-color: #7f7f7f\">:</span><a href=\"file://C:\\Users\\aleex\\AppData\\Roaming\\Python\\Python39\\site-packages\\soccerdata\\whoscored.py#683\" target=\"_blank\"><span style=\"color: #7f7f7f; text-decoration-color: #7f7f7f\">683</span></a>\n",
       "</pre>\n"
      ],
      "text/plain": [
       "\u001b[2;36m                   \u001b[0m\u001b[2;36m \u001b[0m\u001b[34mINFO    \u001b[0m \u001b[1m[\u001b[0m\u001b[1;36m1\u001b[0m/\u001b[1;36m1\u001b[0m\u001b[1m]\u001b[0m Retrieving game with \u001b[33mid\u001b[0m=\u001b[1;36m1641040\u001b[0m                                 \u001b]8;id=710222;file://C:\\Users\\aleex\\AppData\\Roaming\\Python\\Python39\\site-packages\\soccerdata\\whoscored.py\u001b\\\u001b[2mwhoscored.py\u001b[0m\u001b]8;;\u001b\\\u001b[2m:\u001b[0m\u001b]8;id=774711;file://C:\\Users\\aleex\\AppData\\Roaming\\Python\\Python39\\site-packages\\soccerdata\\whoscored.py#683\u001b\\\u001b[2m683\u001b[0m\u001b]8;;\u001b\\\n"
      ]
     },
     "metadata": {},
     "output_type": "display_data"
    },
    {
     "name": "stdout",
     "output_type": "stream",
     "text": [
      "36 / 38\n"
     ]
    },
    {
     "data": {
      "text/html": [
       "<pre style=\"white-space:pre;overflow-x:auto;line-height:normal;font-family:Menlo,'DejaVu Sans Mono',consolas,'Courier New',monospace\"><span style=\"color: #7fbfbf; text-decoration-color: #7fbfbf\">                    </span><span style=\"color: #000080; text-decoration-color: #000080\">INFO    </span> Retrieving game schedule of ENG-Premier League - <span style=\"color: #008080; text-decoration-color: #008080; font-weight: bold\">2223</span> from the cache  <a href=\"file://C:\\Users\\aleex\\AppData\\Roaming\\Python\\Python39\\site-packages\\soccerdata\\whoscored.py\" target=\"_blank\"><span style=\"color: #7f7f7f; text-decoration-color: #7f7f7f\">whoscored.py</span></a><span style=\"color: #7f7f7f; text-decoration-color: #7f7f7f\">:</span><a href=\"file://C:\\Users\\aleex\\AppData\\Roaming\\Python\\Python39\\site-packages\\soccerdata\\whoscored.py#434\" target=\"_blank\"><span style=\"color: #7f7f7f; text-decoration-color: #7f7f7f\">434</span></a>\n",
       "</pre>\n"
      ],
      "text/plain": [
       "\u001b[2;36m                   \u001b[0m\u001b[2;36m \u001b[0m\u001b[34mINFO    \u001b[0m Retrieving game schedule of ENG-Premier League - \u001b[1;36m2223\u001b[0m from the cache  \u001b]8;id=350222;file://C:\\Users\\aleex\\AppData\\Roaming\\Python\\Python39\\site-packages\\soccerdata\\whoscored.py\u001b\\\u001b[2mwhoscored.py\u001b[0m\u001b]8;;\u001b\\\u001b[2m:\u001b[0m\u001b]8;id=634460;file://C:\\Users\\aleex\\AppData\\Roaming\\Python\\Python39\\site-packages\\soccerdata\\whoscored.py#434\u001b\\\u001b[2m434\u001b[0m\u001b]8;;\u001b\\\n"
      ]
     },
     "metadata": {},
     "output_type": "display_data"
    },
    {
     "data": {
      "text/html": [
       "<pre style=\"white-space:pre;overflow-x:auto;line-height:normal;font-family:Menlo,'DejaVu Sans Mono',consolas,'Courier New',monospace\"><span style=\"color: #7fbfbf; text-decoration-color: #7fbfbf\">                    </span><span style=\"color: #000080; text-decoration-color: #000080\">INFO    </span> <span style=\"font-weight: bold\">[</span><span style=\"color: #008080; text-decoration-color: #008080; font-weight: bold\">1</span>/<span style=\"color: #008080; text-decoration-color: #008080; font-weight: bold\">1</span><span style=\"font-weight: bold\">]</span> Retrieving game with <span style=\"color: #808000; text-decoration-color: #808000\">id</span>=<span style=\"color: #008080; text-decoration-color: #008080; font-weight: bold\">1641045</span>                                 <a href=\"file://C:\\Users\\aleex\\AppData\\Roaming\\Python\\Python39\\site-packages\\soccerdata\\whoscored.py\" target=\"_blank\"><span style=\"color: #7f7f7f; text-decoration-color: #7f7f7f\">whoscored.py</span></a><span style=\"color: #7f7f7f; text-decoration-color: #7f7f7f\">:</span><a href=\"file://C:\\Users\\aleex\\AppData\\Roaming\\Python\\Python39\\site-packages\\soccerdata\\whoscored.py#683\" target=\"_blank\"><span style=\"color: #7f7f7f; text-decoration-color: #7f7f7f\">683</span></a>\n",
       "</pre>\n"
      ],
      "text/plain": [
       "\u001b[2;36m                   \u001b[0m\u001b[2;36m \u001b[0m\u001b[34mINFO    \u001b[0m \u001b[1m[\u001b[0m\u001b[1;36m1\u001b[0m/\u001b[1;36m1\u001b[0m\u001b[1m]\u001b[0m Retrieving game with \u001b[33mid\u001b[0m=\u001b[1;36m1641045\u001b[0m                                 \u001b]8;id=114952;file://C:\\Users\\aleex\\AppData\\Roaming\\Python\\Python39\\site-packages\\soccerdata\\whoscored.py\u001b\\\u001b[2mwhoscored.py\u001b[0m\u001b]8;;\u001b\\\u001b[2m:\u001b[0m\u001b]8;id=280965;file://C:\\Users\\aleex\\AppData\\Roaming\\Python\\Python39\\site-packages\\soccerdata\\whoscored.py#683\u001b\\\u001b[2m683\u001b[0m\u001b]8;;\u001b\\\n"
      ]
     },
     "metadata": {},
     "output_type": "display_data"
    },
    {
     "name": "stdout",
     "output_type": "stream",
     "text": [
      "37 / 38\n"
     ]
    },
    {
     "data": {
      "text/html": [
       "<pre style=\"white-space:pre;overflow-x:auto;line-height:normal;font-family:Menlo,'DejaVu Sans Mono',consolas,'Courier New',monospace\"><span style=\"color: #7fbfbf; text-decoration-color: #7fbfbf\">                    </span><span style=\"color: #000080; text-decoration-color: #000080\">INFO    </span> Retrieving game schedule of ENG-Premier League - <span style=\"color: #008080; text-decoration-color: #008080; font-weight: bold\">2223</span> from the cache  <a href=\"file://C:\\Users\\aleex\\AppData\\Roaming\\Python\\Python39\\site-packages\\soccerdata\\whoscored.py\" target=\"_blank\"><span style=\"color: #7f7f7f; text-decoration-color: #7f7f7f\">whoscored.py</span></a><span style=\"color: #7f7f7f; text-decoration-color: #7f7f7f\">:</span><a href=\"file://C:\\Users\\aleex\\AppData\\Roaming\\Python\\Python39\\site-packages\\soccerdata\\whoscored.py#434\" target=\"_blank\"><span style=\"color: #7f7f7f; text-decoration-color: #7f7f7f\">434</span></a>\n",
       "</pre>\n"
      ],
      "text/plain": [
       "\u001b[2;36m                   \u001b[0m\u001b[2;36m \u001b[0m\u001b[34mINFO    \u001b[0m Retrieving game schedule of ENG-Premier League - \u001b[1;36m2223\u001b[0m from the cache  \u001b]8;id=35608;file://C:\\Users\\aleex\\AppData\\Roaming\\Python\\Python39\\site-packages\\soccerdata\\whoscored.py\u001b\\\u001b[2mwhoscored.py\u001b[0m\u001b]8;;\u001b\\\u001b[2m:\u001b[0m\u001b]8;id=285001;file://C:\\Users\\aleex\\AppData\\Roaming\\Python\\Python39\\site-packages\\soccerdata\\whoscored.py#434\u001b\\\u001b[2m434\u001b[0m\u001b]8;;\u001b\\\n"
      ]
     },
     "metadata": {},
     "output_type": "display_data"
    },
    {
     "data": {
      "text/html": [
       "<pre style=\"white-space:pre;overflow-x:auto;line-height:normal;font-family:Menlo,'DejaVu Sans Mono',consolas,'Courier New',monospace\"><span style=\"color: #7fbfbf; text-decoration-color: #7fbfbf\">                    </span><span style=\"color: #000080; text-decoration-color: #000080\">INFO    </span> <span style=\"font-weight: bold\">[</span><span style=\"color: #008080; text-decoration-color: #008080; font-weight: bold\">1</span>/<span style=\"color: #008080; text-decoration-color: #008080; font-weight: bold\">1</span><span style=\"font-weight: bold\">]</span> Retrieving game with <span style=\"color: #808000; text-decoration-color: #808000\">id</span>=<span style=\"color: #008080; text-decoration-color: #008080; font-weight: bold\">1640995</span>                                 <a href=\"file://C:\\Users\\aleex\\AppData\\Roaming\\Python\\Python39\\site-packages\\soccerdata\\whoscored.py\" target=\"_blank\"><span style=\"color: #7f7f7f; text-decoration-color: #7f7f7f\">whoscored.py</span></a><span style=\"color: #7f7f7f; text-decoration-color: #7f7f7f\">:</span><a href=\"file://C:\\Users\\aleex\\AppData\\Roaming\\Python\\Python39\\site-packages\\soccerdata\\whoscored.py#683\" target=\"_blank\"><span style=\"color: #7f7f7f; text-decoration-color: #7f7f7f\">683</span></a>\n",
       "</pre>\n"
      ],
      "text/plain": [
       "\u001b[2;36m                   \u001b[0m\u001b[2;36m \u001b[0m\u001b[34mINFO    \u001b[0m \u001b[1m[\u001b[0m\u001b[1;36m1\u001b[0m/\u001b[1;36m1\u001b[0m\u001b[1m]\u001b[0m Retrieving game with \u001b[33mid\u001b[0m=\u001b[1;36m1640995\u001b[0m                                 \u001b]8;id=258077;file://C:\\Users\\aleex\\AppData\\Roaming\\Python\\Python39\\site-packages\\soccerdata\\whoscored.py\u001b\\\u001b[2mwhoscored.py\u001b[0m\u001b]8;;\u001b\\\u001b[2m:\u001b[0m\u001b]8;id=464415;file://C:\\Users\\aleex\\AppData\\Roaming\\Python\\Python39\\site-packages\\soccerdata\\whoscored.py#683\u001b\\\u001b[2m683\u001b[0m\u001b]8;;\u001b\\\n"
      ]
     },
     "metadata": {},
     "output_type": "display_data"
    },
    {
     "name": "stdout",
     "output_type": "stream",
     "text": [
      "38 / 38\n"
     ]
    },
    {
     "data": {
      "text/html": [
       "<pre style=\"white-space:pre;overflow-x:auto;line-height:normal;font-family:Menlo,'DejaVu Sans Mono',consolas,'Courier New',monospace\"><span style=\"color: #7fbfbf; text-decoration-color: #7fbfbf\">[11/14/23 01:13:06] </span><span style=\"color: #000080; text-decoration-color: #000080\">INFO    </span> Retrieving game schedule of ENG-Premier League - <span style=\"color: #008080; text-decoration-color: #008080; font-weight: bold\">2223</span> from the cache  <a href=\"file://C:\\Users\\aleex\\AppData\\Roaming\\Python\\Python39\\site-packages\\soccerdata\\whoscored.py\" target=\"_blank\"><span style=\"color: #7f7f7f; text-decoration-color: #7f7f7f\">whoscored.py</span></a><span style=\"color: #7f7f7f; text-decoration-color: #7f7f7f\">:</span><a href=\"file://C:\\Users\\aleex\\AppData\\Roaming\\Python\\Python39\\site-packages\\soccerdata\\whoscored.py#434\" target=\"_blank\"><span style=\"color: #7f7f7f; text-decoration-color: #7f7f7f\">434</span></a>\n",
       "</pre>\n"
      ],
      "text/plain": [
       "\u001b[2;36m[11/14/23 01:13:06]\u001b[0m\u001b[2;36m \u001b[0m\u001b[34mINFO    \u001b[0m Retrieving game schedule of ENG-Premier League - \u001b[1;36m2223\u001b[0m from the cache  \u001b]8;id=660042;file://C:\\Users\\aleex\\AppData\\Roaming\\Python\\Python39\\site-packages\\soccerdata\\whoscored.py\u001b\\\u001b[2mwhoscored.py\u001b[0m\u001b]8;;\u001b\\\u001b[2m:\u001b[0m\u001b]8;id=908657;file://C:\\Users\\aleex\\AppData\\Roaming\\Python\\Python39\\site-packages\\soccerdata\\whoscored.py#434\u001b\\\u001b[2m434\u001b[0m\u001b]8;;\u001b\\\n"
      ]
     },
     "metadata": {},
     "output_type": "display_data"
    },
    {
     "data": {
      "text/html": [
       "<pre style=\"white-space:pre;overflow-x:auto;line-height:normal;font-family:Menlo,'DejaVu Sans Mono',consolas,'Courier New',monospace\"><span style=\"color: #7fbfbf; text-decoration-color: #7fbfbf\">                    </span><span style=\"color: #000080; text-decoration-color: #000080\">INFO    </span> <span style=\"font-weight: bold\">[</span><span style=\"color: #008080; text-decoration-color: #008080; font-weight: bold\">1</span>/<span style=\"color: #008080; text-decoration-color: #008080; font-weight: bold\">1</span><span style=\"font-weight: bold\">]</span> Retrieving game with <span style=\"color: #808000; text-decoration-color: #808000\">id</span>=<span style=\"color: #008080; text-decoration-color: #008080; font-weight: bold\">1641003</span>                                 <a href=\"file://C:\\Users\\aleex\\AppData\\Roaming\\Python\\Python39\\site-packages\\soccerdata\\whoscored.py\" target=\"_blank\"><span style=\"color: #7f7f7f; text-decoration-color: #7f7f7f\">whoscored.py</span></a><span style=\"color: #7f7f7f; text-decoration-color: #7f7f7f\">:</span><a href=\"file://C:\\Users\\aleex\\AppData\\Roaming\\Python\\Python39\\site-packages\\soccerdata\\whoscored.py#683\" target=\"_blank\"><span style=\"color: #7f7f7f; text-decoration-color: #7f7f7f\">683</span></a>\n",
       "</pre>\n"
      ],
      "text/plain": [
       "\u001b[2;36m                   \u001b[0m\u001b[2;36m \u001b[0m\u001b[34mINFO    \u001b[0m \u001b[1m[\u001b[0m\u001b[1;36m1\u001b[0m/\u001b[1;36m1\u001b[0m\u001b[1m]\u001b[0m Retrieving game with \u001b[33mid\u001b[0m=\u001b[1;36m1641003\u001b[0m                                 \u001b]8;id=201682;file://C:\\Users\\aleex\\AppData\\Roaming\\Python\\Python39\\site-packages\\soccerdata\\whoscored.py\u001b\\\u001b[2mwhoscored.py\u001b[0m\u001b]8;;\u001b\\\u001b[2m:\u001b[0m\u001b]8;id=558038;file://C:\\Users\\aleex\\AppData\\Roaming\\Python\\Python39\\site-packages\\soccerdata\\whoscored.py#683\u001b\\\u001b[2m683\u001b[0m\u001b]8;;\u001b\\\n"
      ]
     },
     "metadata": {},
     "output_type": "display_data"
    }
   ],
   "source": [
    "df_events = pd.DataFrame()\n",
    "df_teams = pd.DataFrame()\n",
    "df_players = pd.DataFrame()\n",
    "it = 0\n",
    "for m in matches:\n",
    "    it +=1\n",
    "    print(\"{:.0f} / {:.0f}\".format(it,len(matches)))\n",
    "    events, teams, players = utils.sd_match_events_spadl(comp, season, int(m), games,ws)\n",
    "    teams['game_id'] = m\n",
    "    df_events = pd.concat([df_events, events])\n",
    "    df_teams = pd.concat([df_teams, teams])\n",
    "    df_players = pd.concat([df_players, players])"
   ]
  },
  {
   "cell_type": "code",
   "execution_count": 5,
   "id": "676c40f6",
   "metadata": {},
   "outputs": [],
   "source": [
    "df_events = df_events[df_events.action_id.isna()==False]"
   ]
  },
  {
   "cell_type": "code",
   "execution_count": 6,
   "id": "6cb4c667",
   "metadata": {},
   "outputs": [],
   "source": [
    "df_events.reset_index(inplace=True)"
   ]
  },
  {
   "cell_type": "code",
   "execution_count": 7,
   "id": "41f2976c",
   "metadata": {
    "scrolled": true
   },
   "outputs": [
    {
     "name": "stderr",
     "output_type": "stream",
     "text": [
      "C:\\Users\\aleex\\AppData\\Local\\Temp\\ipykernel_3156\\3913595293.py:2: SettingWithCopyWarning:\n",
      "\n",
      "\n",
      "A value is trying to be set on a copy of a slice from a DataFrame.\n",
      "Try using .loc[row_indexer,col_indexer] = value instead\n",
      "\n",
      "See the caveats in the documentation: https://pandas.pydata.org/pandas-docs/stable/user_guide/indexing.html#returning-a-view-versus-a-copy\n",
      "\n",
      "C:\\Users\\aleex\\AppData\\Local\\Temp\\ipykernel_3156\\3913595293.py:3: SettingWithCopyWarning:\n",
      "\n",
      "\n",
      "A value is trying to be set on a copy of a slice from a DataFrame.\n",
      "Try using .loc[row_indexer,col_indexer] = value instead\n",
      "\n",
      "See the caveats in the documentation: https://pandas.pydata.org/pandas-docs/stable/user_guide/indexing.html#returning-a-view-versus-a-copy\n",
      "\n",
      "C:\\Users\\aleex\\AppData\\Local\\Temp\\ipykernel_3156\\3913595293.py:4: SettingWithCopyWarning:\n",
      "\n",
      "\n",
      "A value is trying to be set on a copy of a slice from a DataFrame.\n",
      "Try using .loc[row_indexer,col_indexer] = value instead\n",
      "\n",
      "See the caveats in the documentation: https://pandas.pydata.org/pandas-docs/stable/user_guide/indexing.html#returning-a-view-versus-a-copy\n",
      "\n",
      "C:\\Users\\aleex\\AppData\\Local\\Temp\\ipykernel_3156\\3913595293.py:5: SettingWithCopyWarning:\n",
      "\n",
      "\n",
      "A value is trying to be set on a copy of a slice from a DataFrame.\n",
      "Try using .loc[row_indexer,col_indexer] = value instead\n",
      "\n",
      "See the caveats in the documentation: https://pandas.pydata.org/pandas-docs/stable/user_guide/indexing.html#returning-a-view-versus-a-copy\n",
      "\n",
      "C:\\Users\\aleex\\AppData\\Local\\Temp\\ipykernel_3156\\3913595293.py:6: SettingWithCopyWarning:\n",
      "\n",
      "\n",
      "A value is trying to be set on a copy of a slice from a DataFrame.\n",
      "Try using .loc[row_indexer,col_indexer] = value instead\n",
      "\n",
      "See the caveats in the documentation: https://pandas.pydata.org/pandas-docs/stable/user_guide/indexing.html#returning-a-view-versus-a-copy\n",
      "\n",
      "C:\\Users\\aleex\\AppData\\Local\\Temp\\ipykernel_3156\\3913595293.py:7: SettingWithCopyWarning:\n",
      "\n",
      "\n",
      "A value is trying to be set on a copy of a slice from a DataFrame.\n",
      "Try using .loc[row_indexer,col_indexer] = value instead\n",
      "\n",
      "See the caveats in the documentation: https://pandas.pydata.org/pandas-docs/stable/user_guide/indexing.html#returning-a-view-versus-a-copy\n",
      "\n"
     ]
    },
    {
     "data": {
      "text/html": [
       "<div>\n",
       "<style scoped>\n",
       "    .dataframe tbody tr th:only-of-type {\n",
       "        vertical-align: middle;\n",
       "    }\n",
       "\n",
       "    .dataframe tbody tr th {\n",
       "        vertical-align: top;\n",
       "    }\n",
       "\n",
       "    .dataframe thead th {\n",
       "        text-align: right;\n",
       "    }\n",
       "</style>\n",
       "<table border=\"1\" class=\"dataframe\">\n",
       "  <thead>\n",
       "    <tr style=\"text-align: right;\">\n",
       "      <th></th>\n",
       "      <th>index</th>\n",
       "      <th>game_id</th>\n",
       "      <th>original_event_id</th>\n",
       "      <th>period_id</th>\n",
       "      <th>time_seconds</th>\n",
       "      <th>team_id</th>\n",
       "      <th>player_id</th>\n",
       "      <th>start_x</th>\n",
       "      <th>end_x</th>\n",
       "      <th>start_y</th>\n",
       "      <th>...</th>\n",
       "      <th>result_name</th>\n",
       "      <th>bodypart_name</th>\n",
       "      <th>player_name</th>\n",
       "      <th>team_name</th>\n",
       "      <th>Cx</th>\n",
       "      <th>Cy</th>\n",
       "      <th>Distance</th>\n",
       "      <th>Angle</th>\n",
       "      <th>D2</th>\n",
       "      <th>Cx2</th>\n",
       "    </tr>\n",
       "  </thead>\n",
       "  <tbody>\n",
       "    <tr>\n",
       "      <th>94</th>\n",
       "      <td>116</td>\n",
       "      <td>1640674</td>\n",
       "      <td>2442235721</td>\n",
       "      <td>1</td>\n",
       "      <td>198.0</td>\n",
       "      <td>13</td>\n",
       "      <td>279379.0</td>\n",
       "      <td>91.875</td>\n",
       "      <td>93.975</td>\n",
       "      <td>34.204</td>\n",
       "      <td>...</td>\n",
       "      <td>fail</td>\n",
       "      <td>foot_right</td>\n",
       "      <td>Gabriel Jesus</td>\n",
       "      <td>Arsenal</td>\n",
       "      <td>13.125</td>\n",
       "      <td>0.374</td>\n",
       "      <td>13.130328</td>\n",
       "      <td>0.543508</td>\n",
       "      <td>172.405501</td>\n",
       "      <td>172.265625</td>\n",
       "    </tr>\n",
       "    <tr>\n",
       "      <th>96</th>\n",
       "      <td>118</td>\n",
       "      <td>1640674</td>\n",
       "      <td>2442235751</td>\n",
       "      <td>1</td>\n",
       "      <td>200.0</td>\n",
       "      <td>13</td>\n",
       "      <td>380706.0</td>\n",
       "      <td>98.175</td>\n",
       "      <td>105.000</td>\n",
       "      <td>41.616</td>\n",
       "      <td>...</td>\n",
       "      <td>fail</td>\n",
       "      <td>foot_left</td>\n",
       "      <td>Gabriel Martinelli</td>\n",
       "      <td>Arsenal</td>\n",
       "      <td>6.825</td>\n",
       "      <td>7.786</td>\n",
       "      <td>10.353860</td>\n",
       "      <td>0.489365</td>\n",
       "      <td>107.202421</td>\n",
       "      <td>46.580625</td>\n",
       "    </tr>\n",
       "    <tr>\n",
       "      <th>181</th>\n",
       "      <td>211</td>\n",
       "      <td>1640674</td>\n",
       "      <td>2442238823</td>\n",
       "      <td>1</td>\n",
       "      <td>471.0</td>\n",
       "      <td>13</td>\n",
       "      <td>273257.0</td>\n",
       "      <td>89.880</td>\n",
       "      <td>103.740</td>\n",
       "      <td>46.376</td>\n",
       "      <td>...</td>\n",
       "      <td>fail</td>\n",
       "      <td>foot_left</td>\n",
       "      <td>Oleksandr Zinchenko</td>\n",
       "      <td>Arsenal</td>\n",
       "      <td>15.120</td>\n",
       "      <td>12.546</td>\n",
       "      <td>19.647303</td>\n",
       "      <td>0.288727</td>\n",
       "      <td>386.016516</td>\n",
       "      <td>228.614400</td>\n",
       "    </tr>\n",
       "    <tr>\n",
       "      <th>189</th>\n",
       "      <td>219</td>\n",
       "      <td>1640674</td>\n",
       "      <td>2442239097</td>\n",
       "      <td>1</td>\n",
       "      <td>487.0</td>\n",
       "      <td>13</td>\n",
       "      <td>238940.0</td>\n",
       "      <td>86.205</td>\n",
       "      <td>91.980</td>\n",
       "      <td>38.148</td>\n",
       "      <td>...</td>\n",
       "      <td>fail</td>\n",
       "      <td>foot_right</td>\n",
       "      <td>Thomas Partey</td>\n",
       "      <td>Arsenal</td>\n",
       "      <td>18.795</td>\n",
       "      <td>4.318</td>\n",
       "      <td>19.284635</td>\n",
       "      <td>0.366431</td>\n",
       "      <td>371.897149</td>\n",
       "      <td>353.252025</td>\n",
       "    </tr>\n",
       "    <tr>\n",
       "      <th>413</th>\n",
       "      <td>481</td>\n",
       "      <td>1640674</td>\n",
       "      <td>2442248953</td>\n",
       "      <td>1</td>\n",
       "      <td>1155.0</td>\n",
       "      <td>13</td>\n",
       "      <td>380706.0</td>\n",
       "      <td>100.695</td>\n",
       "      <td>105.000</td>\n",
       "      <td>32.640</td>\n",
       "      <td>...</td>\n",
       "      <td>success</td>\n",
       "      <td>head</td>\n",
       "      <td>Gabriel Martinelli</td>\n",
       "      <td>Arsenal</td>\n",
       "      <td>4.305</td>\n",
       "      <td>1.190</td>\n",
       "      <td>4.466444</td>\n",
       "      <td>1.365754</td>\n",
       "      <td>19.949125</td>\n",
       "      <td>18.533025</td>\n",
       "    </tr>\n",
       "    <tr>\n",
       "      <th>...</th>\n",
       "      <td>...</td>\n",
       "      <td>...</td>\n",
       "      <td>...</td>\n",
       "      <td>...</td>\n",
       "      <td>...</td>\n",
       "      <td>...</td>\n",
       "      <td>...</td>\n",
       "      <td>...</td>\n",
       "      <td>...</td>\n",
       "      <td>...</td>\n",
       "      <td>...</td>\n",
       "      <td>...</td>\n",
       "      <td>...</td>\n",
       "      <td>...</td>\n",
       "      <td>...</td>\n",
       "      <td>...</td>\n",
       "      <td>...</td>\n",
       "      <td>...</td>\n",
       "      <td>...</td>\n",
       "      <td>...</td>\n",
       "      <td>...</td>\n",
       "    </tr>\n",
       "    <tr>\n",
       "      <th>59360</th>\n",
       "      <td>1420</td>\n",
       "      <td>1641003</td>\n",
       "      <td>2555905469</td>\n",
       "      <td>2</td>\n",
       "      <td>2025.0</td>\n",
       "      <td>161</td>\n",
       "      <td>431283.0</td>\n",
       "      <td>94.395</td>\n",
       "      <td>105.000</td>\n",
       "      <td>37.740</td>\n",
       "      <td>...</td>\n",
       "      <td>fail</td>\n",
       "      <td>head</td>\n",
       "      <td>Toti</td>\n",
       "      <td>Wolves</td>\n",
       "      <td>10.605</td>\n",
       "      <td>3.910</td>\n",
       "      <td>11.302837</td>\n",
       "      <td>0.596368</td>\n",
       "      <td>127.754125</td>\n",
       "      <td>112.466025</td>\n",
       "    </tr>\n",
       "    <tr>\n",
       "      <th>59389</th>\n",
       "      <td>1459</td>\n",
       "      <td>1641003</td>\n",
       "      <td>2555907679</td>\n",
       "      <td>2</td>\n",
       "      <td>2150.0</td>\n",
       "      <td>13</td>\n",
       "      <td>424462.0</td>\n",
       "      <td>95.865</td>\n",
       "      <td>105.000</td>\n",
       "      <td>34.340</td>\n",
       "      <td>...</td>\n",
       "      <td>success</td>\n",
       "      <td>foot_right</td>\n",
       "      <td>Jakub Kiwior</td>\n",
       "      <td>Arsenal</td>\n",
       "      <td>9.135</td>\n",
       "      <td>0.510</td>\n",
       "      <td>9.149225</td>\n",
       "      <td>0.760294</td>\n",
       "      <td>83.708325</td>\n",
       "      <td>83.448225</td>\n",
       "    </tr>\n",
       "    <tr>\n",
       "      <th>59471</th>\n",
       "      <td>1561</td>\n",
       "      <td>1641003</td>\n",
       "      <td>2555912539</td>\n",
       "      <td>2</td>\n",
       "      <td>2457.0</td>\n",
       "      <td>13</td>\n",
       "      <td>345845.0</td>\n",
       "      <td>101.430</td>\n",
       "      <td>105.000</td>\n",
       "      <td>31.348</td>\n",
       "      <td>...</td>\n",
       "      <td>fail</td>\n",
       "      <td>foot_right</td>\n",
       "      <td>Eddie Nketiah</td>\n",
       "      <td>Arsenal</td>\n",
       "      <td>3.570</td>\n",
       "      <td>2.482</td>\n",
       "      <td>4.348014</td>\n",
       "      <td>1.363005</td>\n",
       "      <td>18.905224</td>\n",
       "      <td>12.744900</td>\n",
       "    </tr>\n",
       "    <tr>\n",
       "      <th>59548</th>\n",
       "      <td>1646</td>\n",
       "      <td>1641003</td>\n",
       "      <td>2555916345</td>\n",
       "      <td>2</td>\n",
       "      <td>2682.0</td>\n",
       "      <td>13</td>\n",
       "      <td>106968.0</td>\n",
       "      <td>81.690</td>\n",
       "      <td>105.000</td>\n",
       "      <td>41.888</td>\n",
       "      <td>...</td>\n",
       "      <td>fail</td>\n",
       "      <td>foot_right</td>\n",
       "      <td>Jorginho</td>\n",
       "      <td>Arsenal</td>\n",
       "      <td>23.310</td>\n",
       "      <td>8.058</td>\n",
       "      <td>24.663484</td>\n",
       "      <td>0.279325</td>\n",
       "      <td>608.287464</td>\n",
       "      <td>543.356100</td>\n",
       "    </tr>\n",
       "    <tr>\n",
       "      <th>59606</th>\n",
       "      <td>1712</td>\n",
       "      <td>1641003</td>\n",
       "      <td>2555919159</td>\n",
       "      <td>2</td>\n",
       "      <td>2854.0</td>\n",
       "      <td>161</td>\n",
       "      <td>443578.0</td>\n",
       "      <td>96.180</td>\n",
       "      <td>105.000</td>\n",
       "      <td>37.740</td>\n",
       "      <td>...</td>\n",
       "      <td>fail</td>\n",
       "      <td>head</td>\n",
       "      <td>Joseph Hodge</td>\n",
       "      <td>Wolves</td>\n",
       "      <td>8.820</td>\n",
       "      <td>3.910</td>\n",
       "      <td>9.647824</td>\n",
       "      <td>0.680942</td>\n",
       "      <td>93.080500</td>\n",
       "      <td>77.792400</td>\n",
       "    </tr>\n",
       "  </tbody>\n",
       "</table>\n",
       "<p>902 rows × 27 columns</p>\n",
       "</div>"
      ],
      "text/plain": [
       "       index  game_id original_event_id  period_id  time_seconds  team_id  \\\n",
       "94       116  1640674        2442235721          1         198.0       13   \n",
       "96       118  1640674        2442235751          1         200.0       13   \n",
       "181      211  1640674        2442238823          1         471.0       13   \n",
       "189      219  1640674        2442239097          1         487.0       13   \n",
       "413      481  1640674        2442248953          1        1155.0       13   \n",
       "...      ...      ...               ...        ...           ...      ...   \n",
       "59360   1420  1641003        2555905469          2        2025.0      161   \n",
       "59389   1459  1641003        2555907679          2        2150.0       13   \n",
       "59471   1561  1641003        2555912539          2        2457.0       13   \n",
       "59548   1646  1641003        2555916345          2        2682.0       13   \n",
       "59606   1712  1641003        2555919159          2        2854.0      161   \n",
       "\n",
       "       player_id  start_x    end_x  start_y  ...  result_name  bodypart_name  \\\n",
       "94      279379.0   91.875   93.975   34.204  ...         fail     foot_right   \n",
       "96      380706.0   98.175  105.000   41.616  ...         fail      foot_left   \n",
       "181     273257.0   89.880  103.740   46.376  ...         fail      foot_left   \n",
       "189     238940.0   86.205   91.980   38.148  ...         fail     foot_right   \n",
       "413     380706.0  100.695  105.000   32.640  ...      success           head   \n",
       "...          ...      ...      ...      ...  ...          ...            ...   \n",
       "59360   431283.0   94.395  105.000   37.740  ...         fail           head   \n",
       "59389   424462.0   95.865  105.000   34.340  ...      success     foot_right   \n",
       "59471   345845.0  101.430  105.000   31.348  ...         fail     foot_right   \n",
       "59548   106968.0   81.690  105.000   41.888  ...         fail     foot_right   \n",
       "59606   443578.0   96.180  105.000   37.740  ...         fail           head   \n",
       "\n",
       "               player_name  team_name      Cx      Cy   Distance     Angle  \\\n",
       "94           Gabriel Jesus    Arsenal  13.125   0.374  13.130328  0.543508   \n",
       "96      Gabriel Martinelli    Arsenal   6.825   7.786  10.353860  0.489365   \n",
       "181    Oleksandr Zinchenko    Arsenal  15.120  12.546  19.647303  0.288727   \n",
       "189          Thomas Partey    Arsenal  18.795   4.318  19.284635  0.366431   \n",
       "413     Gabriel Martinelli    Arsenal   4.305   1.190   4.466444  1.365754   \n",
       "...                    ...        ...     ...     ...        ...       ...   \n",
       "59360                 Toti     Wolves  10.605   3.910  11.302837  0.596368   \n",
       "59389         Jakub Kiwior    Arsenal   9.135   0.510   9.149225  0.760294   \n",
       "59471        Eddie Nketiah    Arsenal   3.570   2.482   4.348014  1.363005   \n",
       "59548             Jorginho    Arsenal  23.310   8.058  24.663484  0.279325   \n",
       "59606         Joseph Hodge     Wolves   8.820   3.910   9.647824  0.680942   \n",
       "\n",
       "               D2         Cx2  \n",
       "94     172.405501  172.265625  \n",
       "96     107.202421   46.580625  \n",
       "181    386.016516  228.614400  \n",
       "189    371.897149  353.252025  \n",
       "413     19.949125   18.533025  \n",
       "...           ...         ...  \n",
       "59360  127.754125  112.466025  \n",
       "59389   83.708325   83.448225  \n",
       "59471   18.905224   12.744900  \n",
       "59548  608.287464  543.356100  \n",
       "59606   93.080500   77.792400  \n",
       "\n",
       "[902 rows x 27 columns]"
      ]
     },
     "execution_count": 7,
     "metadata": {},
     "output_type": "execute_result"
    }
   ],
   "source": [
    "shots = df_events[df_events.type_name=='shot']\n",
    "shots['Cx'] = df_events.start_x.max() - shots['start_x'] # distancia vertical respecto a la línea de gol\n",
    "shots['Cy'] = abs(shots['start_y'] - shots.start_y.max()/2) # distancia horizontal respecto al centro\n",
    "shots[\"Distance\"] = np.sqrt(shots[\"Cx\"]**2 + shots[\"Cy\"]**2)\n",
    "shots['Angle'] = np.where(np.arctan(7.32 * shots[\"Cx\"] / (shots[\"Cx\"]**2 + shots[\"Cy\"]**2 - (7.32/2)**2)) > 0, np.arctan(7.32 * shots[\"Cx\"] /(shots[\"Cx\"]**2 + shots[\"Cy\"]**2 - (7.32/2)**2)), np.arctan(7.32 * shots[\"Cx\"] /(shots[\"Cx\"]**2 + shots[\"Cy\"]**2 - (7.32/2)**2)) + np.pi)\n",
    "shots[\"D2\"] = shots[\"Distance\"]**2\n",
    "shots[\"Cx2\"] = shots[\"Cx\"]**2\n",
    "shots"
   ]
  },
  {
   "cell_type": "code",
   "execution_count": 8,
   "id": "7e0c2a61",
   "metadata": {},
   "outputs": [],
   "source": [
    "b = xg_model.params\n",
    "xG = 1/(1+np.exp(b[0]+b[1]*shots['Distance'] + b[2]*shots['Cx2'] + b[3]*shots['Angle']))\n",
    "shots =  shots.assign(xG = xG)\n",
    "shots['penalty'] = shots.qualifiers.apply(lambda x: 1 if 9 in x else 0).astype(object)\n",
    "shots['xG'] = np.where(shots.penalty==1,.8,shots.xG)"
   ]
  },
  {
   "cell_type": "code",
   "execution_count": 9,
   "id": "8cad7839",
   "metadata": {},
   "outputs": [
    {
     "data": {
      "text/plain": [
       "0.1544897141208028"
      ]
     },
     "execution_count": 9,
     "metadata": {},
     "output_type": "execute_result"
    }
   ],
   "source": [
    "shots.xG.mean()"
   ]
  },
  {
   "cell_type": "code",
   "execution_count": 10,
   "id": "152fb1e2",
   "metadata": {},
   "outputs": [],
   "source": [
    "df_events = pd.merge(df_events, shots[['xG']], how=\"left\",left_index=True, right_index=True)"
   ]
  },
  {
   "cell_type": "code",
   "execution_count": 11,
   "id": "4052e610",
   "metadata": {},
   "outputs": [
    {
     "data": {
      "text/plain": [
       "array(['pass', 'dribble', 'throw_in', 'tackle', 'interception', 'foul',\n",
       "       'freekick_short', 'bad_touch', 'take_on', 'shot', 'keeper_save',\n",
       "       'goalkick', 'clearance', 'cross', 'keeper_pick_up',\n",
       "       'corner_crossed', 'keeper_punch', 'freekick_crossed',\n",
       "       'keeper_claim', 'shot_freekick', 'corner_short', 'shot_penalty'],\n",
       "      dtype=object)"
      ]
     },
     "execution_count": 11,
     "metadata": {},
     "output_type": "execute_result"
    }
   ],
   "source": [
    "df_events.type_name.unique()"
   ]
  },
  {
   "cell_type": "code",
   "execution_count": 12,
   "id": "e1372c8d",
   "metadata": {},
   "outputs": [],
   "source": [
    "ffeatures = [\n",
    "    features.actiontype_onehot,\n",
    "    features.bodypart_onehot,\n",
    "    features.result_onehot,\n",
    "    features.goalscore,\n",
    "    features.startlocation,\n",
    "    features.endlocation,\n",
    "    features.movement,\n",
    "    features.space_delta,\n",
    "    features.startpolar,\n",
    "    features.endpolar,\n",
    "    features.team,\n",
    "    features.time_delta\n",
    "]"
   ]
  },
  {
   "cell_type": "code",
   "execution_count": 13,
   "id": "3e985d7c",
   "metadata": {},
   "outputs": [],
   "source": [
    "df_features = pd.DataFrame()\n",
    "nb_prev_actions = 3\n",
    "df_f = features.gamestates(df_events, nb_prev_actions)\n",
    "df_features = pd.concat([function(df_f) for function in ffeatures],axis=1)"
   ]
  },
  {
   "cell_type": "code",
   "execution_count": 14,
   "id": "2ead4272",
   "metadata": {},
   "outputs": [],
   "source": [
    "df_features = df_features.reset_index()\n",
    "df_features.drop('index',axis=1,inplace=True)"
   ]
  },
  {
   "cell_type": "code",
   "execution_count": 15,
   "id": "a51d4aa3",
   "metadata": {},
   "outputs": [
    {
     "data": {
      "text/plain": [
       "59673"
      ]
     },
     "execution_count": 15,
     "metadata": {},
     "output_type": "execute_result"
    }
   ],
   "source": [
    "df_events = pd.merge(df_events,df_features, how='left',left_index=True, right_index=True)\n",
    "df_events.shape[0]"
   ]
  },
  {
   "cell_type": "code",
   "execution_count": 16,
   "id": "99198fad",
   "metadata": {},
   "outputs": [],
   "source": [
    "actions_og = ['pass','dribble','take_on','cross']\n",
    "actions_abp = ['goalkick','freekick_short','throw_in','freekick_crossed']"
   ]
  },
  {
   "cell_type": "code",
   "execution_count": 17,
   "id": "a2c417b9",
   "metadata": {},
   "outputs": [],
   "source": [
    "chain = 0\n",
    "moment = 0\n",
    "tiempo = 0\n",
    "team_pos = df_events.team_name.values[0]\n",
    "p = df_events.period_id.values[0]\n",
    "for i, j in df_events.iterrows():\n",
    "    if j['period_id'] == p and j['type_name'] not in ['throw_in','freekick_crossed','corner_crossed','goalkick','foul','freekick_short']:\n",
    "        if j['team_1']==True:\n",
    "            moment +=1\n",
    "            chain_team = team_pos\n",
    "        else:\n",
    "            chain+=1\n",
    "            moment = 0\n",
    "            chain_team = j['team_name']\n",
    "    else:\n",
    "        chain+=1\n",
    "        moment = 0\n",
    "        chain_team = j['team_name']\n",
    "    \n",
    "    \n",
    "    df_events.at[i, \"posesion\"] = chain\n",
    "    df_events.loc[i, \"posesion_equipo\"] = chain_team\n",
    "    df_events.at[i, \"posesion_orden\"] = moment\n",
    "    \n",
    "    team_pos = chain_team\n",
    "    p = j['period_id']"
   ]
  },
  {
   "cell_type": "code",
   "execution_count": 18,
   "id": "db12e722",
   "metadata": {},
   "outputs": [],
   "source": [
    "df_events['id_posesion'] = df_events['game_id'].astype(int).astype(str) + '_' + df_events['posesion'].astype(int).astype(str)"
   ]
  },
  {
   "cell_type": "code",
   "execution_count": 19,
   "id": "00e382a5",
   "metadata": {},
   "outputs": [
    {
     "name": "stdout",
     "output_type": "stream",
     "text": [
      "[01:14:01] WARNING: C:/buildkite-agent/builds/buildkite-windows-cpu-autoscaling-group-i-0fc7796c793e6356f-1/xgboost/xgboost-ci-windows/src/learner.cc:888: Found JSON model saved before XGBoost 1.6, please save the model using current version again. The support for old JSON model will be discontinued in XGBoost 2.3.\n",
      "XGBClassifier(base_score=None, booster=None, callbacks=None, ccp_alpha=0,\n",
      "              colsample_bylevel=None, colsample_bynode=None,\n",
      "              colsample_bytree=None, early_stopping_rounds=None,\n",
      "              enable_categorical=False, eval_metric=None, feature_types=None,\n",
      "              gamma=None, gpu_id=None, grow_policy=None, importance_type=None,\n",
      "              interaction_constraints=None, learning_rate=None, max_bin=None,\n",
      "              max_cat_threshold=None, max_cat_to_onehot=None,\n",
      "              max_delta_step=None, max_depth=4, max_leaves=None,\n",
      "              min_child_weight=None, min_samples_leaf=10, missing=nan,\n",
      "              monotone_constraints=None, n_estimators=100, n_jobs=None,\n",
      "              num_parallel_tree=None, ...)\n"
     ]
    }
   ],
   "source": [
    "path_model = 'model_xT.json'\n",
    "model = xgb.XGBClassifier()\n",
    "model.load_model(path_model)\n",
    "print(model)\n",
    "\n",
    "\n",
    "\n",
    "def calculo_xT(df):\n",
    "    \n",
    "    \"\"\"\n",
    "    Toma el dataframe y lo devuelve agregando la columna de xT\n",
    "    \"\"\"\n",
    "    \n",
    "    cols = df.columns\n",
    "    df['Cx'] = instat_x - df['start_x']\n",
    "    df[\"Cy\"] = df.start_y.apply(lambda x: abs(x - instat_y/2))\n",
    "    df[\"Crec_y\"] = df.end_y.apply(lambda x: abs(x - instat_y/2))\n",
    "    # Se toman las coordenadas de emisión y recepción de la acción a nivel vertical +\n",
    "    #   la distancia de ambos puntos con el centro, a lo ancho\n",
    "    var = ['start_x','end_y','Cy','Crec_y']\n",
    "    \n",
    "    inputs = []\n",
    "\n",
    "    inputs.extend(combinations_with_replacement(var, 1))\n",
    "    #2 variable combinations\n",
    "    inputs.extend(combinations_with_replacement(var, 2))\n",
    "    #3 variable combinations\n",
    "    inputs.extend(combinations_with_replacement(var, 3))\n",
    "\n",
    "    for i in inputs:\n",
    "        if len(i)>1:\n",
    "            col= ''\n",
    "            x=1\n",
    "\n",
    "            for c in i:\n",
    "                col+=c\n",
    "                #print(col)\n",
    "\n",
    "                x = x * df[c]\n",
    "\n",
    "            df[col] = x\n",
    "            var.append(col)\n",
    "            \n",
    "    \n",
    "    #df['id_posesion'] = df.posesion.astype(str) + '_' + df.fecha_partido.astype(str) + '_' + df.local.astype(str) + '_' + df.visitante.astype(str)\n",
    "    mov = df[((df['end_x']!=0) & (df['end_y']!=0)) & ((df.type_name.isin(actions_og)) | (df.type_name.isin(actions_abp))) | (df['type_name']==\"shot\")]\n",
    "    #mov = mov[(mov.x!=0) & (mov.y!=0) & (mov.x!=instat_x) & (mov.y!=instat_y) & (mov.rec_x!=0) & (mov.rec_y!=0) & (mov.rec_x!=instat_x) & (mov.rec_y!=instat_y)]\n",
    "    mov = mov[mov.posesion_equipo==mov.team_name]\n",
    "    mov['acaba_tiro'] = 0\n",
    "    mov['xG_jugada'] = 0\n",
    "    for i in mov.id_posesion.unique():\n",
    "        k = mov[mov.id_posesion==i]\n",
    "        for y,h in k.iterrows():\n",
    "            if k.loc[y,\"type_name\"] == \"shot\":\n",
    "                mov.loc[mov[\"id_posesion\"] == i, \"acaba_tiro\"] = 1\n",
    "                mov.loc[mov[\"id_posesion\"] == i, \"xG_jugada\"] = k.loc[y,\"xG\"]\n",
    "    \n",
    "    mov_sin = mov[(mov['type_name']!='shot')] # Nos quedamos con todas las jugadas que no sean tiros\n",
    "    X = mov_sin[var].values\n",
    "    y = mov_sin[\"acaba_tiro\"].values\n",
    "    y_pred_proba = model.predict_proba(X)[::,1]\n",
    "    \n",
    "    mov_sin['tiro_prob'] = y_pred_proba\n",
    "    mov_tiro = mov_sin[mov_sin['acaba_tiro'] == 1] # acciones (no tiros) cuya jugada acaba en tiro\n",
    "    X2 = mov_tiro[var].values\n",
    "    y2 = mov_tiro[\"xG_jugada\"].values\n",
    "\n",
    "    lr = LinearRegression()\n",
    "    lr.fit(X2,y2)\n",
    "\n",
    "    y_pred = lr.predict(X)\n",
    "    mov_sin[\"xG_pred\"] = y_pred\n",
    "\n",
    "    mov_sin['xT'] = mov_sin[\"xG_pred\"] * mov_sin['tiro_prob']\n",
    "    df = df[cols]\n",
    "    df = pd.merge(df,mov_sin[['xT']],how='left',left_index=True,right_index=True)\n",
    "    df['xT'] = df['xT'].fillna(0)\n",
    "    \n",
    "    return df"
   ]
  },
  {
   "cell_type": "code",
   "execution_count": 20,
   "id": "12ccbbe9",
   "metadata": {},
   "outputs": [
    {
     "name": "stderr",
     "output_type": "stream",
     "text": [
      "C:\\Users\\aleex\\AppData\\Local\\Temp\\ipykernel_3156\\1391575821.py:63: SettingWithCopyWarning:\n",
      "\n",
      "\n",
      "A value is trying to be set on a copy of a slice from a DataFrame.\n",
      "Try using .loc[row_indexer,col_indexer] = value instead\n",
      "\n",
      "See the caveats in the documentation: https://pandas.pydata.org/pandas-docs/stable/user_guide/indexing.html#returning-a-view-versus-a-copy\n",
      "\n",
      "C:\\Users\\aleex\\AppData\\Local\\Temp\\ipykernel_3156\\1391575821.py:72: SettingWithCopyWarning:\n",
      "\n",
      "\n",
      "A value is trying to be set on a copy of a slice from a DataFrame.\n",
      "Try using .loc[row_indexer,col_indexer] = value instead\n",
      "\n",
      "See the caveats in the documentation: https://pandas.pydata.org/pandas-docs/stable/user_guide/indexing.html#returning-a-view-versus-a-copy\n",
      "\n",
      "C:\\Users\\aleex\\AppData\\Local\\Temp\\ipykernel_3156\\1391575821.py:74: SettingWithCopyWarning:\n",
      "\n",
      "\n",
      "A value is trying to be set on a copy of a slice from a DataFrame.\n",
      "Try using .loc[row_indexer,col_indexer] = value instead\n",
      "\n",
      "See the caveats in the documentation: https://pandas.pydata.org/pandas-docs/stable/user_guide/indexing.html#returning-a-view-versus-a-copy\n",
      "\n"
     ]
    }
   ],
   "source": [
    "df_events = calculo_xT(df_events)"
   ]
  },
  {
   "cell_type": "code",
   "execution_count": 21,
   "id": "51fa35ed",
   "metadata": {},
   "outputs": [
    {
     "data": {
      "text/plain": [
       "type_name\n",
       "bad_touch             0.000000\n",
       "clearance             0.000000\n",
       "corner_crossed        0.000000\n",
       "corner_short          0.000000\n",
       "cross                12.311535\n",
       "dribble             100.232892\n",
       "foul                  0.000000\n",
       "freekick_crossed      1.022383\n",
       "freekick_short        4.461407\n",
       "goalkick              1.753184\n",
       "interception          0.000000\n",
       "keeper_claim          0.000000\n",
       "keeper_pick_up        0.000000\n",
       "keeper_punch          0.000000\n",
       "keeper_save           0.000000\n",
       "pass                225.932903\n",
       "shot                  0.000000\n",
       "shot_freekick         0.000000\n",
       "shot_penalty          0.000000\n",
       "tackle                0.000000\n",
       "take_on              15.192031\n",
       "throw_in              8.107441\n",
       "Name: xT, dtype: float64"
      ]
     },
     "execution_count": 21,
     "metadata": {},
     "output_type": "execute_result"
    }
   ],
   "source": [
    "df_events.groupby(by='type_name').xT.sum()"
   ]
  },
  {
   "cell_type": "code",
   "execution_count": 22,
   "id": "9d4acb2e",
   "metadata": {},
   "outputs": [],
   "source": [
    "b = (6,5)\n",
    "mov = df_events[(df_events.xT!=0) & (df_events.team_name == 'Arsenal') & (df_events.result_id==1) ]\n",
    "mov = mov[ mov.type_name.isin(actions_og) ]\n",
    "\n",
    "mov[\"start_sector\"] = mov.apply(lambda row: tuple([i[0] for i in binned_statistic_2d(np.ravel(row.start_x), np.ravel(row.start_y),\n",
    "                                                               values = \"None\", statistic=\"count\",\n",
    "                                                               bins=b, range=[[0, instat_x], [0, instat_y]],\n",
    "                                                               expand_binnumbers=True)[3]]), axis = 1)\n",
    "\n",
    "\n",
    "\n",
    "\n",
    "grouped = mov.groupby('start_sector')['xT'].sum().reset_index()\n",
    "list_tuples= []\n",
    "for i in range(1,b[0]+1):\n",
    "    for j in reversed(range(1,b[1]+1)):\n",
    "        list_tuples.append((i,j))\n",
    "index_base = pd.DataFrame(np.array(list_tuples),columns=['x','y'])\n",
    "index_base['index'] = list(zip(index_base.x, index_base.y))\n",
    "index_base.drop(['x','y'],inplace=True,axis=1)\n",
    "\n",
    "grouped = pd.merge(index_base,grouped,how='left',left_on='index',right_on='start_sector')\n",
    "grouped = grouped.fillna(0)\n",
    "\n",
    "grouped_array = np.array(grouped['xT'].values).reshape(b[0],b[1]).T"
   ]
  },
  {
   "cell_type": "code",
   "execution_count": 26,
   "id": "4afd2561",
   "metadata": {},
   "outputs": [],
   "source": [
    "players = mov.groupby(by=['start_sector','player_name'],as_index=False).xT.sum().sort_values(['start_sector','xT'])"
   ]
  },
  {
   "cell_type": "code",
   "execution_count": 27,
   "id": "e01119d6",
   "metadata": {},
   "outputs": [
    {
     "data": {
      "text/html": [
       "<div>\n",
       "<style scoped>\n",
       "    .dataframe tbody tr th:only-of-type {\n",
       "        vertical-align: middle;\n",
       "    }\n",
       "\n",
       "    .dataframe tbody tr th {\n",
       "        vertical-align: top;\n",
       "    }\n",
       "\n",
       "    .dataframe thead th {\n",
       "        text-align: right;\n",
       "    }\n",
       "</style>\n",
       "<table border=\"1\" class=\"dataframe\">\n",
       "  <thead>\n",
       "    <tr style=\"text-align: right;\">\n",
       "      <th></th>\n",
       "      <th>start_sector</th>\n",
       "      <th>player_name</th>\n",
       "      <th>xT</th>\n",
       "    </tr>\n",
       "  </thead>\n",
       "  <tbody>\n",
       "    <tr>\n",
       "      <th>12</th>\n",
       "      <td>(1, 1)</td>\n",
       "      <td>William Saliba</td>\n",
       "      <td>0.151302</td>\n",
       "    </tr>\n",
       "    <tr>\n",
       "      <th>13</th>\n",
       "      <td>(1, 2)</td>\n",
       "      <td>Aaron Ramsdale</td>\n",
       "      <td>0.482212</td>\n",
       "    </tr>\n",
       "    <tr>\n",
       "      <th>28</th>\n",
       "      <td>(1, 3)</td>\n",
       "      <td>Aaron Ramsdale</td>\n",
       "      <td>2.043062</td>\n",
       "    </tr>\n",
       "    <tr>\n",
       "      <th>51</th>\n",
       "      <td>(1, 4)</td>\n",
       "      <td>Gabriel Magalhães</td>\n",
       "      <td>0.509026</td>\n",
       "    </tr>\n",
       "    <tr>\n",
       "      <th>68</th>\n",
       "      <td>(1, 5)</td>\n",
       "      <td>Gabriel Magalhães</td>\n",
       "      <td>0.111100</td>\n",
       "    </tr>\n",
       "    <tr>\n",
       "      <th>81</th>\n",
       "      <td>(2, 1)</td>\n",
       "      <td>Ben White</td>\n",
       "      <td>0.592904</td>\n",
       "    </tr>\n",
       "    <tr>\n",
       "      <th>122</th>\n",
       "      <td>(2, 2)</td>\n",
       "      <td>William Saliba</td>\n",
       "      <td>2.002673</td>\n",
       "    </tr>\n",
       "    <tr>\n",
       "      <th>142</th>\n",
       "      <td>(2, 3)</td>\n",
       "      <td>William Saliba</td>\n",
       "      <td>1.163596</td>\n",
       "    </tr>\n",
       "    <tr>\n",
       "      <th>152</th>\n",
       "      <td>(2, 4)</td>\n",
       "      <td>Gabriel Magalhães</td>\n",
       "      <td>2.978941</td>\n",
       "    </tr>\n",
       "    <tr>\n",
       "      <th>174</th>\n",
       "      <td>(2, 5)</td>\n",
       "      <td>Gabriel Magalhães</td>\n",
       "      <td>0.768831</td>\n",
       "    </tr>\n",
       "    <tr>\n",
       "      <th>188</th>\n",
       "      <td>(3, 1)</td>\n",
       "      <td>Ben White</td>\n",
       "      <td>1.323898</td>\n",
       "    </tr>\n",
       "    <tr>\n",
       "      <th>232</th>\n",
       "      <td>(3, 2)</td>\n",
       "      <td>William Saliba</td>\n",
       "      <td>2.026630</td>\n",
       "    </tr>\n",
       "    <tr>\n",
       "      <th>256</th>\n",
       "      <td>(3, 3)</td>\n",
       "      <td>William Saliba</td>\n",
       "      <td>1.969666</td>\n",
       "    </tr>\n",
       "    <tr>\n",
       "      <th>265</th>\n",
       "      <td>(3, 4)</td>\n",
       "      <td>Gabriel Magalhães</td>\n",
       "      <td>4.435873</td>\n",
       "    </tr>\n",
       "    <tr>\n",
       "      <th>288</th>\n",
       "      <td>(3, 5)</td>\n",
       "      <td>Gabriel Magalhães</td>\n",
       "      <td>1.323561</td>\n",
       "    </tr>\n",
       "    <tr>\n",
       "      <th>302</th>\n",
       "      <td>(4, 1)</td>\n",
       "      <td>Ben White</td>\n",
       "      <td>2.955557</td>\n",
       "    </tr>\n",
       "    <tr>\n",
       "      <th>338</th>\n",
       "      <td>(4, 2)</td>\n",
       "      <td>Martin Ødegaard</td>\n",
       "      <td>1.887222</td>\n",
       "    </tr>\n",
       "    <tr>\n",
       "      <th>366</th>\n",
       "      <td>(4, 3)</td>\n",
       "      <td>Thomas Partey</td>\n",
       "      <td>1.870619</td>\n",
       "    </tr>\n",
       "    <tr>\n",
       "      <th>375</th>\n",
       "      <td>(4, 4)</td>\n",
       "      <td>Gabriel Magalhães</td>\n",
       "      <td>2.949357</td>\n",
       "    </tr>\n",
       "    <tr>\n",
       "      <th>406</th>\n",
       "      <td>(4, 5)</td>\n",
       "      <td>Oleksandr Zinchenko</td>\n",
       "      <td>1.946770</td>\n",
       "    </tr>\n",
       "    <tr>\n",
       "      <th>414</th>\n",
       "      <td>(5, 1)</td>\n",
       "      <td>Bukayo Saka</td>\n",
       "      <td>8.325768</td>\n",
       "    </tr>\n",
       "    <tr>\n",
       "      <th>446</th>\n",
       "      <td>(5, 2)</td>\n",
       "      <td>Martin Ødegaard</td>\n",
       "      <td>2.762925</td>\n",
       "    </tr>\n",
       "    <tr>\n",
       "      <th>467</th>\n",
       "      <td>(5, 3)</td>\n",
       "      <td>Martin Ødegaard</td>\n",
       "      <td>1.256214</td>\n",
       "    </tr>\n",
       "    <tr>\n",
       "      <th>485</th>\n",
       "      <td>(5, 4)</td>\n",
       "      <td>Granit Xhaka</td>\n",
       "      <td>2.034274</td>\n",
       "    </tr>\n",
       "    <tr>\n",
       "      <th>506</th>\n",
       "      <td>(5, 5)</td>\n",
       "      <td>Gabriel Martinelli</td>\n",
       "      <td>4.312916</td>\n",
       "    </tr>\n",
       "    <tr>\n",
       "      <th>518</th>\n",
       "      <td>(6, 1)</td>\n",
       "      <td>Bukayo Saka</td>\n",
       "      <td>4.881739</td>\n",
       "    </tr>\n",
       "    <tr>\n",
       "      <th>533</th>\n",
       "      <td>(6, 2)</td>\n",
       "      <td>Bukayo Saka</td>\n",
       "      <td>1.148659</td>\n",
       "    </tr>\n",
       "    <tr>\n",
       "      <th>555</th>\n",
       "      <td>(6, 3)</td>\n",
       "      <td>Gabriel Jesus</td>\n",
       "      <td>0.254374</td>\n",
       "    </tr>\n",
       "    <tr>\n",
       "      <th>574</th>\n",
       "      <td>(6, 4)</td>\n",
       "      <td>Gabriel Martinelli</td>\n",
       "      <td>1.674752</td>\n",
       "    </tr>\n",
       "    <tr>\n",
       "      <th>591</th>\n",
       "      <td>(6, 5)</td>\n",
       "      <td>Gabriel Martinelli</td>\n",
       "      <td>3.345623</td>\n",
       "    </tr>\n",
       "  </tbody>\n",
       "</table>\n",
       "</div>"
      ],
      "text/plain": [
       "    start_sector          player_name        xT\n",
       "12        (1, 1)       William Saliba  0.151302\n",
       "13        (1, 2)       Aaron Ramsdale  0.482212\n",
       "28        (1, 3)       Aaron Ramsdale  2.043062\n",
       "51        (1, 4)    Gabriel Magalhães  0.509026\n",
       "68        (1, 5)    Gabriel Magalhães  0.111100\n",
       "81        (2, 1)            Ben White  0.592904\n",
       "122       (2, 2)       William Saliba  2.002673\n",
       "142       (2, 3)       William Saliba  1.163596\n",
       "152       (2, 4)    Gabriel Magalhães  2.978941\n",
       "174       (2, 5)    Gabriel Magalhães  0.768831\n",
       "188       (3, 1)            Ben White  1.323898\n",
       "232       (3, 2)       William Saliba  2.026630\n",
       "256       (3, 3)       William Saliba  1.969666\n",
       "265       (3, 4)    Gabriel Magalhães  4.435873\n",
       "288       (3, 5)    Gabriel Magalhães  1.323561\n",
       "302       (4, 1)            Ben White  2.955557\n",
       "338       (4, 2)      Martin Ødegaard  1.887222\n",
       "366       (4, 3)        Thomas Partey  1.870619\n",
       "375       (4, 4)    Gabriel Magalhães  2.949357\n",
       "406       (4, 5)  Oleksandr Zinchenko  1.946770\n",
       "414       (5, 1)          Bukayo Saka  8.325768\n",
       "446       (5, 2)      Martin Ødegaard  2.762925\n",
       "467       (5, 3)      Martin Ødegaard  1.256214\n",
       "485       (5, 4)         Granit Xhaka  2.034274\n",
       "506       (5, 5)   Gabriel Martinelli  4.312916\n",
       "518       (6, 1)          Bukayo Saka  4.881739\n",
       "533       (6, 2)          Bukayo Saka  1.148659\n",
       "555       (6, 3)        Gabriel Jesus  0.254374\n",
       "574       (6, 4)   Gabriel Martinelli  1.674752\n",
       "591       (6, 5)   Gabriel Martinelli  3.345623"
      ]
     },
     "execution_count": 27,
     "metadata": {},
     "output_type": "execute_result"
    }
   ],
   "source": [
    "players = players.drop_duplicates(subset=['start_sector'],keep='last')\n",
    "players"
   ]
  },
  {
   "cell_type": "code",
   "execution_count": 29,
   "id": "67f74496",
   "metadata": {
    "scrolled": false
   },
   "outputs": [
    {
     "data": {
      "image/png": "[encoded data removed]",
      "text/plain": [
       "<Figure size 1267.73x900 with 4 Axes>"
      ]
     },
     "metadata": {},
     "output_type": "display_data"
    }
   ],
   "source": [
    "pitch = Pitch(line_zorder=2, line_color='black',pitch_type='uefa')\n",
    "fig, ax = pitch.grid(grid_height=0.9, title_height=0.06, axis=False,\n",
    "                     endnote_height=0.04, title_space=0, endnote_space=0)\n",
    "\n",
    "b = (6,5)\n",
    "\n",
    "bin_statistic = pitch.bin_statistic(mov.start_x, mov.start_y, statistic='count', bins=b, normalize=False)\n",
    "bin_statistic['statistic'] = grouped_array\n",
    "#normalize by number of games\n",
    "\n",
    "#make a heatmap\n",
    "pcm  = pitch.heatmap(bin_statistic, cmap='Reds', edgecolor='white', ax=ax['pitch'], alpha=0.9, vmin = 0)\n",
    "for i in range(bin_statistic['cx'].shape[0]):\n",
    "    for j in range(bin_statistic['cy'].shape[1]):\n",
    "        tup = (j+1,5-i)\n",
    "        s = players[players.start_sector==tup]\n",
    "        if s.shape[0]>0:\n",
    "            jug = s.player_name.values[0]\n",
    "            jug = jug.replace(' ','\\n')\n",
    "            pitch.annotate(\"{}\".format(jug), xy=(bin_statistic['cx'][i][j], bin_statistic['cy'][i][j]+.5), c='black', va='center', ha='center', weight = \"bold\", size=15, ax=ax[\"pitch\"], zorder = 4,bbox={'facecolor': '.9', 'edgecolor':'black', 'boxstyle':'square', 'alpha' : 0.5})\n",
    "#legend to our plot\n",
    "plt.annotate('', xy=(0.95, -0.005), xycoords='axes fraction', xytext=(0.05, -0.01), \n",
    "            arrowprops=dict(arrowstyle='-|>, head_width=0.75', color='red',lw=3))\n",
    "ax_cbar = fig.add_axes((1, 0.093, 0.03, 0.786))\n",
    "cbar = plt.colorbar(pcm, cax=ax_cbar)\n",
    "fig.suptitle(\"{} - {}, 2023-08-12\\n Mapa xT por Jugador y Zona, {}\".format(games[games.game_id == df_events.game_id.values[0]].home_team.values[0], games[games.game_id == df_events.game_id.values[0]].away_team.values[0],mov.team_name.values[0]), fontsize = 18, weight='bold')\n",
    "plt.show()"
   ]
  },
  {
   "cell_type": "code",
   "execution_count": 30,
   "id": "416b552a",
   "metadata": {},
   "outputs": [],
   "source": [
    "b = (10,7)\n",
    "bm = (4,4)\n",
    "mov = df_events[(df_events.xT!=0) & (df_events.team_name == 'Arsenal') & (df_events.result_id==1) ]\n",
    "mov = mov[ mov.type_name.isin([\"pass\",\"cross\"]) ]\n",
    "\n",
    "mov[\"start_sector\"] = mov.apply(lambda row: tuple([i[0] for i in binned_statistic_2d(np.ravel(row.start_x), np.ravel(row.start_y),\n",
    "                                                               values = \"None\", statistic=\"count\",\n",
    "                                                               bins=b, range=[[0, instat_x], [0, instat_y]],\n",
    "                                                               expand_binnumbers=True)[3]]), axis = 1)\n",
    "\n",
    "mov[\"end_sector\"] = mov.apply(lambda row: tuple([i[0] for i in binned_statistic_2d(np.ravel(row.end_x), np.ravel(row.end_y),\n",
    "                                                               values = \"None\", statistic=\"count\",\n",
    "                                                               bins=b, range=[[0, instat_x], [0, instat_y]],\n",
    "                                                               expand_binnumbers=True)[3]]), axis = 1)\n",
    "\n",
    "\n",
    "mov = mov[mov.start_sector==bm]\n",
    "grouped = mov.groupby('end_sector')['xT'].sum().reset_index()\n",
    "list_tuples= []\n",
    "for i in range(1,b[0]+1):\n",
    "    for j in reversed(range(1,b[1]+1)):\n",
    "        list_tuples.append((i,j))\n",
    "index_base = pd.DataFrame(np.array(list_tuples),columns=['x','y'])\n",
    "index_base['index'] = list(zip(index_base.x, index_base.y))\n",
    "index_base.drop(['x','y'],inplace=True,axis=1)\n",
    "\n",
    "grouped = pd.merge(index_base,grouped,how='left',left_on='index',right_on='end_sector')\n",
    "grouped = grouped.fillna(0)\n",
    "\n",
    "grouped_array = np.array(grouped['xT'].values).reshape(b[0],b[1]).T"
   ]
  },
  {
   "cell_type": "code",
   "execution_count": 31,
   "id": "878abca8",
   "metadata": {},
   "outputs": [
    {
     "data": {
      "image/png": "[encoded data removed]",
      "text/plain": [
       "<Figure size 1267.73x900 with 4 Axes>"
      ]
     },
     "metadata": {},
     "output_type": "display_data"
    }
   ],
   "source": [
    "pitch = Pitch(line_zorder=2, line_color='black',pitch_type='uefa')\n",
    "fig, ax = pitch.grid(grid_height=0.9, title_height=0.06, axis=False,\n",
    "                     endnote_height=0.04, title_space=0, endnote_space=0)\n",
    "\n",
    "\n",
    "\n",
    "bin_statistic = pitch.bin_statistic(mov.end_x, mov.end_y, statistic='count', bins=b, normalize=False)\n",
    "bin_statistic['statistic'] = grouped_array\n",
    "#normalize by number of games\n",
    "\n",
    "#make a heatmap\n",
    "pcm  = pitch.heatmap(bin_statistic, cmap='Reds', edgecolor='white', ax=ax['pitch'], alpha=0.9, vmin = 0)\n",
    "pitch.scatter(bin_statistic['cx'][bm[1]-1][bm[0]-1],\n",
    "              bin_statistic['cy'][b[1] - bm[1]][bm[0]-1],\n",
    "              alpha = 0.5, color = \"blue\", ax=ax['pitch'], edgecolors=\"black\",s=200)\n",
    "plt.annotate('', xy=(0.95, -0.005), xycoords='axes fraction', xytext=(0.05, -0.01), \n",
    "            arrowprops=dict(arrowstyle='-|>, head_width=0.75', color='red',lw=3))\n",
    "ax_cbar = fig.add_axes((1, 0.093, 0.03, 0.786))\n",
    "cbar = plt.colorbar(pcm, cax=ax_cbar)\n",
    "fig.suptitle(\"{} - {}, 2023-08-12\\n xT Transicional vía Pase desde un Punto Concreto, {}\".format(games[games.game_id == df_events.game_id.values[0]].home_team.values[0], games[games.game_id == df_events.game_id.values[0]].away_team.values[0],mov.team_name.values[0]), fontsize = 18, weight='bold')\n",
    "plt.show()"
   ]
  }
 ],
 "metadata": {
  "kernelspec": {
   "display_name": "Python 3 (ipykernel)",
   "language": "python",
   "name": "python3"
  },
  "language_info": {
   "codemirror_mode": {
    "name": "ipython",
    "version": 3
   },
   "file_extension": ".py",
   "mimetype": "text/x-python",
   "name": "python",
   "nbconvert_exporter": "python",
   "pygments_lexer": "ipython3",
   "version": "3.9.13"
  }
 },
 "nbformat": 4,
 "nbformat_minor": 5
}
